{
 "cells": [
  {
   "cell_type": "markdown",
   "id": "0b6d82a1",
   "metadata": {},
   "source": [
    "# Encoder in Attention is All You Need (AAYN)\n",
    "\n",
    "### Step 1: Implementationg of Encoder Block\n",
    "\n",
    "\n",
    "### Ref: [The AiEdge Newsletter](https://drive.google.com/file/d/1Je2SAFBlsWcgwzK_gl1_f-LtPK3SOzg3/view)\n",
    "\n",
    "<p float=\"center\">\n",
    "  <img src=\"../../assets/encoder_block.png\" width=\"600\" height=\"250\"> \n",
    "</p>"
   ]
  },
  {
   "cell_type": "code",
   "execution_count": 1,
   "id": "77cc0856",
   "metadata": {},
   "outputs": [],
   "source": [
    "import torch\n",
    "import torch.nn as nn\n",
    "import torch.nn.functional as F"
   ]
  },
  {
   "cell_type": "code",
   "execution_count": 2,
   "id": "8709f4dc",
   "metadata": {},
   "outputs": [],
   "source": [
    "# for encoder block we need 'PositionwiseFeedForward' module (positionwise_feed_forward.ipynb)\n",
    "\n",
    "class PositionwiseFeedForward(nn.Module):\n",
    "    \"\"\"\n",
    "    Implementing position-wise feed forward network\n",
    "\n",
    "    Args:\n",
    "        d_model (int): internal dimension of the model or dimension of embeddings.\n",
    "        (also known as 'hidden_size')\n",
    "        d_ff (int): dimension of feed-forward network (usually larger than d_model)\n",
    "    \"\"\"    \n",
    "    def __init__(self, d_model: int, d_ff: int) -> None:\n",
    "        super().__init__()\n",
    "\n",
    "        self.d_model = d_model\n",
    "        self.d_ff = d_ff\n",
    "        self.W1 = nn.Linear(d_model, d_ff)\n",
    "        self.W2 = nn.Linear(d_ff, d_model)\n",
    "        self.relu = nn.ReLU()\n",
    "\n",
    "    def forward(self, x: torch.Tensor) -> torch.Tensor:\n",
    "        \"\"\"\n",
    "        forward pass of the feed forward network\n",
    "        Args:\n",
    "            x (torch.Tensor): input tensor of shape [batch_size, seq_len, d_model]\n",
    "\n",
    "        Returns:\n",
    "            torch.Tensor: output tensor of shape [batch_size, seq_len, d_model]\n",
    "        \"\"\"        \n",
    "        x = self.W1(x)      # [batch_size, seq_len, d_ff]\n",
    "        x = self.relu(x)    # add non-linearity\n",
    "        x = self.W2(x)      # [batch_size, seq_len, d_model]\n",
    "        return x\n"
   ]
  },
  {
   "cell_type": "code",
   "execution_count": null,
   "id": "71f7a178",
   "metadata": {},
   "outputs": [],
   "source": [
    "class EncoderBlock(nn.Module):\n",
    "    \"\"\"\n",
    "    single transformer block consists of \n",
    "    1. multi-head self attention + residual connection -> normalization layer\n",
    "    2. position-wise feed foward + residual connection -> normalization layer\n",
    "\n",
    "    Args:\n",
    "        d_model (int): internal dimension of the model or dimension of embeddings.\n",
    "        (also known as 'hidden_size')\n",
    "        n_head (int): number of attention heads\n",
    "        d_ff (int): dimension of feed-forward network\n",
    "    \"\"\"    \n",
    "    def __init__(self, d_model: int, n_head: int, d_ff: int) -> None:\n",
    "        super().__init__()\n",
    "\n",
    "        self.d_model = d_model\n",
    "        self.n_head = n_head\n",
    "        self.d_ff = d_ff\n",
    "\n",
    "        # here we use multi-head attention impelementation in pytorch\n",
    "        # see: https://docs.pytorch.org/docs/stable/generated/torch.nn.MultiheadAttention.html\n",
    "        self.self_attn = nn.MultiheadAttention(embed_dim=d_model, num_heads=n_head, batch_first=True)\n",
    "\n",
    "        self.pos_feed_forward = PositionwiseFeedForward(d_model, d_ff)\n",
    "\n",
    "        self.norm1 = nn.LayerNorm(d_model)\n",
    "        self.norm2 = nn.LayerNorm(d_model)\n",
    "\n",
    "    def forward(self, x: torch.Tensor) -> torch.Tensor:\n",
    "        \"\"\"\n",
    "        forward pass of encoder block\n",
    "\n",
    "        Args:\n",
    "            x (torch.Tensor): input embedding of shape [batch_size, seq_len, d_model]\n",
    "\n",
    "        Returns:\n",
    "            torch.Tensor: encoded tensor of shape [batch_size, seq_len, d_model]\n",
    "        \"\"\"        \n",
    "\n",
    "        # 1. self-attention + residual connection that is passed to normalization layer\n",
    "        attn_output, _ = self.self_attn(query=x, key=x, value=x) # [batch_size, seq_len, d_model]\n",
    "        x = self.norm1(x + attn_output)  # [batch_size, seq_len, d_model]\n",
    "\n",
    "        # 2. position-wise feed forward + residual connection that is passed to normalization layer\n",
    "        ff_output = self.pos_feed_forward(x) # [batch_size, seq_len, d_model]\n",
    "        x = self.norm2(x + ff_output)   # [batch_size, seq_len, d_model]\n",
    "        return x"
   ]
  },
  {
   "cell_type": "markdown",
   "id": "34812f82",
   "metadata": {},
   "source": [
    "#### Toy Example: Testing Encoder Block"
   ]
  },
  {
   "cell_type": "code",
   "execution_count": 4,
   "id": "1bfc0cef",
   "metadata": {},
   "outputs": [
    {
     "name": "stdout",
     "output_type": "stream",
     "text": [
      "input x: torch.Size([2, 5]), and embedded: torch.Size([2, 5, 12]), and encoded: torch.Size([2, 5, 12])\n"
     ]
    }
   ],
   "source": [
    "batch_size = 2\n",
    "vocab_size = 15\n",
    "d_model = 12    # or model dim or hidden size\n",
    "seq_len = 5\n",
    "n_head = 3\n",
    "d_ff = 48   # dimension of positional feed forward layer\n",
    "\n",
    "# generate random Token Ids (note that Embedding layer only receives integer values)\n",
    "x = torch.randint(0, vocab_size, (batch_size, seq_len))\n",
    "\n",
    "embedding = nn.Embedding(vocab_size, d_model)\n",
    "embedded = embedding(x)     # [batch_size, seq_len, d_model]\n",
    "\n",
    "enc_block = EncoderBlock(d_model, n_head, d_ff)\n",
    "encoded = enc_block(embedded)\n",
    "\n",
    "print(f'input x: {x.size()}, and embedded: {embedded.size()}, and encoded: {encoded.size()}')"
   ]
  },
  {
   "cell_type": "markdown",
   "id": "bffd64b8",
   "metadata": {},
   "source": [
    "### Step 2: Implementation of Encoder\n",
    "\n",
    "### Ref: [The AiEdge Newsletter](https://drive.google.com/file/d/1Je2SAFBlsWcgwzK_gl1_f-LtPK3SOzg3/view)\n",
    "\n",
    "<p float=\"center\">\n",
    "  <img src=\"../../assets/encoder.png\" width=\"800\" height=\"250\">\n",
    "</p>"
   ]
  },
  {
   "cell_type": "code",
   "execution_count": 5,
   "id": "dbe9056b",
   "metadata": {},
   "outputs": [],
   "source": [
    "# For implementing the encoder, PositionalEncoding is required (positional_encoding.ipynb)\n",
    "\n",
    "class PositionalEncoding(nn.Module):\n",
    "    \"\"\"\n",
    "    simple positional encoding with transformer model (in attention is all you need)\n",
    "\n",
    "    Args:\n",
    "        context_size (int): maximum lenght of the input sequence (also known as max_length)\n",
    "        d_model (int): internal dimension of the model or dimension of embeddings.\n",
    "        (also known as 'hidden_size')\n",
    "    \"\"\"    \n",
    "    def __init__(self, context_size: int, d_model: int):\n",
    "        super().__init__()\n",
    "\n",
    "        pos = torch.arange(0, context_size).unsqueeze(dim=1) # [context_size, 1]\n",
    "        # dimension indices\n",
    "        # for d_model=5 -> ii = (0, 2, 4) and ii[:d_model//2] = (0, 2) (see the figure above)\n",
    "        # this way of implementation, will cover both even and odd values for d_model\n",
    "        i = torch.arange(0, (d_model + 1) // 2)\n",
    "        div_term = 10000 ** (2 * i / d_model)\n",
    "        \n",
    "        # initialize positional encoding [context_size, d_model]\n",
    "        self.encoding = torch.zeros(context_size, d_model)\n",
    "        self.encoding[:, 0::2] = torch.sin(pos / div_term) # even positions\n",
    "        self.encoding[:, 1::2] = torch.cos(pos / div_term[:d_model // 2]) # odd  positions\n",
    "\n",
    "        # Registers positional encoding tensor as part of the module state, but not as a \n",
    "        # learnable parameter (i.e., not updated by gradient descent). Positional encodings \n",
    "        # in the vanilla “Attention Is All You Need” is not trained.\n",
    "        # Moreover, when register as buffer, it moves with model and is saved in state_dict\n",
    "        self.register_buffer('pos_encoding', self.encoding)\n",
    "\n",
    "    def forward(self, x: torch.Tensor) -> torch.Tensor:\n",
    "        \"\"\"\n",
    "        returns positional encoding for a given input tensor x.\n",
    "        (input tensor x is comming from token embedding layer in the transformer architecture)\n",
    "\n",
    "        Args:\n",
    "            x (torch.Tensor): input tensor [batch_size, seq_len, d_model]\n",
    "\n",
    "        Returns:\n",
    "            torch.Tensor: positional encoding slice of shape [seq_len, d_model], \n",
    "            ready to be added to token embeddings.\n",
    "        \"\"\"        \n",
    "        seq_len = x.size(1) # number of tokens in the input sequence\n",
    "        \n",
    "        # make sure to use 'pos_encoding' from self.register_buffer \n",
    "        # (otherwise we can't use the benefits of self.register_buffer)\n",
    "        return self.pos_encoding[:seq_len, :]"
   ]
  },
  {
   "cell_type": "code",
   "execution_count": null,
   "id": "17460a3b",
   "metadata": {},
   "outputs": [],
   "source": [
    "class Encoder(nn.Module):\n",
    "    \"\"\"\n",
    "    Transformer Encoder that consists of \n",
    "    1. token embedding\n",
    "    2. positional embedding\n",
    "    3. N stacked encoder blocks\n",
    "\n",
    "    Args:\n",
    "        input_size (int): vocabulary size\n",
    "        context_size (int): max sequence lenght (max tokens per input)\n",
    "        d_model (int): embedding dimension\n",
    "        n_head (int): number of attention heads\n",
    "        d_ff (int): dimension of positional feed forward network\n",
    "        n_block (int): number of stacked encoder blocks\n",
    "    \"\"\"    \n",
    "    def __init__(self, input_size: int, context_size: int, d_model: int, n_head: int, d_ff: int, n_block: int):\n",
    "        super().__init__()\n",
    "\n",
    "        self.embedding = nn.Embedding(input_size, d_model)\n",
    "        self.pos_embedding = PositionalEncoding(context_size, d_model)\n",
    "\n",
    "        # stacked encoder blocks. \n",
    "        # nn.ModuleList makes sure that all layers are as part of the model that means\n",
    "        # they show up in model.parameters(), they are included in model-state_dict (for saving and loading)\n",
    "        # and the get updated during backpropagation (optimzer.step()), hence can be parallize later as well.\n",
    "        self.blocks = nn.ModuleList([\n",
    "            EncoderBlock(d_model, n_head, d_ff) for _ in range(n_block)\n",
    "        ])\n",
    "\n",
    "    def forward(self, x: torch.Tensor) -> torch.Tensor:\n",
    "        \"\"\"\n",
    "        encoder forward pass\n",
    "\n",
    "        Args:\n",
    "            x (torch.Tensor): input token indices of shape [batch_size, seq_len].\n",
    "            each element is an integer token id.\n",
    "\n",
    "        Returns:\n",
    "            torch.Tensor: output of encoder of shape [batch_size, seq_len, d_model].\n",
    "        \"\"\"        \n",
    "        embedded = self.embedding(x)    # [batch_size, seq_len, d_model]\n",
    "        pos_embedded = self.pos_embedding(x)    # [seq_len, d_model]\n",
    "        x = embedded + pos_embedded     # broadcast -> [batch_size, seq_len, d_model]\n",
    "        for block in self.blocks:\n",
    "            x = block(x)\n",
    "        \n",
    "        return x"
   ]
  },
  {
   "cell_type": "markdown",
   "id": "ea1288cb",
   "metadata": {},
   "source": [
    "#### Toy Example: Testing Encoder"
   ]
  },
  {
   "cell_type": "code",
   "execution_count": 7,
   "id": "8172b8ce",
   "metadata": {},
   "outputs": [
    {
     "name": "stdout",
     "output_type": "stream",
     "text": [
      "input x: torch.Size([5, 10]), and encoded: torch.Size([5, 10, 25])\n"
     ]
    }
   ],
   "source": [
    "batch_size = 5\n",
    "vocab_size = 100\n",
    "d_model = 25    # or model dim or hidden size\n",
    "seq_len = 10\n",
    "n_head = 5\n",
    "d_ff = 200\n",
    "n_block = 5\n",
    "\n",
    "\n",
    "# generate random Token Ids (note that Embedding layer only receives integer values)\n",
    "x = torch.randint(0, vocab_size, (batch_size, seq_len))\n",
    "\n",
    "encoder = Encoder(input_size=vocab_size, context_size=seq_len, d_model=d_model, n_head=n_head, d_ff=d_ff, n_block=n_block)\n",
    "encoded = encoder(x)\n",
    "\n",
    "print(f'input x: {x.size()}, and encoded: {encoded.size()}')"
   ]
  },
  {
   "cell_type": "code",
   "execution_count": 8,
   "id": "38e4783a",
   "metadata": {},
   "outputs": [
    {
     "data": {
      "text/plain": [
       "Encoder(\n",
       "  (embedding): Embedding(100, 25)\n",
       "  (pos_embedding): PositionalEncoding()\n",
       "  (blocks): ModuleList(\n",
       "    (0-4): 5 x EncoderBlock(\n",
       "      (self_attn): MultiheadAttention(\n",
       "        (out_proj): NonDynamicallyQuantizableLinear(in_features=25, out_features=25, bias=True)\n",
       "      )\n",
       "      (pos_feed_forward): PositionwiseFeedForward(\n",
       "        (W1): Linear(in_features=25, out_features=200, bias=True)\n",
       "        (W2): Linear(in_features=200, out_features=25, bias=True)\n",
       "        (relu): ReLU()\n",
       "      )\n",
       "      (norm1): LayerNorm((25,), eps=1e-05, elementwise_affine=True)\n",
       "      (norm2): LayerNorm((25,), eps=1e-05, elementwise_affine=True)\n",
       "    )\n",
       "  )\n",
       ")"
      ]
     },
     "execution_count": 8,
     "metadata": {},
     "output_type": "execute_result"
    }
   ],
   "source": [
    "encoder"
   ]
  }
 ],
 "metadata": {
  "kernelspec": {
   "display_name": "llmenv",
   "language": "python",
   "name": "venv"
  },
  "language_info": {
   "codemirror_mode": {
    "name": "ipython",
    "version": 3
   },
   "file_extension": ".py",
   "mimetype": "text/x-python",
   "name": "python",
   "nbconvert_exporter": "python",
   "pygments_lexer": "ipython3",
   "version": "3.11.11"
  }
 },
 "nbformat": 4,
 "nbformat_minor": 5
}
