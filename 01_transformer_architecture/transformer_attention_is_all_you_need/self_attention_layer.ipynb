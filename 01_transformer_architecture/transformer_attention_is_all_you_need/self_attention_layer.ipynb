{
 "cells": [
  {
   "cell_type": "markdown",
   "id": "c43c0dba",
   "metadata": {},
   "source": [
    "# Implementing Self-Attention Layer\n",
    "\n",
    "### Ref: [The AiEdge Newsletter](https://drive.google.com/file/d/1Je2SAFBlsWcgwzK_gl1_f-LtPK3SOzg3/view)\n",
    "\n",
    "<img src=\"../../assets/attention_layer.png\" width=\"700\" height=\"350\">"
   ]
  },
  {
   "cell_type": "code",
   "execution_count": 1,
   "id": "cf3897cf",
   "metadata": {},
   "outputs": [],
   "source": [
    "import torch\n",
    "import torch.nn as nn\n",
    "import torch.nn.functional as F"
   ]
  },
  {
   "cell_type": "code",
   "execution_count": null,
   "id": "d3f72051",
   "metadata": {},
   "outputs": [],
   "source": [
    "class SelfAttention(nn.Module):\n",
    "    \"\"\"\n",
    "    single-head self-attention\n",
    "\n",
    "    Args:\n",
    "        d_in (int): input (embedding) dimension (in standard transformer d_in = d_model (or hidden_size))\n",
    "        d_out (int): output dimension (in standard transformer d_out = d_model (or hidden_size))\n",
    "    \"\"\"    \n",
    "    def __init__(self, d_in: int, d_out: int) -> None:   \n",
    "        super().__init__()\n",
    "        self.d_in = d_in\n",
    "        self.d_out = d_out\n",
    "\n",
    "        # linear projections for key, queries and values that maps [d_in] -> [d_out]\n",
    "        self.K = nn.Linear(d_in, d_out)\n",
    "        self.Q = nn.Linear(d_in, d_out)\n",
    "        self.V = nn.Linear(d_in, d_out)\n",
    "\n",
    "    def forward(self, x: torch.Tensor) -> torch.Tensor:\n",
    "        \"\"\"\n",
    "        compute attension\n",
    "\n",
    "        Args:\n",
    "            x (torch.Tensor): input tensor of shape [batch_size, seq_len, d_in]\n",
    "\n",
    "        Returns:\n",
    "            hidden_states (torch.Tensor): output of shape [batch_size, seq_len, d_out] \n",
    "        \"\"\"        \n",
    "        keys = self.K(x)    # transforming input to output with size [batch_size, seq_len, d_out]\n",
    "        queries = self.Q(x) # [batch_size, seq_len, d_out]\n",
    "        values = self.V(x)  # [batch_size, seq_len, d_out]\n",
    "\n",
    "        # scores = torch.bmm(keys, queries.transpose(1,2))\n",
    "        # scale scores to prevent large values when d_out is big\n",
    "        scores = queries @ keys.transpose(-2, -1) / self.d_out ** 0.5   # [batch_size, seq_len, seq_len]\n",
    "        self_attn = F.softmax(scores, dim=-1)\n",
    "\n",
    "        # hidden_states = torch.bmm(self_attn, values)\n",
    "        hidden_states = self_attn @ values  # [batch_size, seq_len, d_out] (context vectors in the figure above)\n",
    "        return hidden_states"
   ]
  },
  {
   "cell_type": "markdown",
   "id": "bdb1054f",
   "metadata": {},
   "source": [
    "#### Toy Example 1"
   ]
  },
  {
   "cell_type": "code",
   "execution_count": 9,
   "id": "577538ee",
   "metadata": {},
   "outputs": [
    {
     "name": "stdout",
     "output_type": "stream",
     "text": [
      "input x: torch.Size([2, 10, 6]), and hidden state: torch.Size([2, 10, 23])\n"
     ]
    }
   ],
   "source": [
    "batch_size = 2\n",
    "seq_len = 10    # 10 tokens per each sequence\n",
    "d_in = 6        # input embedding dim\n",
    "d_out = 23      # output hidden state dim (after attention)\n",
    "\n",
    "\n",
    "x = torch.randn(batch_size, seq_len, d_in)\n",
    "attn = SelfAttention(d_in, d_out)\n",
    "hidden_state = attn(x)\n",
    "\n",
    "print(f'input x: {x.size()}, and hidden state: {hidden_state.size()}')"
   ]
  },
  {
   "cell_type": "markdown",
   "id": "892fdc10",
   "metadata": {},
   "source": [
    "#### Toy Example 2 (with Embedding)"
   ]
  },
  {
   "cell_type": "code",
   "execution_count": 10,
   "id": "d9750c84",
   "metadata": {},
   "outputs": [
    {
     "name": "stdout",
     "output_type": "stream",
     "text": [
      "input x: torch.Size([2, 5]), and embedded: torch.Size([2, 5, 10]), and hidden state: torch.Size([2, 5, 10])\n"
     ]
    }
   ],
   "source": [
    "batch_size = 2\n",
    "vocab_size = 15\n",
    "d_model = 10    # or model dim or hidden size\n",
    "seq_len = 5\n",
    "\n",
    "# generate random Token Ids (note that Embedding layer only receives integer values)\n",
    "x = torch.randint(0, vocab_size, (batch_size, seq_len))\n",
    "\n",
    "embedding = nn.Embedding(vocab_size, d_model)\n",
    "embedded = embedding(x)     # [batch_size, seq_len, d_model]\n",
    "\n",
    "attn = SelfAttention(d_model, d_model)\n",
    "hidden_state = attn(embedded)   # [batch_size, seq_len, d_model]\n",
    "\n",
    "print(f'input x: {x.size()}, and embedded: {embedded.size()}, and hidden state: {hidden_state.size()}')"
   ]
  },
  {
   "cell_type": "code",
   "execution_count": null,
   "id": "101f153b",
   "metadata": {},
   "outputs": [],
   "source": []
  }
 ],
 "metadata": {
  "kernelspec": {
   "display_name": "llmenv",
   "language": "python",
   "name": "venv"
  },
  "language_info": {
   "codemirror_mode": {
    "name": "ipython",
    "version": 3
   },
   "file_extension": ".py",
   "mimetype": "text/x-python",
   "name": "python",
   "nbconvert_exporter": "python",
   "pygments_lexer": "ipython3",
   "version": "3.11.11"
  }
 },
 "nbformat": 4,
 "nbformat_minor": 5
}
