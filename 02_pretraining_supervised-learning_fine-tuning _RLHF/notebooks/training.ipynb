{
 "cells": [
  {
   "cell_type": "markdown",
   "id": "377dc0fa",
   "metadata": {},
   "source": [
    "# Training a (Toy) Language Model with Hugging Face\n",
    "\n",
    "The following notebook was developed as part of the online course  \n",
    "[**Train, Fine-Tune, and Deploy LLMs**](https://learn.theaiedge.io/p/the-large-language-bootcamp).\n",
    "\n",
    "<p float=\"center\">\n",
    "  <img src=\"../../assets/llmpretraining.png\" width=\"750\" height=\"300\"> \n",
    "</p>\n",
    "\n",
    "\n",
    "### Goal: How to (Re-)Train a (Toy) Causal Language Model with Hugging Face\n",
    "This notebook walks through a workflow of pre-training a small casual language model.\n",
    "(It is designed of experimentation purposes on limited available hardware.)\n",
    "\n",
    "#### Workflow\n",
    "1. **Data Preparation**\n",
    "    - load a small dataset (in this notebook, it is a subset of English Wikipedia dataset)\n",
    "    - perform train/test split\n",
    "    - tokenize text for casual langulage modeling\n",
    "    - (if necessary) add padding token\n",
    "2. **Pretrained Model Inspection**\n",
    "    - load original pretrained causual lagnuage model (in this notebook `Mistral-7B`) from Hugging face Hub\n",
    "    - generate sample text to use as baseline\n",
    "3. **Custom small Model Configuration**\n",
    "    - define a smaller Mistral-like architecture (e.g., fewer layers, smaller hidden size, reduced context window, etc.)\n",
    "    - instantiate the model\n",
    "4. **Training Setup**\n",
    "    - Use `DataCollatorForLanguageModelling` for casual Language Modelling Training\n",
    "    - Configure `Trainer` and `TrainerArguments`\n",
    "    - Train the model on a (toy) small dataset\n",
    "5. **Evaluate & Metrics**\n",
    "    - compare generated text with original pretrained model (in this notebook `Mistral-7B`) outpus\n",
    "    - compute perplexity on the evaluation set\n",
    "    - compute perplexity on the same evaluation set for the original model\n",
    "    - compare calculated perplexity metrics derived for toy model and the original one.\n",
    "    - visualize training & evaluation loss as well as evaulation perplexity for every epoch\n",
    "6. **Model Hub Integration**\n",
    "    - (optional) push the trained model to the Hugging Face Hub"
   ]
  },
  {
   "cell_type": "code",
   "execution_count": 1,
   "id": "6ecc4502",
   "metadata": {},
   "outputs": [],
   "source": [
    "# enabling autoreloading of modules. This ensures any local edits/changes \n",
    "# to python modules are automatically reloaded without restarting the notebook\n",
    "%load_ext autoreload\n",
    "%autoreload 2"
   ]
  },
  {
   "cell_type": "code",
   "execution_count": 2,
   "id": "501a2ecc",
   "metadata": {},
   "outputs": [],
   "source": [
    "import os\n",
    "from dotenv import load_dotenv\n",
    "\n",
    "# load enviroment variables from .env file\n",
    "load_dotenv()\n",
    "\n",
    "# retrieve hugging face api token from environment (the token should be set in .env file \n",
    "# as HF_TOKEN=<huggingface_toke>)\n",
    "hf_token = os.getenv('HF_TOKEN')\n",
    "hf_username = os.getenv('HF_USERNAME')\n",
    "\n",
    "# make sure that transformers, datasets and other libraries can access to HF token\n",
    "os.environ['HF_TOKEN'] = hf_token"
   ]
  },
  {
   "cell_type": "code",
   "execution_count": 3,
   "id": "e20e26bf",
   "metadata": {},
   "outputs": [],
   "source": [
    "# Move model to device (prefer MPS on Apple Silicon, else CPU/GPU)\n",
    "import torch\n",
    "device = 'mps' if torch.backends.mps.is_available() else 'cpu'"
   ]
  },
  {
   "cell_type": "markdown",
   "id": "bda630ec",
   "metadata": {},
   "source": [
    "### 1. Data Prepartion"
   ]
  },
  {
   "cell_type": "code",
   "execution_count": 4,
   "id": "090ce897",
   "metadata": {},
   "outputs": [
    {
     "data": {
      "application/vnd.jupyter.widget-view+json": {
       "model_id": "07acfdd22d5841d1a8603ba8be703702",
       "version_major": 2,
       "version_minor": 0
      },
      "text/plain": [
       "Resolving data files:   0%|          | 0/41 [00:00<?, ?it/s]"
      ]
     },
     "metadata": {},
     "output_type": "display_data"
    }
   ],
   "source": [
    "from datasets import load_dataset\n",
    "\n",
    "# load small subset of wikipedia dataset (english language)\n",
    "wikids = load_dataset(\n",
    "    path=\"wikimedia/wikipedia\",     # dataset namespace and name\n",
    "    name=\"20231101.en\",             # snapshot date (November 1st, 2023) + language code\n",
    "    split=\"train[0:1000]\",          # use only 1000 samples of data\n",
    "    cache_dir=None,                 # set a custom cache dir for faster reloads\n",
    "    keep_in_memory=False,           # keep in RAM (default False). Disabling the cache and copying the dataset in-memory will speed up dataset operations\n",
    ")"
   ]
  },
  {
   "cell_type": "code",
   "execution_count": 5,
   "id": "5504acb8",
   "metadata": {},
   "outputs": [
    {
     "data": {
      "text/plain": [
       "Dataset({\n",
       "    features: ['id', 'url', 'title', 'text'],\n",
       "    num_rows: 1000\n",
       "})"
      ]
     },
     "execution_count": 5,
     "metadata": {},
     "output_type": "execute_result"
    }
   ],
   "source": [
    "wikids"
   ]
  },
  {
   "cell_type": "code",
   "execution_count": 6,
   "id": "3cdf466c",
   "metadata": {},
   "outputs": [
    {
     "data": {
      "text/plain": [
       "Dataset({\n",
       "    features: ['id', 'url', 'title', 'text'],\n",
       "    num_rows: 1000\n",
       "})"
      ]
     },
     "metadata": {},
     "output_type": "display_data"
    },
    {
     "data": {
      "text/plain": [
       "'Anarchism is a political philosophy and movement that is skeptical of all justifications for authori'"
      ]
     },
     "execution_count": 6,
     "metadata": {},
     "output_type": "execute_result"
    }
   ],
   "source": [
    "# quick sanity check:\n",
    "# a) inspect first sample\n",
    "display(wikids)\n",
    "\n",
    "# b) preview first 100 characters of the first document\n",
    "wikids['text'][0][:100]"
   ]
  },
  {
   "cell_type": "code",
   "execution_count": 7,
   "id": "16f21c53",
   "metadata": {},
   "outputs": [
    {
     "data": {
      "text/plain": [
       "DatasetDict({\n",
       "    train: Dataset({\n",
       "        features: ['id', 'url', 'title', 'text'],\n",
       "        num_rows: 900\n",
       "    })\n",
       "    test: Dataset({\n",
       "        features: ['id', 'url', 'title', 'text'],\n",
       "        num_rows: 100\n",
       "    })\n",
       "})"
      ]
     },
     "execution_count": 7,
     "metadata": {},
     "output_type": "execute_result"
    }
   ],
   "source": [
    "# split dataset into train and test sets\n",
    "wikids = wikids.train_test_split(test_size=0.1)\n",
    "wikids"
   ]
  },
  {
   "cell_type": "code",
   "execution_count": 8,
   "id": "1ddfc0c2",
   "metadata": {},
   "outputs": [],
   "source": [
    "from transformers import AutoTokenizer\n",
    "\n",
    "# load pretrained tokenizer from hugging face hub\n",
    "# https://huggingface.co/mistralai/Mistral-7B-v0.3\n",
    "model_id = 'mistralai/Mistral-7B-v0.3'\n",
    "\n",
    "tokenizer = AutoTokenizer.from_pretrained(\n",
    "    pretrained_model_name_or_path=model_id\n",
    ")"
   ]
  },
  {
   "cell_type": "code",
   "execution_count": 9,
   "id": "3ec81e7d",
   "metadata": {},
   "outputs": [
    {
     "data": {
      "text/plain": [
       "{'bos_token': '<s>', 'eos_token': '</s>', 'unk_token': '<unk>'}"
      ]
     },
     "metadata": {},
     "output_type": "display_data"
    },
    {
     "name": "stdout",
     "output_type": "stream",
     "text": [
      "None </s> <s> <unk>\n"
     ]
    }
   ],
   "source": [
    "# inspect tokenizer config and default tokens\n",
    "display(tokenizer.special_tokens_map)\n",
    "\n",
    "print(tokenizer.pad_token, tokenizer.eos_token, tokenizer.bos_token, tokenizer.unk_token)"
   ]
  },
  {
   "cell_type": "code",
   "execution_count": 10,
   "id": "6a563d88",
   "metadata": {},
   "outputs": [],
   "source": [
    "# if tokenizer has no padding token defined (like Mistral 7B model), set on explicitly.\n",
    "# hugging face convetion is to use '<|pad|>' for generative models\n",
    "tokenizer.pad_token = '<|pad|>'"
   ]
  },
  {
   "cell_type": "code",
   "execution_count": 12,
   "id": "0cb0c3c8",
   "metadata": {},
   "outputs": [
    {
     "name": "stdout",
     "output_type": "stream",
     "text": [
      "last 10 and first 10 INPUT_IDS of the first training sample:\n"
     ]
    },
    {
     "data": {
      "text/plain": [
       "([2929, 781, 2693, 1125, 1556, 1122, 5008, 1170, 7749, 5303],\n",
       " [0, 0, 0, 0, 0, 0, 0, 0, 0, 0])"
      ]
     },
     "metadata": {},
     "output_type": "display_data"
    },
    {
     "name": "stdout",
     "output_type": "stream",
     "text": [
      "last 10 and first 10 ATTENTION_MASK of the first training sample:\n"
     ]
    },
    {
     "data": {
      "text/plain": [
       "([1, 1, 1, 1, 1, 1, 1, 1, 1, 1], [0, 0, 0, 0, 0, 0, 0, 0, 0, 0])"
      ]
     },
     "metadata": {},
     "output_type": "display_data"
    },
    {
     "name": "stdout",
     "output_type": "stream",
     "text": [
      "padded token id is: 0\n"
     ]
    }
   ],
   "source": [
    "# sanity checks for padding token by considering large max_length\n",
    "# in this case, attention mask will have 0 values for padded tokens\n",
    "out0 = tokenizer(wikids['train']['text'][0], max_length=20_000, padding='max_length', padding_side='left')\n",
    "\n",
    "print('last 10 and first 10 INPUT_IDS of the first training sample:')\n",
    "display((out0['input_ids'][-10:], out0['input_ids'][:10]))\n",
    "\n",
    "print('last 10 and first 10 ATTENTION_MASK of the first training sample:')\n",
    "display((out0['attention_mask'][-10:], out0['attention_mask'][:10]))\n",
    "\n",
    "print('padded token id is:', tokenizer.pad_token_id)"
   ]
  },
  {
   "cell_type": "code",
   "execution_count": 12,
   "id": "da132dc6",
   "metadata": {},
   "outputs": [
    {
     "data": {
      "text/plain": [
       "{'id': '1799',\n",
       " 'url': 'https://en.wikipedia.org/wiki/ATP',\n",
       " 'title': 'ATP',\n",
       " 'text': \"ATP may refer to:\\n\\nScience, technology and biology \\nAdenosine triphosphate, an organic chemical used for driving biological processes\\nATPase, any enzyme that makes use of adenosine triphosphate\\nAdvanced Technology Program, US government program\\nAnti-tachycardia pacing, process similar to a pacemaker\\nAlberta Taciuk process, for extracting oil from shale, etc.\\nAutomated theorem proving, method of proving mathematical theorems by computer programs\\n\\nCompanies and organizations \\n\\n Association of Tennis Professionals, men's professional tennis governing body\\nATP Tour\\n American Technical Publishers, employee-owned publishing company\\n Armenia Tree Project, non-profit organization\\n Association for Transpersonal Psychology\\n ATP architects engineers, architecture- and engineering office for integrated design\\n ATP Oil and Gas, defunct US energy company\\n\\nEntertainment, arts and media \\nAdenosine Tri-Phosphate (band), Japanese alternative rock/pop band\\nAll Tomorrow's Parties (festival), UK organisation\\nATP Recordings, record label\\nAlberta Theatre Projects, professional, not-for-profit, Canadian theatre company\\nAssociated Talking Pictures, former name of Ealing Studios, a television and film production company\\n\\nTransport \\nBritish Aerospace ATP, airliner\\n Airline transport pilot license\\n ATP Flight School, US\\n ATP (treaty), UN treaty that establishes standards for the international transport of perishable food\\n Aitape Airport, Papua New Guinea, IATA code\\n Anti-trespass panels, meant to deter pedestrians from walking on or adjacent to train tracks\\n Automatic train protection, system installed in trains to prevent collisions through driver error\\nAutomatic Train Protection (United Kingdom), method of beacon based railway cab signalling\\n\\nEconomics \\n Available-to-promise, responding to customer order enquiries\\n , a Danish pension\\n , a Swedish pension\\n\\nOther uses \\n Around-the-post, a term used in the game of pickleball\"}"
      ]
     },
     "execution_count": 12,
     "metadata": {},
     "output_type": "execute_result"
    }
   ],
   "source": [
    "wikids['train'][1]"
   ]
  },
  {
   "cell_type": "code",
   "execution_count": 13,
   "id": "9b835439",
   "metadata": {},
   "outputs": [
    {
     "data": {
      "application/vnd.jupyter.widget-view+json": {
       "model_id": "516a0cdc76864cf7baf8035600334455",
       "version_major": 2,
       "version_minor": 0
      },
      "text/plain": [
       "Map:   0%|          | 0/900 [00:00<?, ? examples/s]"
      ]
     },
     "metadata": {},
     "output_type": "display_data"
    },
    {
     "data": {
      "application/vnd.jupyter.widget-view+json": {
       "model_id": "802ed72964254015af98398033b56d80",
       "version_major": 2,
       "version_minor": 0
      },
      "text/plain": [
       "Map:   0%|          | 0/100 [00:00<?, ? examples/s]"
      ]
     },
     "metadata": {},
     "output_type": "display_data"
    }
   ],
   "source": [
    "from typing import Dict, List, Any\n",
    "\n",
    "# define max token lengths for inputs\n",
    "max_length = 512\n",
    "\n",
    "def tokenize_function(sample: Dict[str, List[str]]) -> Dict[str, Any]:\n",
    "    \"\"\"\n",
    "    tokenize a batch of text samples for casual language modeling\n",
    "\n",
    "    Args:\n",
    "        sample (Dict[str, List[str]]): a dictionary of dataset fields, where each field maps to a list of values.\n",
    "        - Expected key: \"text\" (List[str]), a batch of raw text strings\n",
    "        - Example: {\n",
    "            ..., \n",
    "            'text': [\n",
    "                'Abimelech (also spelled Abimelek ...',\n",
    "                'Athene or Athena is the shrewd ...',\n",
    "                ...\n",
    "            ]\n",
    "        }\n",
    "\n",
    "    Returns:\n",
    "        Dict[str, Any]: a dictionary with tokenized outputs, where each key corresponds to a model input filed:\n",
    "        - 'input_ids' (List[List[int]): encoded token ids\n",
    "        - 'attention_mask' (List[list[int]]): 1 for tokends to attend, and 0 for padding\n",
    "        - 'token_type_ids' (Optional[List[list[int]]]): only for tokenizers that use them\n",
    "    \"\"\"    \n",
    "    \n",
    "    return tokenizer(\n",
    "        sample['text'],             # batch of raw text strings\n",
    "        padding='max_length',       # pad to a fixed length for batching\n",
    "        truncation=True,            # truncate large texts if len(text) > max_length\n",
    "        return_tensors='pt',        # return as pytorch tensors\n",
    "        add_special_tokens=True,    # ensure begginging and end of sentence (<\\bos>, and <\\eos>) are added.\n",
    "        max_length=max_length,      # hard cap on senquence length\n",
    "    )\n",
    "\n",
    "\n",
    "# apply tokenizer across dataset\n",
    "tokenized = wikids.map(\n",
    "    tokenize_function, \n",
    "    batched=True, \n",
    "    remove_columns=wikids['train'].column_names     # in case of wikids, columns are ['id', 'url', 'title', 'text']\n",
    ")"
   ]
  },
  {
   "cell_type": "code",
   "execution_count": 14,
   "id": "2dc8bf62",
   "metadata": {},
   "outputs": [
    {
     "data": {
      "text/plain": [
       "DatasetDict({\n",
       "    train: Dataset({\n",
       "        features: ['input_ids', 'attention_mask'],\n",
       "        num_rows: 900\n",
       "    })\n",
       "    test: Dataset({\n",
       "        features: ['input_ids', 'attention_mask'],\n",
       "        num_rows: 100\n",
       "    })\n",
       "})"
      ]
     },
     "execution_count": 14,
     "metadata": {},
     "output_type": "execute_result"
    }
   ],
   "source": [
    "# in comparision to wikids, features ['id', 'url', 'title', 'text'] were removed \n",
    "# and ['input_ids', 'attention_mask'] were added.\n",
    "tokenized"
   ]
  },
  {
   "cell_type": "markdown",
   "id": "7d56c45b",
   "metadata": {},
   "source": [
    "### 2. Pretrained Model Inspection\n",
    "\n",
    "**Checkout the text generation of the PRETRAINED Mistral-7B model**"
   ]
  },
  {
   "cell_type": "code",
   "execution_count": 15,
   "id": "0025047a",
   "metadata": {},
   "outputs": [
    {
     "data": {
      "application/vnd.jupyter.widget-view+json": {
       "model_id": "5374318d20b947c69d178c4956069ee0",
       "version_major": 2,
       "version_minor": 0
      },
      "text/plain": [
       "Loading checkpoint shards:   0%|          | 0/3 [00:00<?, ?it/s]"
      ]
     },
     "metadata": {},
     "output_type": "display_data"
    },
    {
     "name": "stderr",
     "output_type": "stream",
     "text": [
      "Setting `pad_token_id` to `eos_token_id`:2 for open-end generation.\n"
     ]
    },
    {
     "data": {
      "text/plain": [
       "'<s> Once upon a time, there was a little girl who loved to read. She loved to read so much that she would read books over and over again. She would read books about princesses and fairies and dragons and wizards. She would read books about pirates and mermaids and unicorns and witches. She would read books about knights and castles and kings and queens. She would read books about magic and adventure and mystery and romance. She'"
      ]
     },
     "execution_count": 15,
     "metadata": {},
     "output_type": "execute_result"
    }
   ],
   "source": [
    "from transformers import MistralForCausalLM, MistralConfig\n",
    "\n",
    "# get the original pretrained Mistral 7B model and check the model output\n",
    "# we want to compare the results with a smaller trained model!\n",
    "model_org = MistralForCausalLM.from_pretrained(model_id, device_map='mps')\n",
    "\n",
    "# generate output using the PRETRAINED MISTRAL MODEL \n",
    "inputs = tokenizer(\"Once upon a time\", return_tensors=\"pt\").to(model_org.device)\n",
    "outputs = model_org.generate(**inputs, max_length=100)\n",
    "tokenizer.decode(outputs[0], skip_special_tokens=False)"
   ]
  },
  {
   "cell_type": "markdown",
   "id": "2487b29c",
   "metadata": {},
   "source": [
    "### 3. Custom small Model Configuration\n",
    "**Define a smaller Mistral-like config for experimentation**"
   ]
  },
  {
   "cell_type": "code",
   "execution_count": 16,
   "id": "2f5947c3",
   "metadata": {},
   "outputs": [
    {
     "data": {
      "text/plain": [
       "MistralConfig {\n",
       "  \"attention_dropout\": 0.0,\n",
       "  \"bos_token_id\": 1,\n",
       "  \"eos_token_id\": 2,\n",
       "  \"head_dim\": 128,\n",
       "  \"hidden_act\": \"silu\",\n",
       "  \"hidden_size\": 4096,\n",
       "  \"initializer_range\": 0.02,\n",
       "  \"intermediate_size\": 14336,\n",
       "  \"max_position_embeddings\": 131072,\n",
       "  \"model_type\": \"mistral\",\n",
       "  \"num_attention_heads\": 32,\n",
       "  \"num_hidden_layers\": 32,\n",
       "  \"num_key_value_heads\": 8,\n",
       "  \"rms_norm_eps\": 1e-06,\n",
       "  \"rope_theta\": 10000.0,\n",
       "  \"sliding_window\": 4096,\n",
       "  \"tie_word_embeddings\": false,\n",
       "  \"transformers_version\": \"4.48.1\",\n",
       "  \"use_cache\": true,\n",
       "  \"vocab_size\": 32000\n",
       "}"
      ]
     },
     "execution_count": 16,
     "metadata": {},
     "output_type": "execute_result"
    }
   ],
   "source": [
    "MistralConfig()"
   ]
  },
  {
   "cell_type": "code",
   "execution_count": 17,
   "id": "48601a33",
   "metadata": {},
   "outputs": [],
   "source": [
    "# consider smaller model that fits on my laptop\n",
    "config = MistralConfig(\n",
    "    hidden_size=1024,                       # reduced hidden size (default 4096 in Mistral-7B model)\n",
    "    sliding_window=1024,                    # reduced sliding window (default 4096 in Mistral-7B model)\n",
    "    intermediate_size=3077*2,               # FeedForward Network size (default 14336 in Mistral-7B model)\n",
    "    max_position_embeddings=max_length,     # reduced max_position_embeddings (default 131072 in Mistral 7B-Model)\n",
    "    num_attention_heads=16,                 # reduced num_attention_heads (default 32 in Mistral-7B model)\n",
    "    num_hidden_layers=8                     # Number of decoder blocks (default 32 in Mistral-7B model)\n",
    ")\n",
    "\n",
    "\n",
    "# instantiate small Mistral model from customized config file\n",
    "model = MistralForCausalLM(config)\n",
    "model = model.to(device)"
   ]
  },
  {
   "cell_type": "code",
   "execution_count": 18,
   "id": "5b837848",
   "metadata": {},
   "outputs": [
    {
     "name": "stdout",
     "output_type": "stream",
     "text": [
      "mps:0\n"
     ]
    }
   ],
   "source": [
    "# check if model parameters are on 'mps'\n",
    "print(next(model.parameters()).device)"
   ]
  },
  {
   "cell_type": "code",
   "execution_count": 19,
   "id": "61c4019e",
   "metadata": {},
   "outputs": [
    {
     "name": "stdout",
     "output_type": "stream",
     "text": [
      "Model parameter count: 241,959,936\n"
     ]
    }
   ],
   "source": [
    "# inspect model size\n",
    "model_param_size = sum([param.numel() for param in model.parameters()])\n",
    "print(f'Model parameter count: {model_param_size:,}')"
   ]
  },
  {
   "cell_type": "markdown",
   "id": "fba05739",
   "metadata": {},
   "source": [
    "### 4. Training Setup"
   ]
  },
  {
   "cell_type": "code",
   "execution_count": null,
   "id": "4e28b75d",
   "metadata": {},
   "outputs": [],
   "source": [
    "# in causual language model, the labels are the same as input\n",
    "from transformers import DataCollatorForLanguageModeling\n",
    "\n",
    "# data collator prepares batches of tokenized text for training\n",
    "# in causal ML training, labels are identical to inputs \n",
    "# (however, HuggingFace automatically shifts the labels during trainig)\n",
    "data_collator = DataCollatorForLanguageModeling(\n",
    "    tokenizer=tokenizer,\n",
    "    mlm=False, # no masked language modelling -> causual LM\n",
    "    return_tensors='pt'\n",
    ")"
   ]
  },
  {
   "cell_type": "code",
   "execution_count": null,
   "id": "cf63dac3",
   "metadata": {},
   "outputs": [
    {
     "data": {
      "text/plain": [
       "{'input_ids': tensor([[    1,  1098, 24285,  ...,  2142, 14833,  1093],\n",
       "        [    0,     0,     0,  ...,  3856,  1059,  3435]]), 'attention_mask': tensor([[1, 1, 1,  ..., 1, 1, 1],\n",
       "        [0, 0, 0,  ..., 1, 1, 1]]), 'labels': tensor([[    1,  1098, 24285,  ...,  2142, 14833,  1093],\n",
       "        [ -100,  -100,  -100,  ...,  3856,  1059,  3435]])}"
      ]
     },
     "execution_count": 21,
     "metadata": {},
     "output_type": "execute_result"
    }
   ],
   "source": [
    "# test batch collation\n",
    "\n",
    "# note that tokenized['train'][i] is a dictionary with keys: input_ids, attention_mask, etc.\n",
    "# and tokenized['train'][0:1] returns a Dataset object (a slice of length 1), not a list of dicts.\n",
    "data_collator(\n",
    "    [tokenized['train'][i] for i in range(2)]   # a list of dictionaries\n",
    ")   # creates a batch of 2 samples"
   ]
  },
  {
   "cell_type": "code",
   "execution_count": 22,
   "id": "b04105cb",
   "metadata": {},
   "outputs": [
    {
     "data": {
      "text/html": [
       "\n",
       "    <div>\n",
       "      \n",
       "      <progress value='2250' max='2250' style='width:300px; height:20px; vertical-align: middle;'></progress>\n",
       "      [2250/2250 21:37, Epoch 10/10]\n",
       "    </div>\n",
       "    <table border=\"1\" class=\"dataframe\">\n",
       "  <thead>\n",
       " <tr style=\"text-align: left;\">\n",
       "      <th>Epoch</th>\n",
       "      <th>Training Loss</th>\n",
       "      <th>Validation Loss</th>\n",
       "    </tr>\n",
       "  </thead>\n",
       "  <tbody>\n",
       "    <tr>\n",
       "      <td>1</td>\n",
       "      <td>7.142700</td>\n",
       "      <td>6.458823</td>\n",
       "    </tr>\n",
       "    <tr>\n",
       "      <td>2</td>\n",
       "      <td>6.087000</td>\n",
       "      <td>6.056936</td>\n",
       "    </tr>\n",
       "    <tr>\n",
       "      <td>3</td>\n",
       "      <td>5.497400</td>\n",
       "      <td>5.884968</td>\n",
       "    </tr>\n",
       "    <tr>\n",
       "      <td>4</td>\n",
       "      <td>4.911800</td>\n",
       "      <td>5.838583</td>\n",
       "    </tr>\n",
       "    <tr>\n",
       "      <td>5</td>\n",
       "      <td>4.329300</td>\n",
       "      <td>5.884121</td>\n",
       "    </tr>\n",
       "    <tr>\n",
       "      <td>6</td>\n",
       "      <td>3.803100</td>\n",
       "      <td>5.979115</td>\n",
       "    </tr>\n",
       "    <tr>\n",
       "      <td>7</td>\n",
       "      <td>3.358000</td>\n",
       "      <td>6.069305</td>\n",
       "    </tr>\n",
       "    <tr>\n",
       "      <td>8</td>\n",
       "      <td>2.994200</td>\n",
       "      <td>6.164049</td>\n",
       "    </tr>\n",
       "    <tr>\n",
       "      <td>9</td>\n",
       "      <td>2.710100</td>\n",
       "      <td>6.212510</td>\n",
       "    </tr>\n",
       "    <tr>\n",
       "      <td>10</td>\n",
       "      <td>2.518900</td>\n",
       "      <td>6.260774</td>\n",
       "    </tr>\n",
       "  </tbody>\n",
       "</table><p>"
      ],
      "text/plain": [
       "<IPython.core.display.HTML object>"
      ]
     },
     "metadata": {},
     "output_type": "display_data"
    },
    {
     "data": {
      "text/plain": [
       "TrainOutput(global_step=2250, training_loss=4.335245985243056, metrics={'train_runtime': 1298.0726, 'train_samples_per_second': 6.933, 'train_steps_per_second': 1.733, 'total_flos': 5783738646528000.0, 'train_loss': 4.335245985243056, 'epoch': 10.0})"
      ]
     },
     "execution_count": 22,
     "metadata": {},
     "output_type": "execute_result"
    }
   ],
   "source": [
    "from transformers import Trainer, TrainingArguments\n",
    "\n",
    "# define training argument (adjust based on available resources)\n",
    "trainings_args = TrainingArguments(\n",
    "    output_dir=\"mistral7B/pretrained\",  # where to save the model\n",
    "    overwrite_output_dir=True,          # overwrite the content of the output directory\n",
    "    num_train_epochs=10,                # number of training epochs\n",
    "    per_device_train_batch_size=4,      # batch size for training\n",
    "    per_device_eval_batch_size=4,       # batch size for evaluation\n",
    "    eval_strategy=\"epoch\",              # log eval metrics at each epoch\n",
    "    logging_strategy=\"epoch\",           # log training loss at each epoch\n",
    "    save_strategy=\"no\",                 # disables checkpoint saving altogether (for model experimentation)\n",
    "    report_to='none',                   # disable wandb as we are not using it here\n",
    "    bf16=False,                         # use bf16 if your GPU supports it\n",
    "    push_to_hub=True,                   # whether to push the model to the Hub or not (default False)\n",
    "    hub_model_id=f'{hf_username}/dummy-pretrained-mistral7b',  # set the repo name\n",
    "    hub_private_repo=False              # set True for private repo\n",
    ")\n",
    "\n",
    "# Trainer handles training loop, evaluation, and logging\n",
    "trainer = Trainer(\n",
    "    model=model,\n",
    "    args=trainings_args,\n",
    "    train_dataset=tokenized['train'],\n",
    "    eval_dataset=tokenized['test'],\n",
    "    data_collator=data_collator,\n",
    "    processing_class=tokenizer\n",
    ")\n",
    "\n",
    "# train (small) model on a small dataset (for experimentation purpose)\n",
    "trainer.train()"
   ]
  },
  {
   "cell_type": "markdown",
   "id": "2b9f193f",
   "metadata": {},
   "source": [
    "### 5. Evaluate & Metrics"
   ]
  },
  {
   "cell_type": "code",
   "execution_count": 23,
   "id": "7f348a07",
   "metadata": {},
   "outputs": [
    {
     "name": "stderr",
     "output_type": "stream",
     "text": [
      "Setting `pad_token_id` to `eos_token_id`:2 for open-end generation.\n"
     ]
    },
    {
     "data": {
      "text/plain": [
       "'Once upon a time of the in which a name of the ancient Greek Greek Greek 35th century to his father as the Greek. He was the Greek Greek. \\n\\nLife\\n\\nAncia was a son of King\\n\\nAncia, a son of King\\n\\nSee also\\n\\nSee also\\n\\nSee also\\n\\nSee also\\n\\nSee also\\n\\nSee also\\n\\nSee also\\n\\nSee also\\n\\nBon (disambiguation\\n'"
      ]
     },
     "execution_count": 23,
     "metadata": {},
     "output_type": "execute_result"
    }
   ],
   "source": [
    "# quick text generation (and compared with the output of the pretrained Mistral-7B model)\n",
    "inputs = tokenizer(\"Once upon a time\", return_tensors=\"pt\").to(model.device)\n",
    "outputs = model.generate(**inputs, max_length=100)\n",
    "tokenizer.decode(outputs[0], skip_special_tokens=True)"
   ]
  },
  {
   "cell_type": "markdown",
   "id": "8c5edd4b",
   "metadata": {},
   "source": [
    "#### Perplexity Metric\n",
    "To measure the quality of lm training, a common metric is perplexity which is defined as follows:\n",
    "> $\\text{Perplexity} = 2^{\\left\\{ -\\frac{1}{T} \\sum_{i=1}^{T} \\log_2 p(t_i) \\right\\}} = e^{\\left\\{ -\\frac{1}{T} \\sum_{i=1}^{T} \\ln p(t_i) \\right\\}}$\n",
    "\n",
    "where $T$ is total number of tokens in test set and $p(t_i)$ is probability of ith token in test set (Note that $\\log_2(x) = \\frac{\\ln x}{\\ln 2}$ is used to rewrite perplexity from base-2 log to base-$e$ one). \n",
    "\n",
    "#### Interpretation\n",
    "- If the model is perfectly confident in predicting the next token, then **Perplexity = 1**.  \n",
    "- Higher values indicate more uncertainty. For example:  \n",
    "  - A perplexity of **500** means that, on average, predicting the next token is as uncertain as choosing uniformly among **500 equally likely options**.  \n",
    "  - The original **pretrained Mistral-7B** model achieves a perplexity of around **5** on the same dataset, showing that our toy model severely underperforms in comparison."
   ]
  },
  {
   "cell_type": "code",
   "execution_count": 24,
   "id": "866117c3",
   "metadata": {},
   "outputs": [
    {
     "data": {
      "text/html": [
       "\n",
       "    <div>\n",
       "      \n",
       "      <progress value='25' max='25' style='width:300px; height:20px; vertical-align: middle;'></progress>\n",
       "      [25/25 00:04]\n",
       "    </div>\n",
       "    "
      ],
      "text/plain": [
       "<IPython.core.display.HTML object>"
      ]
     },
     "metadata": {},
     "output_type": "display_data"
    },
    {
     "name": "stdout",
     "output_type": "stream",
     "text": [
      "Perplexity: 523.6241393300244\n"
     ]
    }
   ],
   "source": [
    "# evaluate perplexity metric for the small (toy) model\n",
    "import math\n",
    "\n",
    "eval_results = trainer.evaluate()\n",
    "if eval_results.get('eval_loss'):\n",
    "    print(\"Perplexity:\", math.exp(eval_results[\"eval_loss\"]))"
   ]
  },
  {
   "cell_type": "code",
   "execution_count": 26,
   "id": "63cc6e6b",
   "metadata": {},
   "outputs": [
    {
     "data": {
      "text/html": [
       "\n",
       "    <div>\n",
       "      \n",
       "      <progress value='7' max='7' style='width:300px; height:20px; vertical-align: middle;'></progress>\n",
       "      [7/7 01:16]\n",
       "    </div>\n",
       "    "
      ],
      "text/plain": [
       "<IPython.core.display.HTML object>"
      ]
     },
     "metadata": {},
     "output_type": "display_data"
    },
    {
     "name": "stdout",
     "output_type": "stream",
     "text": [
      "Perplexity of pretrained Mistral-7B: 4.798891173887928\n"
     ]
    }
   ],
   "source": [
    "# lets compare the perplexity metric of the toy model with the original Mistral-7B one.\n",
    "\n",
    "# define temporary training arguments (needed just for evaluation and not training)\n",
    "eval_args = TrainingArguments(\n",
    "    output_dir = 'eval_temp',\n",
    "    per_device_eval_batch_size=16,   # adjust based on available memory\n",
    "    report_to='none'\n",
    ")\n",
    "\n",
    "# use the same data collator\n",
    "trainer_org = Trainer(\n",
    "    model=model_org,\n",
    "    args=eval_args,\n",
    "    eval_dataset=tokenized['test'],\n",
    "    data_collator=data_collator,\n",
    "    processing_class=tokenizer\n",
    ")\n",
    "\n",
    "# Evaluate loss on test set\n",
    "eval_results_org = trainer_org.evaluate()\n",
    "if eval_results_org.get(\"eval_loss\"):\n",
    "    ppl = math.exp(eval_results_org[\"eval_loss\"])\n",
    "    print(\"Perplexity of pretrained Mistral-7B:\", ppl)"
   ]
  },
  {
   "cell_type": "markdown",
   "id": "d9488288",
   "metadata": {},
   "source": [
    "Visualization of loss and perplexity for every training epoch"
   ]
  },
  {
   "cell_type": "code",
   "execution_count": 27,
   "id": "936c496a",
   "metadata": {},
   "outputs": [
    {
     "data": {
      "application/vnd.microsoft.datawrangler.viewer.v0+json": {
       "columns": [
        {
         "name": "index",
         "rawType": "int64",
         "type": "integer"
        },
        {
         "name": "epoch",
         "rawType": "float64",
         "type": "float"
        },
        {
         "name": "loss",
         "rawType": "float64",
         "type": "float"
        },
        {
         "name": "eval_loss",
         "rawType": "float64",
         "type": "float"
        },
        {
         "name": "perplexity",
         "rawType": "float64",
         "type": "float"
        }
       ],
       "ref": "810e6259-5d40-4716-8067-cc35fd1841f6",
       "rows": [
        [
         "0",
         "1.0",
         "7.1427",
         null,
         null
        ],
        [
         "1",
         "1.0",
         null,
         "6.458822727203369",
         "638.3091500586511"
        ],
        [
         "2",
         "2.0",
         "6.087",
         null,
         null
        ],
        [
         "3",
         "2.0",
         null,
         "6.056936264038086",
         "427.06501604488716"
        ],
        [
         "4",
         "3.0",
         "5.4974",
         null,
         null
        ],
        [
         "5",
         "3.0",
         null,
         "5.884967803955078",
         "359.5911903961097"
        ],
        [
         "6",
         "4.0",
         "4.9118",
         null,
         null
        ],
        [
         "7",
         "4.0",
         null,
         "5.838583469390869",
         "343.2927114500877"
        ],
        [
         "8",
         "5.0",
         "4.3293",
         null,
         null
        ],
        [
         "9",
         "5.0",
         null,
         "5.884120941162109",
         "359.28679490508387"
        ],
        [
         "10",
         "6.0",
         "3.8031",
         null,
         null
        ],
        [
         "11",
         "6.0",
         null,
         "5.979115009307861",
         "395.09056192067237"
        ],
        [
         "12",
         "7.0",
         "3.358",
         null,
         null
        ],
        [
         "13",
         "7.0",
         null,
         "6.069304943084717",
         "432.380048365337"
        ],
        [
         "14",
         "8.0",
         "2.9942",
         null,
         null
        ],
        [
         "15",
         "8.0",
         null,
         "6.16404914855957",
         "475.3489417553942"
        ],
        [
         "16",
         "9.0",
         "2.7101",
         null,
         null
        ],
        [
         "17",
         "9.0",
         null,
         "6.212509632110596",
         "498.95186696476065"
        ],
        [
         "18",
         "10.0",
         "2.5189",
         null,
         null
        ],
        [
         "19",
         "10.0",
         null,
         "6.2607741355896",
         "523.6241393300244"
        ],
        [
         "20",
         "10.0",
         null,
         null,
         null
        ],
        [
         "21",
         "10.0",
         null,
         "6.2607741355896",
         "523.6241393300244"
        ]
       ],
       "shape": {
        "columns": 4,
        "rows": 22
       }
      },
      "text/html": [
       "<div>\n",
       "<style scoped>\n",
       "    .dataframe tbody tr th:only-of-type {\n",
       "        vertical-align: middle;\n",
       "    }\n",
       "\n",
       "    .dataframe tbody tr th {\n",
       "        vertical-align: top;\n",
       "    }\n",
       "\n",
       "    .dataframe thead th {\n",
       "        text-align: right;\n",
       "    }\n",
       "</style>\n",
       "<table border=\"1\" class=\"dataframe\">\n",
       "  <thead>\n",
       "    <tr style=\"text-align: right;\">\n",
       "      <th></th>\n",
       "      <th>epoch</th>\n",
       "      <th>loss</th>\n",
       "      <th>eval_loss</th>\n",
       "      <th>perplexity</th>\n",
       "    </tr>\n",
       "  </thead>\n",
       "  <tbody>\n",
       "    <tr>\n",
       "      <th>0</th>\n",
       "      <td>1.0</td>\n",
       "      <td>7.1427</td>\n",
       "      <td>NaN</td>\n",
       "      <td>NaN</td>\n",
       "    </tr>\n",
       "    <tr>\n",
       "      <th>1</th>\n",
       "      <td>1.0</td>\n",
       "      <td>NaN</td>\n",
       "      <td>6.458823</td>\n",
       "      <td>638.309150</td>\n",
       "    </tr>\n",
       "    <tr>\n",
       "      <th>2</th>\n",
       "      <td>2.0</td>\n",
       "      <td>6.0870</td>\n",
       "      <td>NaN</td>\n",
       "      <td>NaN</td>\n",
       "    </tr>\n",
       "    <tr>\n",
       "      <th>3</th>\n",
       "      <td>2.0</td>\n",
       "      <td>NaN</td>\n",
       "      <td>6.056936</td>\n",
       "      <td>427.065016</td>\n",
       "    </tr>\n",
       "    <tr>\n",
       "      <th>4</th>\n",
       "      <td>3.0</td>\n",
       "      <td>5.4974</td>\n",
       "      <td>NaN</td>\n",
       "      <td>NaN</td>\n",
       "    </tr>\n",
       "    <tr>\n",
       "      <th>5</th>\n",
       "      <td>3.0</td>\n",
       "      <td>NaN</td>\n",
       "      <td>5.884968</td>\n",
       "      <td>359.591190</td>\n",
       "    </tr>\n",
       "    <tr>\n",
       "      <th>6</th>\n",
       "      <td>4.0</td>\n",
       "      <td>4.9118</td>\n",
       "      <td>NaN</td>\n",
       "      <td>NaN</td>\n",
       "    </tr>\n",
       "    <tr>\n",
       "      <th>7</th>\n",
       "      <td>4.0</td>\n",
       "      <td>NaN</td>\n",
       "      <td>5.838583</td>\n",
       "      <td>343.292711</td>\n",
       "    </tr>\n",
       "    <tr>\n",
       "      <th>8</th>\n",
       "      <td>5.0</td>\n",
       "      <td>4.3293</td>\n",
       "      <td>NaN</td>\n",
       "      <td>NaN</td>\n",
       "    </tr>\n",
       "    <tr>\n",
       "      <th>9</th>\n",
       "      <td>5.0</td>\n",
       "      <td>NaN</td>\n",
       "      <td>5.884121</td>\n",
       "      <td>359.286795</td>\n",
       "    </tr>\n",
       "    <tr>\n",
       "      <th>10</th>\n",
       "      <td>6.0</td>\n",
       "      <td>3.8031</td>\n",
       "      <td>NaN</td>\n",
       "      <td>NaN</td>\n",
       "    </tr>\n",
       "    <tr>\n",
       "      <th>11</th>\n",
       "      <td>6.0</td>\n",
       "      <td>NaN</td>\n",
       "      <td>5.979115</td>\n",
       "      <td>395.090562</td>\n",
       "    </tr>\n",
       "    <tr>\n",
       "      <th>12</th>\n",
       "      <td>7.0</td>\n",
       "      <td>3.3580</td>\n",
       "      <td>NaN</td>\n",
       "      <td>NaN</td>\n",
       "    </tr>\n",
       "    <tr>\n",
       "      <th>13</th>\n",
       "      <td>7.0</td>\n",
       "      <td>NaN</td>\n",
       "      <td>6.069305</td>\n",
       "      <td>432.380048</td>\n",
       "    </tr>\n",
       "    <tr>\n",
       "      <th>14</th>\n",
       "      <td>8.0</td>\n",
       "      <td>2.9942</td>\n",
       "      <td>NaN</td>\n",
       "      <td>NaN</td>\n",
       "    </tr>\n",
       "    <tr>\n",
       "      <th>15</th>\n",
       "      <td>8.0</td>\n",
       "      <td>NaN</td>\n",
       "      <td>6.164049</td>\n",
       "      <td>475.348942</td>\n",
       "    </tr>\n",
       "    <tr>\n",
       "      <th>16</th>\n",
       "      <td>9.0</td>\n",
       "      <td>2.7101</td>\n",
       "      <td>NaN</td>\n",
       "      <td>NaN</td>\n",
       "    </tr>\n",
       "    <tr>\n",
       "      <th>17</th>\n",
       "      <td>9.0</td>\n",
       "      <td>NaN</td>\n",
       "      <td>6.212510</td>\n",
       "      <td>498.951867</td>\n",
       "    </tr>\n",
       "    <tr>\n",
       "      <th>18</th>\n",
       "      <td>10.0</td>\n",
       "      <td>2.5189</td>\n",
       "      <td>NaN</td>\n",
       "      <td>NaN</td>\n",
       "    </tr>\n",
       "    <tr>\n",
       "      <th>19</th>\n",
       "      <td>10.0</td>\n",
       "      <td>NaN</td>\n",
       "      <td>6.260774</td>\n",
       "      <td>523.624139</td>\n",
       "    </tr>\n",
       "    <tr>\n",
       "      <th>20</th>\n",
       "      <td>10.0</td>\n",
       "      <td>NaN</td>\n",
       "      <td>NaN</td>\n",
       "      <td>NaN</td>\n",
       "    </tr>\n",
       "    <tr>\n",
       "      <th>21</th>\n",
       "      <td>10.0</td>\n",
       "      <td>NaN</td>\n",
       "      <td>6.260774</td>\n",
       "      <td>523.624139</td>\n",
       "    </tr>\n",
       "  </tbody>\n",
       "</table>\n",
       "</div>"
      ],
      "text/plain": [
       "    epoch    loss  eval_loss  perplexity\n",
       "0     1.0  7.1427        NaN         NaN\n",
       "1     1.0     NaN   6.458823  638.309150\n",
       "2     2.0  6.0870        NaN         NaN\n",
       "3     2.0     NaN   6.056936  427.065016\n",
       "4     3.0  5.4974        NaN         NaN\n",
       "5     3.0     NaN   5.884968  359.591190\n",
       "6     4.0  4.9118        NaN         NaN\n",
       "7     4.0     NaN   5.838583  343.292711\n",
       "8     5.0  4.3293        NaN         NaN\n",
       "9     5.0     NaN   5.884121  359.286795\n",
       "10    6.0  3.8031        NaN         NaN\n",
       "11    6.0     NaN   5.979115  395.090562\n",
       "12    7.0  3.3580        NaN         NaN\n",
       "13    7.0     NaN   6.069305  432.380048\n",
       "14    8.0  2.9942        NaN         NaN\n",
       "15    8.0     NaN   6.164049  475.348942\n",
       "16    9.0  2.7101        NaN         NaN\n",
       "17    9.0     NaN   6.212510  498.951867\n",
       "18   10.0  2.5189        NaN         NaN\n",
       "19   10.0     NaN   6.260774  523.624139\n",
       "20   10.0     NaN        NaN         NaN\n",
       "21   10.0     NaN   6.260774  523.624139"
      ]
     },
     "execution_count": 27,
     "metadata": {},
     "output_type": "execute_result"
    }
   ],
   "source": [
    "import pandas as pd \n",
    "\n",
    "# get training logs and convert it to dataframe\n",
    "logs = trainer.state.log_history\n",
    "df_logs = pd.DataFrame(logs)\n",
    "df_logs = df_logs[[\"epoch\", \"loss\", \"eval_loss\"]].dropna(how=\"all\")\n",
    "\n",
    "# compute perplexity from eval_loss for every epoch\n",
    "df_logs['perplexity'] = df_logs['eval_loss'].apply(lambda x: math.exp(x) if pd.notnull(x) else None)\n",
    "df_logs"
   ]
  },
  {
   "cell_type": "code",
   "execution_count": null,
   "id": "c95b92da",
   "metadata": {},
   "outputs": [
    {
     "data": {
      "image/png": "[encoded data removed]",
      "text/plain": [
       "<Figure size 1200x500 with 2 Axes>"
      ]
     },
     "metadata": {},
     "output_type": "display_data"
    }
   ],
   "source": [
    "import matplotlib.pyplot as plt\n",
    "\n",
    "# --- Plotting ---\n",
    "fig, (ax1, ax2) = plt.subplots(1, 2, figsize=(12,5))\n",
    "\n",
    "# Plot training & evaluation loss\n",
    "ax1.plot(df_logs[\"epoch\"], df_logs[\"loss\"], label=\"Training Loss\", color=\"blue\", marker=\"o\")\n",
    "ax1.plot(df_logs[\"epoch\"], df_logs[\"eval_loss\"], label=\"Eval Loss\", color=\"orange\", marker=\"x\")\n",
    "ax1.set_xlabel(\"Epochs\")\n",
    "ax1.set_ylabel(\"Loss\")\n",
    "ax1.set_title(\"Training vs Evaluation Loss\")\n",
    "ax1.legend()\n",
    "\n",
    "# Plot perplexity (calcuated on the evaluation set)\n",
    "ax2.plot(df_logs[\"epoch\"], df_logs[\"perplexity\"], label=\"Perplexity\", color=\"red\", marker=\"s\")\n",
    "ax2.axhline(y=5, color=\"green\", linestyle=\"--\", label=\"Mistral-7B (pretrained)\")\n",
    "ax2.set_xlabel(\"Epochs\")\n",
    "ax2.set_ylabel(\"Perplexity\")\n",
    "ax2.set_title(\"Evaluation Perplexity\")\n",
    "ax2.legend()\n",
    "\n",
    "plt.tight_layout()\n",
    "plt.show()"
   ]
  },
  {
   "cell_type": "markdown",
   "id": "9b99f47c",
   "metadata": {},
   "source": [
    "### 6. Model Hub Integration"
   ]
  },
  {
   "cell_type": "code",
   "execution_count": 29,
   "id": "6ec543b1",
   "metadata": {},
   "outputs": [
    {
     "data": {
      "application/vnd.jupyter.widget-view+json": {
       "model_id": "986cd2fbd91242c4ab6633b10f7940e9",
       "version_major": 2,
       "version_minor": 0
      },
      "text/plain": [
       "Upload 2 LFS files:   0%|          | 0/2 [00:00<?, ?it/s]"
      ]
     },
     "metadata": {},
     "output_type": "display_data"
    },
    {
     "data": {
      "application/vnd.jupyter.widget-view+json": {
       "model_id": "1ebdbb06162043b88370df4c12f72bdf",
       "version_major": 2,
       "version_minor": 0
      },
      "text/plain": [
       "training_args.bin:   0%|          | 0.00/5.30k [00:00<?, ?B/s]"
      ]
     },
     "metadata": {},
     "output_type": "display_data"
    },
    {
     "data": {
      "application/vnd.jupyter.widget-view+json": {
       "model_id": "074c9fdae6f84637b56c4730a20437c5",
       "version_major": 2,
       "version_minor": 0
      },
      "text/plain": [
       "model.safetensors:   0%|          | 0.00/968M [00:00<?, ?B/s]"
      ]
     },
     "metadata": {},
     "output_type": "display_data"
    }
   ],
   "source": [
    "# push the model to huggingface hub (we want to use it later for fine tuning)\n",
    "trainer.push_to_hub();"
   ]
  },
  {
   "cell_type": "code",
   "execution_count": null,
   "id": "ee05964e",
   "metadata": {},
   "outputs": [],
   "source": [
    "# if removing the model from hugging face is desired\n",
    "from huggingface_hub import delete_repo\n",
    "\n",
    "# delete a model repo\n",
    "delete_repo(\n",
    "    repo_id=f\"{hf_username}/my_repo_id\",\n",
    "    repo_type=\"model\"                # defaults to dataset\n",
    ")"
   ]
  }
 ],
 "metadata": {
  "kernelspec": {
   "display_name": "llmenv",
   "language": "python",
   "name": "venv"
  },
  "language_info": {
   "codemirror_mode": {
    "name": "ipython",
    "version": 3
   },
   "file_extension": ".py",
   "mimetype": "text/x-python",
   "name": "python",
   "nbconvert_exporter": "python",
   "pygments_lexer": "ipython3",
   "version": "3.11.11"
  }
 },
 "nbformat": 4,
 "nbformat_minor": 5
}
