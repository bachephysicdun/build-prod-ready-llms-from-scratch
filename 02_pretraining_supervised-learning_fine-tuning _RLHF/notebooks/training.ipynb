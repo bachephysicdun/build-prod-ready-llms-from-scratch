{
 "cells": [
  {
   "cell_type": "markdown",
   "id": "377dc0fa",
   "metadata": {},
   "source": [
    "# Training a (Toy) Language Model with Hugging Face\n",
    "\n",
    "The following notebook was developed as part of the online course  \n",
    "[**Train, Fine-Tune, and Deploy LLMs**](https://learn.theaiedge.io/p/the-large-language-bootcamp).\n",
    "\n",
    "Goal of this notebook is to see how one can (pre-)train a (toy) causual language model.\n",
    "\n",
    "<p float=\"center\">\n",
    "  <img src=\"../../assets/llmpretraining.png\" width=\"750\" height=\"300\"> \n",
    "</p>"
   ]
  },
  {
   "cell_type": "code",
   "execution_count": 1,
   "id": "6ecc4502",
   "metadata": {},
   "outputs": [],
   "source": [
    "# enabling autoreloading of modules. This ensures any local edits/changes \n",
    "# to python modules are automatically reloaded without restarting the notebook\n",
    "%load_ext autoreload\n",
    "%autoreload 2"
   ]
  },
  {
   "cell_type": "code",
   "execution_count": 2,
   "id": "501a2ecc",
   "metadata": {},
   "outputs": [],
   "source": [
    "import os\n",
    "from dotenv import load_dotenv\n",
    "\n",
    "# load enviroment variables from .env file\n",
    "load_dotenv()\n",
    "\n",
    "# retrieve hugging face api token from environment (the token should be set in .env file \n",
    "# as HF_TOKEN=<huggingface_toke>)\n",
    "hf_token = os.getenv('HF_TOKEN')\n",
    "\n",
    "# make sure that transformers, datasets and other libraries can access to HF token\n",
    "os.environ['HF_TOKEN'] = hf_token"
   ]
  },
  {
   "cell_type": "code",
   "execution_count": 3,
   "id": "e20e26bf",
   "metadata": {},
   "outputs": [],
   "source": [
    "# Move model to device (prefer MPS on Apple Silicon, else CPU/GPU)\n",
    "import torch\n",
    "device = 'mps' if torch.backends.mps.is_available() else 'cpu'"
   ]
  },
  {
   "cell_type": "code",
   "execution_count": 4,
   "id": "090ce897",
   "metadata": {},
   "outputs": [
    {
     "data": {
      "application/vnd.jupyter.widget-view+json": {
       "model_id": "8877d670faed418f8d66dd99f461d57c",
       "version_major": 2,
       "version_minor": 0
      },
      "text/plain": [
       "Resolving data files:   0%|          | 0/41 [00:00<?, ?it/s]"
      ]
     },
     "metadata": {},
     "output_type": "display_data"
    }
   ],
   "source": [
    "from datasets import load_dataset\n",
    "\n",
    "# load small subset of wikipedia dataset (english language)\n",
    "wikids = load_dataset(\n",
    "    path=\"wikimedia/wikipedia\",     # dataset namespace and name\n",
    "    name=\"20231101.en\",             # snapshot date (November 1st, 2023) + language code\n",
    "    split=\"train[0:1000]\",          # use only 1000 samples of data\n",
    "    cache_dir=None,                 # set a custom cache dir for faster reloads\n",
    "    keep_in_memory=False,           # keep in RAM (default False). Disabling the cache and copying the dataset in-memory will speed up dataset operations\n",
    ")"
   ]
  },
  {
   "cell_type": "code",
   "execution_count": 5,
   "id": "5504acb8",
   "metadata": {},
   "outputs": [
    {
     "data": {
      "text/plain": [
       "Dataset({\n",
       "    features: ['id', 'url', 'title', 'text'],\n",
       "    num_rows: 1000\n",
       "})"
      ]
     },
     "execution_count": 5,
     "metadata": {},
     "output_type": "execute_result"
    }
   ],
   "source": [
    "wikids"
   ]
  },
  {
   "cell_type": "code",
   "execution_count": 6,
   "id": "3cdf466c",
   "metadata": {},
   "outputs": [
    {
     "data": {
      "text/plain": [
       "{'id': '12',\n",
       " 'url': 'https://en.wikipedia.org/wiki/Anarchism',\n",
       " 'title': 'Anarchism',\n",
       " 'text': 'Anarchism is a political philosophy and movement that is skeptical of all justifications for authority and seeks to abolish the institutions it claims maintain unnecessary coercion and hierarchy, typically including nation-states, and capitalism. Anarchism advocates for the replacement of the state with stateless societies and voluntary free associations. As a historically left-wing movement, this reading of anarchism is placed on the farthest left of the political spectrum, usually described as the libertarian wing of the socialist movement (libertarian socialism).\\n\\nHumans have lived in societies without formal hierarchies long before the establishment of states, realms, or empires. With the rise of organised hierarchical bodies, scepticism toward authority also rose. Although traces of anarchist ideas are found all throughout history, modern anarchism emerged from the Enlightenment. During the latter half of the 19th and the first decades of the 20th century, the anarchist movement flourished in most parts of the world and had a significant role in workers\\' struggles for emancipation. Various anarchist schools of thought formed during this period. Anarchists have taken part in several revolutions, most notably in the Paris Commune, the Russian Civil War and the Spanish Civil War, whose end marked the end of the classical era of anarchism. In the last decades of the 20th and into the 21st century, the anarchist movement has been resurgent once more, growing in popularity and influence within anti-capitalist, anti-war and anti-globalisation movements.\\n\\nAnarchists employ diverse approaches, which may be generally divided into revolutionary and evolutionary strategies; there is significant overlap between the two. Evolutionary methods try to simulate what an anarchist society might be like, but revolutionary tactics, which have historically taken a violent turn, aim to overthrow authority and the state. Many facets of human civilization have been influenced by anarchist theory, critique, and praxis.\\n\\nEtymology, terminology, and definition \\n\\nThe etymological origin of anarchism is from the Ancient Greek anarkhia, meaning \"without a ruler\", composed of the prefix an- (\"without\") and the word arkhos (\"leader\" or \"ruler\"). The suffix -ism denotes the ideological current that favours anarchy. Anarchism appears in English from 1642 as anarchisme and anarchy from 1539; early English usages emphasised a sense of disorder. Various factions within the French Revolution labelled their opponents as anarchists, although few such accused shared many views with later anarchists. Many revolutionaries of the 19th century such as William Godwin (1756–1836) and Wilhelm Weitling (1808–1871) would contribute to the anarchist doctrines of the next generation but did not use anarchist or anarchism in describing themselves or their beliefs.\\n\\nThe first political philosopher to call himself an anarchist () was Pierre-Joseph Proudhon (1809–1865), marking the formal birth of anarchism in the mid-19th century. Since the 1890s and beginning in France, libertarianism has often been used as a synonym for anarchism and its use as a synonym is still common outside the United States. Some usages of libertarianism refer to individualistic free-market philosophy only, and free-market anarchism in particular is termed libertarian anarchism.\\n\\nWhile the term libertarian has been largely synonymous with anarchism, its meaning has more recently been diluted by wider adoption from ideologically disparate groups, including both the New Left and libertarian Marxists, who do not associate themselves with authoritarian socialists or a vanguard party, and extreme cultural liberals, who are primarily concerned with civil liberties. Additionally, some anarchists use libertarian socialist to avoid anarchism\\'s negative connotations and emphasise its connections with socialism. Anarchism is broadly used to describe the anti-authoritarian wing of the socialist movement. Anarchism is contrasted to socialist forms which are state-oriented or from above. Scholars of anarchism generally highlight anarchism\\'s socialist credentials and criticise attempts at creating dichotomies between the two. Some scholars describe anarchism as having many influences from liberalism, and being both liberal and socialist but more so. Many scholars reject anarcho-capitalism as a misunderstanding of anarchist principles.\\n\\nWhile opposition to the state is central to anarchist thought, defining anarchism is not an easy task for scholars, as there is a lot of discussion among scholars and anarchists on the matter, and various currents perceive anarchism slightly differently. Major definitional elements include the will for a non-coercive society, the rejection of the state apparatus, the belief that human nature allows humans to exist in or progress toward such a non-coercive society, and a suggestion on how to act to pursue the ideal of anarchy.\\n\\nHistory\\n\\nPre-modern era \\n\\nBefore the creation of towns and cities, established authority did not exist. It was after the institution of authority that anarchistic ideas were espoused as a reaction. The most notable precursors to anarchism in the ancient world were in China and Greece. In China, philosophical anarchism (the discussion on the legitimacy of the state) was delineated by Taoist philosophers Zhuang Zhou and Laozi. Alongside Stoicism, Taoism has been said to have had \"significant anticipations\" of anarchism.\\n\\nAnarchic attitudes were also articulated by tragedians and philosophers in Greece. Aeschylus and Sophocles used the myth of Antigone to illustrate the conflict between laws imposed by the state and personal autonomy. Socrates questioned Athenian authorities constantly and insisted on the right of individual freedom of conscience. Cynics dismissed human law (nomos) and associated authorities while trying to live according to nature (physis). Stoics were supportive of a society based on unofficial and friendly relations among its citizens without the presence of a state.\\n\\nIn medieval Europe, there was no anarchistic activity except some ascetic religious movements. These, and other Muslim movements, later gave birth to religious anarchism. In the Sasanian Empire, Mazdak called for an egalitarian society and the abolition of monarchy, only to be soon executed by Emperor Kavad I.\\n\\nIn Basra, religious sects preached against the state. In Europe, various sects developed anti-state and libertarian tendencies. Renewed interest in antiquity during the Renaissance and in private judgment during the Reformation restored elements of anti-authoritarian secularism, particularly in France. Enlightenment challenges to intellectual authority (secular and religious) and the revolutions of the 1790s and 1848 all spurred the ideological development of what became the era of classical anarchism.\\n\\nModern era \\nDuring the French Revolution, partisan groups such as the Enragés and the  saw a turning point in the fermentation of anti-state and federalist sentiments. The first anarchist currents developed throughout the 18th century as William Godwin espoused philosophical anarchism in England, morally delegitimising the state, Max Stirner\\'s thinking paved the way to individualism and Pierre-Joseph Proudhon\\'s theory of mutualism found fertile soil in France. By the late 1870s, various anarchist schools of thought had become well-defined and a wave of then unprecedented globalisation occurred from 1880 to 1914. This era of classical anarchism lasted until the end of the Spanish Civil War and is considered the golden age of anarchism.\\n\\nDrawing from mutualism, Mikhail Bakunin founded collectivist anarchism and entered the International Workingmen\\'s Association, a class worker union later known as the First International that formed in 1864 to unite diverse revolutionary currents. The International became a significant political force, with Karl Marx being a leading figure and a member of its General Council. Bakunin\\'s faction (the Jura Federation) and Proudhon\\'s followers (the mutualists) opposed state socialism, advocating political abstentionism and small property holdings. After bitter disputes, the Bakuninists were expelled from the International by the Marxists at the 1872 Hague Congress. Anarchists were treated similarly in the Second International, being ultimately expelled in 1896. Bakunin famously predicted that if revolutionaries gained power by Marx\\'s terms, they would end up the new tyrants of workers. In response to their expulsion from the First International, anarchists formed the St. Imier International. Under the influence of Peter Kropotkin, a Russian philosopher and scientist, anarcho-communism overlapped with collectivism. Anarcho-communists, who drew inspiration from the 1871 Paris Commune, advocated for free federation and for the distribution of goods according to one\\'s needs.\\n\\nBy the turn of the 20th century, anarchism had spread all over the world. It was a notable feature of the international syndicalist movement. In China, small groups of students imported the humanistic pro-science version of anarcho-communism. Tokyo was a hotspot for rebellious youth from East Asian countries, who moved to the Japanese capital to study. In Latin America, Argentina was a stronghold for anarcho-syndicalism, where it became the most prominent left-wing ideology. During this time, a minority of anarchists adopted tactics of revolutionary political violence, known as propaganda of the deed. The dismemberment of the French socialist movement into many groups and the execution and exile of many Communards to penal colonies following the suppression of the Paris Commune favoured individualist political expression and acts. Even though many anarchists distanced themselves from these terrorist acts, infamy came upon the movement and attempts were made to prevent anarchists immigrating to the US, including the Immigration Act of 1903, also called the Anarchist Exclusion Act. Illegalism was another strategy which some anarchists adopted during this period.\\n\\nDespite concerns, anarchists enthusiastically participated in the Russian Revolution in opposition to the White movement, especially in the Makhnovshchina; however, they met harsh suppression after the Bolshevik government had stabilised, including during the Kronstadt rebellion. Several anarchists from Petrograd and Moscow fled to Ukraine, before the Bolsheviks crushed the anarchist movement there too. With the anarchists being repressed in Russia, two new antithetical currents emerged, namely platformism and synthesis anarchism. The former sought to create a coherent group that would push for revolution while the latter were against anything that would resemble a political party. Seeing the victories of the Bolsheviks in the October Revolution and the resulting Russian Civil War, many workers and activists turned to communist parties which grew at the expense of anarchism and other socialist movements. In France and the United States, members of major syndicalist movements such as the General Confederation of Labour and the Industrial Workers of the World left their organisations and joined the Communist International.\\n\\nIn the Spanish Civil War of 1936–39, anarchists and syndicalists (CNT and FAI) once again allied themselves with various currents of leftists. A long tradition of Spanish anarchism led to anarchists playing a pivotal role in the war, and particularly in the Spanish Revolution of 1936. In response to the army rebellion, an anarchist-inspired movement of peasants and workers, supported by armed militias, took control of Barcelona and of large areas of rural Spain, where they collectivised the land. The Soviet Union provided some limited assistance at the beginning of the war, but the result was a bitter fight between communists and other leftists in a series of events known as the May Days, as Joseph Stalin asserted Soviet control of the Republican government, ending in another defeat of anarchists at the hands of the communists.\\n\\nPost-WWII \\n\\nBy the end of World War II, the anarchist movement had been severely weakened. The 1960s witnessed a revival of anarchism, likely caused by a perceived failure of Marxism–Leninism and tensions built by the Cold War. During this time, anarchism found a presence in other movements critical towards both capitalism and the state such as the anti-nuclear, environmental, and peace movements, the counterculture of the 1960s, and the New Left. It also saw a transition from its previous revolutionary nature to provocative anti-capitalist reformism. Anarchism became associated with punk subculture as exemplified by bands such as Crass and the Sex Pistols. The established feminist tendencies of anarcha-feminism returned with vigour during the second wave of feminism. Black anarchism began to take form at this time and influenced anarchism\\'s move from a Eurocentric demographic. This coincided with its failure to gain traction in Northern Europe and its unprecedented height in Latin America.\\n\\nAround the turn of the 21st century, anarchism grew in popularity and influence within anti-capitalist, anti-war and anti-globalisation movements. Anarchists became known for their involvement in protests against the World Trade Organization (WTO), the Group of Eight and the World Economic Forum. During the protests, ad hoc leaderless anonymous cadres known as black blocs engaged in rioting, property destruction and violent confrontations with the police. Other organisational tactics pioneered at this time include affinity groups, security culture and the use of decentralised technologies such as the Internet. A significant event of this period was the confrontations at the 1999 Seattle WTO conference. Anarchist ideas have been influential in the development of the Zapatistas in Mexico and the Democratic Federation of Northern Syria, more commonly known as Rojava, a de facto autonomous region in northern Syria.\\n\\nWhile having revolutionary aspirations, many forms of anarchism are not confrontational nowadays. Instead, they are trying to build an alternative way of social organization, based on mutual interdependence and voluntary cooperation. Scholar Carissa Honeywell takes the example of Food not Bombs group of collectives, to highlight some features of how anarchist groups work: direct action, working together and in solidarity with those left behind. While doing so, they inform about the rising rates of world hunger suggest a policy to tackle hunger, ranging from de-funding the arms industry to addressing Monsanto seed-saving policies and patents, helping farmers and commodification of food and housing. Honeywell also emphasizes that contemporary anarchists are interested in the flourishing not only of humans, but non-humans and the environment as well. Honeywell argues that escalation of problems such as continuous wars and world poverty show that the current framework not only cannot solve those pressing problems for humanity, but are causal factors as well, resulting in the rejection of representative democracy and the state as a whole.\\n\\nThought \\nAnarchist schools of thought have been generally grouped into two main historical traditions, social anarchism and individualist anarchism, owing to their different origins, values and evolution. The individualist current emphasises negative liberty in opposing restraints upon the free individual, while the social current emphasises positive liberty in aiming to achieve the free potential of society through equality and social ownership. In a chronological sense, anarchism can be segmented by the classical currents of the late 19th century and the post-classical currents (anarcha-feminism, green anarchism, and post-anarchism) developed thereafter.\\n\\nBeyond the specific factions of anarchist movements which constitute political anarchism lies philosophical anarchism which holds that the state lacks moral legitimacy, without necessarily accepting the imperative of revolution to eliminate it. A component especially of individualist anarchism, philosophical anarchism may tolerate the existence of a minimal state but claims that citizens have no moral obligation to obey government when it conflicts with individual autonomy. Anarchism pays significant attention to moral arguments since ethics have a central role in anarchist philosophy. Anarchism\\'s emphasis on anti-capitalism, egalitarianism, and for the extension of community and individuality sets it apart from anarcho-capitalism and other types of economic libertarianism.\\n\\nAnarchism is usually placed on the far-left of the political spectrum. Much of its economics and legal philosophy reflect anti-authoritarian, anti-statist, libertarian, and radical interpretations of left-wing and socialist politics such as collectivism, communism, individualism, mutualism, and syndicalism, among other libertarian socialist economic theories. As anarchism does not offer a fixed body of doctrine from a single particular worldview, many anarchist types and traditions exist and varieties of anarchy diverge widely. One reaction against sectarianism within the anarchist milieu was anarchism without adjectives, a call for toleration and unity among anarchists first adopted by Fernando Tarrida del Mármol in 1889 in response to the bitter debates of anarchist theory at the time. Belief in political nihilism has been espoused by anarchists. Despite separation, the various anarchist schools of thought are not seen as distinct entities but rather as tendencies that intermingle and are connected through a set of uniform principles such as individual and local autonomy, mutual aid, network organisation, communal democracy, justified authority and decentralisation.\\n\\nClassical \\n\\nInceptive currents among classical anarchist currents were mutualism and individualism. They were followed by the major currents of social anarchism (collectivist, communist and syndicalist). They differ on organisational and economic aspects of their ideal society.\\n\\nMutualism is an 18th-century economic theory that was developed into anarchist theory by Pierre-Joseph Proudhon. Its aims include \"abolishing the state\", reciprocity, free association, voluntary contract, federation and monetary reform of both credit and currency that would be regulated by a bank of the people. Mutualism has been retrospectively characterised as ideologically situated between individualist and collectivist forms of anarchism. In What Is Property? (1840), Proudhon first characterised his goal as a \"third form of society, the synthesis of communism and property.\" Collectivist anarchism is a revolutionary socialist form of anarchism commonly associated with Mikhail Bakunin. Collectivist anarchists advocate collective ownership of the means of production which is theorised to be achieved through violent revolution and that workers be paid according to time worked, rather than goods being distributed according to need as in communism. Collectivist anarchism arose alongside Marxism but rejected the dictatorship of the proletariat despite the stated Marxist goal of a collectivist stateless society.\\n\\nAnarcho-communism is a theory of anarchism that advocates a communist society with common ownership of the means of production, held by a federal network of voluntary associations, with production and consumption based on the guiding principle \"From each according to his ability, to each according to his need.\" Anarcho-communism developed from radical socialist currents after the French Revolution but was first formulated as such in the Italian section of the First International. It was later expanded upon in the theoretical work of Peter Kropotkin, whose specific style would go onto become the dominating view of anarchists by the late 19th century. Anarcho-syndicalism is a branch of anarchism that views labour syndicates as a potential force for revolutionary social change, replacing capitalism and the state with a new society democratically self-managed by workers. The basic principles of anarcho-syndicalism are direct action, workers\\' solidarity and workers\\' self-management.\\n\\nIndividualist anarchism is a set of several traditions of thought within the anarchist movement that emphasise the individual and their will over any kinds of external determinants. Early influences on individualist forms of anarchism include William Godwin, Max Stirner, and Henry David Thoreau. Through many countries, individualist anarchism attracted a small yet diverse following of Bohemian artists and intellectuals as well as young anarchist outlaws in what became known as illegalism and individual reclamation.\\n\\nPost-classical and contemporary \\n\\nAnarchist principles undergird contemporary radical social movements of the left. Interest in the anarchist movement developed alongside momentum in the anti-globalisation movement, whose leading activist networks were anarchist in orientation. As the movement shaped 21st century radicalism, wider embrace of anarchist principles signaled a revival of interest. Anarchism has continued to generate many philosophies and movements, at times eclectic, drawing upon various sources and combining disparate concepts to create new philosophical approaches. The anti-capitalist tradition of classical anarchism has remained prominent within contemporary currents.\\n\\nContemporary news coverage which emphasizes black bloc demonstrations has reinforced anarchism\\'s historical association with chaos and violence. Its publicity has also led more scholars in fields such as anthropology and history to engage with the anarchist movement, although contemporary anarchism favours actions over academic theory. Various anarchist groups, tendencies, and schools of thought exist today, making it difficult to describe the contemporary anarchist movement. While theorists and activists have established \"relatively stable constellations of anarchist principles\", there is no consensus on which principles are core and commentators describe multiple anarchisms, rather than a singular anarchism, in which common principles are shared between schools of anarchism while each group prioritizes those principles differently. Gender equality can be a common principle, although it ranks as a higher priority to anarcha-feminists than anarcho-communists.\\n\\nAnarchists are generally committed against coercive authority in all forms, namely \"all centralized and hierarchical forms of government (e.g., monarchy, representative democracy, state socialism, etc.), economic class systems (e.g., capitalism, Bolshevism, feudalism, slavery, etc.), autocratic religions (e.g., fundamentalist Islam, Roman Catholicism, etc.), patriarchy, heterosexism, white supremacy, and imperialism.\" Anarchist schools disagree on the methods by which these forms should be opposed. The principle of equal liberty is closer to anarchist political ethics in that it transcends both the liberal and socialist traditions. This entails that liberty and equality cannot be implemented within the state, resulting in the questioning of all forms of domination and hierarchy.\\n\\nTactics \\nAnarchists\\' tactics take various forms but in general serve two major goals, namely, to first oppose the Establishment and secondly to promote anarchist ethics and reflect an anarchist vision of society, illustrating the unity of means and ends. A broad categorisation can be made between aims to destroy oppressive states and institutions by revolutionary means on one hand and aims to change society through evolutionary means on the other. Evolutionary tactics embrace nonviolence, reject violence and take a gradual approach to anarchist aims, although there is significant overlap between the two.\\n\\nAnarchist tactics have shifted during the course of the last century. Anarchists during the early 20th century focused more on strikes and militancy while contemporary anarchists use a broader array of approaches.\\n\\nClassical era \\n\\nDuring the classical era, anarchists had a militant tendency. Not only did they confront state armed forces, as in Spain and Ukraine, but some of them also employed terrorism as propaganda of the deed. Assassination attempts were carried out against heads of state, some of which were successful. Anarchists also took part in revolutions. Many anarchists, especially the Galleanists, believed that these attempts would be the impetus for a revolution against capitalism and the state. Many of these attacks were done by individual assailants and the majority took place in the late 1870s, the early 1880s and the 1890s, with some still occurring in the early 1900s. Their decrease in prevalence was the result of further judicial power and targeting and cataloging by state institutions.\\n\\nAnarchist perspectives towards violence have always been controversial. Anarcho-pacifists advocate for non-violence means to achieve their stateless, nonviolent ends. Other anarchist groups advocate direct action, a tactic which can include acts of sabotage or terrorism. This attitude was quite prominent a century ago when seeing the state as a tyrant and some anarchists believing that they had every right to oppose its oppression by any means possible. Emma Goldman and Errico Malatesta, who were proponents of limited use of violence, stated that violence is merely a reaction to state violence as a necessary evil.\\n\\nAnarchists took an active role in strike actions, although they tended to be antipathetic to formal syndicalism, seeing it as reformist. They saw it as a part of the movement which sought to overthrow the state and capitalism. Anarchists also reinforced their propaganda within the arts, some of whom practiced naturism and nudism. Those anarchists also built communities which were based on friendship and were involved in the news media.\\n\\nRevolutionary \\n\\nIn the current era, Italian anarchist Alfredo Bonanno, a proponent of insurrectionary anarchism, has reinstated the debate on violence by rejecting the nonviolence tactic adopted since the late 19th century by Kropotkin and other prominent anarchists afterwards. Both Bonanno and the French group The Invisible Committee advocate for small, informal affiliation groups, where each member is responsible for their own actions but works together to bring down oppression utilizing sabotage and other violent means against state, capitalism, and other enemies. Members of The Invisible Committee were arrested in 2008 on various charges, terrorism included.\\n\\nOverall, contemporary anarchists are much less violent and militant than their ideological ancestors. They mostly engage in confronting the police during demonstrations and riots, especially in countries such as Canada, Greece, and Mexico. Militant black bloc protest groups are known for clashing with the police; however, anarchists not only clash with state operators, they also engage in the struggle against fascists and racists, taking anti-fascist action and mobilizing to prevent hate rallies from happening.\\n\\nEvolutionary \\nAnarchists commonly employ direct action. This can take the form of disrupting and protesting against unjust hierarchy, or the form of self-managing their lives through the creation of counter-institutions such as communes and non-hierarchical collectives. Decision-making is often handled in an anti-authoritarian way, with everyone having equal say in each decision, an approach known as horizontalism. Contemporary-era anarchists have been engaging with various grassroots movements that are more or less based on horizontalism, although not explicitly anarchist, respecting personal autonomy and participating in mass activism such as strikes and demonstrations. In contrast with the big-A anarchism of the classical era, the newly coined term small-a anarchism signals their tendency not to base their thoughts and actions on classical-era anarchism or to refer to classical anarchists such as Peter Kropotkin and Pierre-Joseph Proudhon to justify their opinions. Those anarchists would rather base their thought and praxis on their own experience which they will later theorize.\\n\\nThe decision-making process of small anarchist affinity groups plays a significant tactical role. Anarchists have employed various methods in order to build a rough consensus among members of their group without the need of a leader or a leading group. One way is for an individual from the group to play the role of facilitator to help achieve a consensus without taking part in the discussion themselves or promoting a specific point. Minorities usually accept rough consensus, except when they feel the proposal contradicts anarchist ethics, goals and values. Anarchists usually form small groups (5–20 individuals) to enhance autonomy and friendships among their members. These kinds of groups more often than not interconnect with each other, forming larger networks. Anarchists still support and participate in strikes, especially wildcat strikes as these are leaderless strikes not organised centrally by a syndicate.\\n\\nAs in the past, newspapers and journals are used, and anarchists have gone online in the World Wide Web to spread their message. Anarchists have found it easier to create websites because of distributional and other difficulties, hosting electronic libraries and other portals. Anarchists were also involved in developing various software that are available for free. The way these hacktivists work to develop and distribute resembles the anarchist ideals, especially when it comes to preserving users\\' privacy from state surveillance.\\n\\nAnarchists organize themselves to squat and reclaim public spaces. During important events such as protests and when spaces are being occupied, they are often called Temporary Autonomous Zones (TAZ), spaces where art, poetry, and surrealism are blended to display the anarchist ideal. As seen by anarchists, squatting is a way to regain urban space from the capitalist market, serving pragmatical needs and also being an exemplary direct action. Acquiring space enables anarchists to experiment with their ideas and build social bonds. Adding up these tactics while having in mind that not all anarchists share the same attitudes towards them, along with various forms of protesting at highly symbolic events, make up a carnivalesque atmosphere that is part of contemporary anarchist vividity.\\n\\nKey issues \\n\\nAs anarchism is a philosophy that embodies many diverse attitudes, tendencies, and schools of thought; disagreement over questions of values, ideology, and tactics is common. Its diversity has led to widely different uses of identical terms among different anarchist traditions which has created a number of definitional concerns in anarchist theory. The compatibility of capitalism, nationalism, and religion with anarchism is widely disputed, and anarchism enjoys complex relationships with ideologies such as communism, collectivism, Marxism, and trade unionism. Anarchists may be motivated by humanism, divine authority, enlightened self-interest, veganism, or any number of alternative ethical doctrines. Phenomena such as civilisation, technology (e.g. within anarcho-primitivism), and the democratic process may be sharply criticised within some anarchist tendencies and simultaneously lauded in others.\\n\\nThe state \\n\\nObjection to the state and its institutions is a sine qua non of anarchism. Anarchists consider the state as a tool of domination and believe it to be illegitimate regardless of its political tendencies. Instead of people being able to control the aspects of their life, major decisions are taken by a small elite. Authority ultimately rests solely on power, regardless of whether that power is open or transparent, as it still has the ability to coerce people. Another anarchist argument against states is that the people constituting a government, even the most altruistic among officials, will unavoidably seek to gain more power, leading to corruption. Anarchists consider the idea that the state is the collective will of the people to be an unachievable fiction due to the fact that the ruling class is distinct from the rest of society.\\n\\nSpecific anarchist attitudes towards the state vary. Robert Paul Wolff believed that the tension between authority and autonomy would mean the state could never be legitimate. Bakunin saw the state as meaning \"coercion, domination by means of coercion, camouflaged if possible but unceremonious and overt if need be.\" A. John Simmons and Leslie Green, who leaned toward philosophical anarchism, believed that the state could be legitimate if it is governed by consensus, although they saw this as highly unlikely. Beliefs on how to abolish the state also differ.\\n\\nGender, sexuality, and free love \\n\\nAs gender and sexuality carry along them dynamics of hierarchy, many anarchists address, analyse, and oppose the suppression of one\\'s autonomy imposed by gender roles.\\n\\nSexuality was not often discussed by classical anarchists but the few that did felt that an anarchist society would lead to sexuality naturally developing. Sexual violence was a concern for anarchists such as Benjamin Tucker, who opposed age of consent laws, believing they would benefit predatory men. A historical current that arose and flourished during 1890 and 1920 within anarchism was free love. In contemporary anarchism, this current survives as a tendency to support polyamory, relationship anarchy, and queer anarchism. Free love advocates were against marriage, which they saw as a way of men imposing authority over women, largely because marriage law greatly favoured the power of men. The notion of free love was much broader and included a critique of the established order that limited women\\'s sexual freedom and pleasure. Those free love movements contributed to the establishment of communal houses, where large groups of travelers, anarchists and other activists slept in beds together. Free love had roots both in Europe and the United States; however, some anarchists struggled with the jealousy that arose from free love. Anarchist feminists were advocates of free love, against marriage, and pro-choice (utilising a contemporary term), and had a similar agenda. Anarchist and non-anarchist feminists differed on suffrage but were supportive of one another.\\n\\nDuring the second half of the 20th century, anarchism intermingled with the second wave of feminism, radicalising some currents of the feminist movement and being influenced as well. By the latest decades of the 20th century, anarchists and feminists were advocating for the rights and autonomy of women, gays, queers and other marginalised groups, with some feminist thinkers suggesting a fusion of the two currents. With the third wave of feminism, sexual identity and compulsory heterosexuality became a subject of study for anarchists, yielding a post-structuralist critique of sexual normality. Some anarchists distanced themselves from this line of thinking, suggesting that it leaned towards an individualism that was dropping the cause of social liberation.\\n\\nEducation \\n\\nThe interest of anarchists in education stretches back to the first emergence of classical anarchism. Anarchists consider proper education, one which sets the foundations of the future autonomy of the individual and the society, to be an act of mutual aid. Anarchist writers such as William Godwin (Political Justice) and Max Stirner (\"The False Principle of Our Education\") attacked both state education and private education as another means by which the ruling class replicate their privileges.\\n\\nIn 1901, Catalan anarchist and free thinker Francisco Ferrer established the Escuela Moderna in Barcelona as an opposition to the established education system which was dictated largely by the Catholic Church. Ferrer\\'s approach was secular, rejecting both state and church involvement in the educational process whilst giving pupils large amounts of autonomy in planning their work and attendance. Ferrer aimed to educate the working class and explicitly sought to foster class consciousness among students. The school closed after constant harassment by the state and Ferrer was later arrested. Nonetheless, his ideas formed the inspiration for a series of modern schools around the world. Christian anarchist Leo Tolstoy, who published the essay Education and Culture, also established a similar school with its founding principle being that \"for education to be effective it had to be free.\" In a similar token, A. S. Neill founded what became the Summerhill School in 1921, also declaring being free from coercion.\\n\\nAnarchist education is based largely on the idea that a child\\'s right to develop freely and without manipulation ought to be respected and that rationality would lead children to morally good conclusions; however, there has been little consensus among anarchist figures as to what constitutes manipulation. Ferrer believed that moral indoctrination was necessary and explicitly taught pupils that equality, liberty and social justice were not possible under capitalism, along with other critiques of government and nationalism.\\n\\nLate 20th century and contemporary anarchist writers (Paul Goodman, Herbert Read, and Colin Ward) intensified and expanded the anarchist critique of state education, largely focusing on the need for a system that focuses on children\\'s creativity rather than on their ability to attain a career or participate in consumerism as part of a consumer society. Contemporary anarchists such as Ward claim that state education serves to perpetuate socioeconomic inequality.\\n\\nWhile few anarchist education institutions have survived to the modern-day, major tenets of anarchist schools, among them respect for child autonomy and relying on reasoning rather than indoctrination as a teaching method, have spread among mainstream educational institutions. Judith Suissa names three schools as explicitly anarchists\\' schools, namely the Free Skool Santa Cruz in the United States which is part of a wider American-Canadian network of schools, the Self-Managed Learning College in Brighton, England, and the Paideia School in Spain.\\n\\nThe arts \\n\\nThe connection between anarchism and art was quite profound during the classical era of anarchism, especially among artistic currents that were developing during that era such as futurists, surrealists and others. In literature, anarchism was mostly associated with the New Apocalyptics and the neo-romanticism movement. In music, anarchism has been associated with music scenes such as punk. Anarchists such as Leo Tolstoy and Herbert Read stated that the border between the artist and the non-artist, what separates art from a daily act, is a construct produced by the alienation caused by capitalism and it prevents humans from living a joyful life.\\n\\nOther anarchists advocated for or used art as a means to achieve anarchist ends. In his book Breaking the Spell: A History of Anarchist Filmmakers, Videotape Guerrillas, and Digital Ninjas, Chris Robé claims that \"anarchist-inflected practices have increasingly structured movement-based video activism.\" Throughout the 20th century, many prominent anarchists (Peter Kropotkin, Emma Goldman, Gustav Landauer and Camillo Berneri) and publications such as Anarchy wrote about matters pertaining to the arts.\\n\\nThree overlapping properties made art useful to anarchists. It could depict a critique of existing society and hierarchies, serve as a prefigurative tool to reflect the anarchist ideal society and even turn into a means of direct action such as in protests. As it appeals to both emotion and reason, art could appeal to the whole human and have a powerful effect. The 19th-century neo-impressionist movement had an ecological aesthetic and offered an example of an anarchist perception of the road towards socialism. In Les chataigniers a Osny by anarchist painter Camille Pissarro, the blending of aesthetic and social harmony is prefiguring an ideal anarchistic agrarian community.\\n\\nCriticism \\nThe most common critique of anarchism is the assertion that humans cannot self-govern and so a state is necessary for human survival. Philosopher Bertrand Russell supported this critique, stating that \"[p]eace and war, tariffs, regulations of sanitary conditions and the sale of noxious drugs, the preservation of a just system of distribution: these, among others, are functions which could hardly be performed in a community in which there was no central government.\" Another common criticism of anarchism is that it fits a world of isolation in which only the small enough entities can be self-governing; a response would be that major anarchist thinkers advocated anarchist federalism.\\n\\nAnother criticism of anarchism is the belief that it is inherently unstable: that an anarchist society would inevitably evolve back into a state. Thomas Hobbes and other early social contract theorists argued that the state emerges in response to natural anarchy in order to protect the people\\'s interests and keep order. Philosopher Robert Nozick argued that a \"night-watchman state\", or minarchy, would emerge from anarchy through the process of an invisible hand, in which people would exercise their liberty and buy protection from protection agencies, evolving into a minimal state. Anarchists reject these criticisms by arguing that humans in a state of nature would not just be in a state of war. Anarcho-primitivists in particular argue that humans were better off in a state of nature in small tribes living close to the land, while anarchists in general argue that the negatives of state organization, such as hierarchies, monopolies and inequality, outweigh the benefits.\\n\\nPhilosophy lecturer Andrew G. Fiala composed a list of common arguments against anarchism which includes critiques such as that anarchism is innately related to violence and destruction, not only in the pragmatic world, such as at protests, but in the world of ethics as well. Secondly, anarchism is evaluated as unfeasible or utopian since the state cannot be defeated practically. This line of arguments most often calls for political action within the system to reform it. The third argument is that anarchism is self-contradictory as a ruling theory that has no ruling theory. Anarchism also calls for collective action whilst endorsing the autonomy of the individual, hence no collective action can be taken. Lastly, Fiala mentions a critique towards philosophical anarchism of being ineffective (all talk and thoughts) and in the meantime capitalism and bourgeois class remains strong.\\n\\nPhilosophical anarchism has met the criticism of members of academia following the release of pro-anarchist books such as A. John Simmons\\' Moral Principles and Political Obligations. Law professor William A. Edmundson authored an essay to argue against three major philosophical anarchist principles which he finds fallacious. Edmundson says that while the individual does not owe the state a duty of obedience, this does not imply that anarchism is the inevitable conclusion and the state is still morally legitimate. In The Problem of Political Authority, Michael Huemer defends philosophical anarchism, claiming that \"political authority is a moral illusion.\"\\n\\nOne of the earliest criticisms is that anarchism defies and fails to understand the biological inclination to authority. Joseph Raz states that the acceptance of authority implies the belief that following their instructions will afford more success. Raz believes that this argument is true in following both authorities\\' successful and mistaken instruction. Anarchists reject this criticism because challenging or disobeying authority does not entail the disappearance of its advantages by acknowledging authority such as doctors or lawyers as reliable, nor does it involve a complete surrender of independent judgment. Anarchist perception of human nature, rejection of the state, and commitment to social revolution has been criticised by academics as naive, overly simplistic, and unrealistic, respectively. Classical anarchism has been criticised for relying too heavily on the belief that the abolition of the state will lead to human cooperation prospering.\\n\\nFriedrich Engels, considered to be one of the principal founders of Marxism, criticised anarchism\\'s anti-authoritarianism as inherently counter-revolutionary because in his view a revolution is by itself authoritarian. Academic John Molyneux writes in his book Anarchism: A Marxist Criticism that \"anarchism cannot win\", believing that it lacks the ability to properly implement its ideas. The Marxist criticism of anarchism is that it has a utopian character because all individuals should have anarchist views and values. According to the Marxist view, that a social idea would follow directly from this human ideal and out of the free will of every individual formed its essence. Marxists state that this contradiction was responsible for their inability to act. In the anarchist vision, the conflict between liberty and equality was resolved through coexistence and intertwining.\\n\\nSee also \\n\\n Anarchism by country\\n Governance without government\\n List of anarchist political ideologies\\n List of books about anarchism\\n\\nReferences\\n\\nExplanatory notes\\n\\nCitations\\n\\nGeneral and cited sources\\n\\nPrimary sources\\n\\nSecondary sources\\n\\nTertiary sources\\n\\nFurther reading \\n \\n  \\n  Criticism of philosophical anarchism.\\n \\n  A defence of philosophical anarchism, stating that \"both kinds of \\'anarchism\\' [i.e. philosophical and political anarchism] are philosophical and political claims.\" (p.\\xa0137)\\n  Anarchistic popular fiction novel.\\n \\n \\n \\n  An argument for philosophical anarchism.\\n\\nExternal links \\n\\n \\n Anarchy Archives – an online research center on the history and theory of anarchism.\\n\\n \\nAnti-capitalism\\nAnti-fascism\\nEconomic ideologies\\nFar-left politics\\nLeft-wing politics\\nLibertarian socialism\\nLibertarianism\\nPolitical culture\\nPolitical ideologies\\nPolitical movements\\nSocial theories\\nSocialism'}"
      ]
     },
     "metadata": {},
     "output_type": "display_data"
    },
    {
     "data": {
      "text/plain": [
       "'Anarchism is a political philosophy and movement that is skeptical of all justifications for authority and seeks to abolish the institutions it claims maintain unnecessary coercion and hierarchy, typically including nation-states, and capitalism. Anarchism advocates for the replacement of the state with stateless societies and voluntary free associations. As a historically left-wing movement, this reading of anarchism is placed on the farthest left of the political spectrum, usually described as'"
      ]
     },
     "execution_count": 6,
     "metadata": {},
     "output_type": "execute_result"
    }
   ],
   "source": [
    "# quick sanity check:\n",
    "# a) inspect first sample\n",
    "display(wikids[0])\n",
    "\n",
    "# b) preview first 500 characters of the first document\n",
    "wikids['text'][0][:500]"
   ]
  },
  {
   "cell_type": "code",
   "execution_count": 7,
   "id": "16f21c53",
   "metadata": {},
   "outputs": [
    {
     "data": {
      "text/plain": [
       "DatasetDict({\n",
       "    train: Dataset({\n",
       "        features: ['id', 'url', 'title', 'text'],\n",
       "        num_rows: 900\n",
       "    })\n",
       "    test: Dataset({\n",
       "        features: ['id', 'url', 'title', 'text'],\n",
       "        num_rows: 100\n",
       "    })\n",
       "})"
      ]
     },
     "execution_count": 7,
     "metadata": {},
     "output_type": "execute_result"
    }
   ],
   "source": [
    "# split dataset into train and test sets\n",
    "wikids = wikids.train_test_split(test_size=0.1)\n",
    "wikids"
   ]
  },
  {
   "cell_type": "code",
   "execution_count": 8,
   "id": "1ddfc0c2",
   "metadata": {},
   "outputs": [],
   "source": [
    "from transformers import AutoTokenizer\n",
    "\n",
    "# load pretrained tokenizer from hugging face hub\n",
    "# https://huggingface.co/mistralai/Mistral-7B-v0.3\n",
    "model_id = 'mistralai/Mistral-7B-v0.3'\n",
    "\n",
    "tokenizer = AutoTokenizer.from_pretrained(\n",
    "    pretrained_model_name_or_path=model_id\n",
    ")"
   ]
  },
  {
   "cell_type": "code",
   "execution_count": 9,
   "id": "3ec81e7d",
   "metadata": {},
   "outputs": [
    {
     "data": {
      "text/plain": [
       "{'bos_token': '<s>', 'eos_token': '</s>', 'unk_token': '<unk>'}"
      ]
     },
     "metadata": {},
     "output_type": "display_data"
    },
    {
     "name": "stdout",
     "output_type": "stream",
     "text": [
      "None </s> <s> <unk>\n"
     ]
    }
   ],
   "source": [
    "# inspect tokenizer config and default tokens\n",
    "display(tokenizer.special_tokens_map)\n",
    "\n",
    "print(tokenizer.pad_token, tokenizer.eos_token, tokenizer.bos_token, tokenizer.unk_token)"
   ]
  },
  {
   "cell_type": "code",
   "execution_count": 10,
   "id": "6a563d88",
   "metadata": {},
   "outputs": [],
   "source": [
    "# if tokenizer has no padding token defined (like Mistral 7B model), set on explicitly.\n",
    "# hugging face convetion is to use '<|pad|>' for generative models\n",
    "tokenizer.pad_token = '<|pad|>'"
   ]
  },
  {
   "cell_type": "code",
   "execution_count": 11,
   "id": "0cb0c3c8",
   "metadata": {},
   "outputs": [
    {
     "name": "stdout",
     "output_type": "stream",
     "text": [
      "last 10 and first 10 INPUT_IDS of the first training sample:\n"
     ]
    },
    {
     "data": {
      "text/plain": [
       "([781, 29548, 1617, 13957, 12611, 13270, 11205, 5081, 1066, 18592],\n",
       " [1, 3252, 26150, 1117, 1040, 2618, 3003, 1070, 1032, 19742])"
      ]
     },
     "metadata": {},
     "output_type": "display_data"
    },
    {
     "name": "stdout",
     "output_type": "stream",
     "text": [
      "last 10 and first 10 ATTENTION_MASK of the first training sample:\n"
     ]
    },
    {
     "data": {
      "text/plain": [
       "([1, 1, 1, 1, 1, 1, 1, 1, 1, 1], [1, 1, 1, 1, 1, 1, 1, 1, 1, 1])"
      ]
     },
     "metadata": {},
     "output_type": "display_data"
    },
    {
     "name": "stdout",
     "output_type": "stream",
     "text": [
      "padded token id is: 0\n"
     ]
    }
   ],
   "source": [
    "# sanity checks for padding token by considering large max_length\n",
    "# in this case, attention mask will have 0 values for padded tokens\n",
    "out0 = tokenizer(wikids['train']['text'][0], max_length=10_000, padding='max_length', padding_side='left')\n",
    "\n",
    "print('last 10 and first 10 INPUT_IDS of the first training sample:')\n",
    "display((out0['input_ids'][-10:], out0['input_ids'][:10]))\n",
    "\n",
    "print('last 10 and first 10 ATTENTION_MASK of the first training sample:')\n",
    "display((out0['attention_mask'][-10:], out0['attention_mask'][:10]))\n",
    "\n",
    "print('padded token id is:', tokenizer.pad_token_id)"
   ]
  },
  {
   "cell_type": "code",
   "execution_count": 12,
   "id": "da132dc6",
   "metadata": {},
   "outputs": [
    {
     "data": {
      "text/plain": [
       "{'id': '808',\n",
       " 'url': 'https://en.wikipedia.org/wiki/Alfred%20Hitchcock',\n",
       " 'title': 'Alfred Hitchcock',\n",
       " 'text': 'Sir Alfred Joseph Hitchcock  (13 August 1899\\xa0– 29 April 1980) was an English film director, screenwriter, producer and editor. He is widely regarded as one of the most influential figures in the history of cinema. In a career spanning six decades, he directed over 50 feature films, many of which are still widely watched and studied today. Known as the \"Master of Suspense\", he became as well known as any of his actors thanks to his many interviews, his cameo roles in most of his films, and his hosting and producing the television anthology Alfred Hitchcock Presents (1955–65). His films garnered 46 Academy Award nominations, including six wins, although he never won the award for Best Director, despite five nominations.\\n\\nHitchcock initially trained as a technical clerk and copywriter before entering the film industry in 1919 as a title card designer. His directorial debut was the British-German silent film The Pleasure Garden (1925). His first successful film, The Lodger: A Story of the London Fog (1927), helped to shape the thriller genre, and Blackmail (1929) was the first British \"talkie\". His thrillers The 39 Steps (1935) and The Lady Vanishes (1938) are ranked among the greatest British films of the 20th century. By 1939, he had international recognition and producer David O. Selznick persuaded him to move to Hollywood. A string of successful films followed, including Rebecca (1940), Foreign Correspondent (1940), Suspicion (1941), Shadow of a Doubt (1943) and Notorious (1946). Rebecca won the Academy Award for Best Picture, with Hitchcock nominated as Best Director. He also received Oscar nominations for Lifeboat (1944), Spellbound (1945), Rear Window (1954) and Psycho (1960).\\n\\nHitchcock\\'s other notable films include Rope (1948), Strangers on a Train (1951), Dial M for Murder (1954), To Catch a Thief (1955), The Trouble with Harry (1955),  Vertigo (1958), North by Northwest (1959), The Birds (1963) and  Marnie (1964), all of which were also financially successful and are highly regarded by film historians. Hitchcock made multiple films with some of the biggest stars in Hollywood, including four with Cary Grant, four with James Stewart, three with Ingrid Bergman and three consecutively with Grace Kelly. Hitchcock became an American citizen in 1955.\\n\\nIn 2012, Hitchcock\\'s psychological thriller Vertigo, starring Stewart, displaced Orson Welles\\' Citizen Kane (1941) as the British Film Institute\\'s greatest film ever made based on its world-wide poll of hundreds of film critics. , nine of his films had been selected for preservation in the United States National Film Registry, including his personal favourite, Shadow of a Doubt (1943). He received the BAFTA Fellowship in 1971, the AFI Life Achievement Award in 1979, and was knighted in December of that year, four months before his death on 29 April 1980.\\n\\nBiography\\n\\nEarly life: 1899–1919\\n\\nEarly childhood and education\\n\\nAlfred Joseph Hitchcock was born on 13 August 1899 in the flat above his parents\\' leased greengrocer\\'s shop at 517 High Road in Leytonstone, which was then part of Essex (now on the outskirts of East London). He was the son of Emma Jane (née Whelan; 1863–1942) and William Edgar Hitchcock (1862–1914), and had an older brother named William Daniel (1890–1943) and an older sister named Ellen Kathleen (1892–1979) who used the nickname \"Nellie\". His parents were both Roman Catholics with partial Irish ancestry. His father was a greengrocer, as his grandfather had been. There was a large extended family, including uncle John Hitchcock with his five-bedroom Victorian house on Campion Road in Putney, complete with a maid, cook, chauffeur, and gardener. Every summer, his uncle rented a seaside house for the family in Cliftonville. Hitchcock said that he first became class-conscious there, noticing the differences between tourists and locals.\\n\\nDescribing himself as a well-behaved boy — his father called him his \"little lamb without a spot\" — Hitchcock said he could not remember ever having had a playmate. One of his favourite stories for interviewers was about his father sending him to the local police station with a note when he was five; the policeman looked at the note and locked him in a cell for a few minutes, saying, \"This is what we do to naughty boys.\" The experience left him with a lifelong phobia of law enforcement, and he told Tom Snyder in 1973 that he was \"scared stiff of anything\\xa0... to do with the law\" and that he would refuse to even drive a car in case he got a parking ticket. When he was six, the family moved to Limehouse and leased two stores at 130 and 175 Salmon Lane, which they ran as a fish-and-chip shop and fishmongers\\' respectively; they lived above the former. Hitchcock attended his first school, the Howrah House Convent in Poplar, which he entered in 1907, at age 7. According to biographer Patrick McGilligan, he stayed at Howrah House for at most two years. He also attended a convent school, the Wode Street School \"for the daughters of gentlemen and little boys\" run by the Faithful Companions of Jesus. He then attended a primary school near his home and was for a short time a boarder at Salesian College in Battersea.\\n\\nThe family moved again when Hitchcock was eleven, this time to Stepney, and on 5 October 1910 he was sent to St Ignatius College in Stamford Hill, a Jesuit grammar school with a reputation for discipline. As corporal punishment, the priests used a flat, hard, springy tool made of gutta-percha and known as a \"ferula\" which struck the whole palm; punishment was always at the end of the day, so the boys had to sit through classes anticipating the punishment if they had been written up for it. He later said that this is where he developed his sense of fear. The school register lists his year of birth as 1900 rather than 1899; biographer Donald Spoto says he was deliberately enrolled as a ten-year-old because he was a year behind with his schooling. While biographer Gene Adair reports that Hitchcock was \"an average, or slightly above-average, pupil\", Hitchcock said that he was \"usually among the four or five at the top of the class\"; at the end of his first year, his work in Latin, English, French and religious education was noted. He told Peter Bogdanovich: \"The Jesuits taught me organisation, control and, to some degree, analysis.\"\\n\\nHitchcock\\'s favourite subject was geography and he became interested in maps and the timetables of trains, trams and buses; according to John Russell Taylor, he could recite all the stops on the Orient Express. He had a particular interest in London trams. An overwhelming majority of his films include rail or tram scenes, in particular The Lady Vanishes, Strangers on a Train and Number Seventeen. A clapperboard shows the number of the scene and the number of takes, and Hitchcock would often take the two numbers on the clapperboard and whisper the London tram route names. For example, if the clapperboard showed \"Scene 23; Take 3\", he would whisper \"Woodford, Hampstead\"Woodford being the terminus of the route 23 tram, and Hampstead the end of route 3.\\n\\nHenley\\'s\\nHitchcock told his parents that he wanted to be an engineer, and on 25 July 1913, he left St Ignatius and enrolled in night classes at the London County Council School of Engineering and Navigation in Poplar. In a book-length interview in 1962, he told François Truffaut that he had studied \"mechanics, electricity, acoustics, and navigation\". Then, on 12 December 1914, his father, who had been suffering from emphysema and kidney disease, died at the age of 52. To support himself and his mother — his older siblings had left home by then — Hitchcock took a job, for 15 shillings a week (£ in ), as a technical clerk at the Henley Telegraph and Cable Company in Blomfield Street, near London Wall. He continued night classes, this time in art history, painting, economics and political science. His older brother ran the family shops, while he and his mother continued to live in Salmon Lane.\\n\\nHitchcock was too young to enlist when the First World War started in July 1914, and when he reached the required age of 18 in 1917, he received a C3 classification (\"free from serious organic disease, able to stand service conditions in garrisons at home\\xa0... only suitable for sedentary work\"). He joined a cadet regiment of the Royal Engineers and took part in theoretical briefings, weekend drills and exercises. John Russell Taylor wrote that, in one session of practical exercises in Hyde Park, Hitchcock was required to wear puttees. He could never master wrapping them around his legs, and they repeatedly fell down around his ankles.\\n\\nAfter the war, Hitchcock took an interest in creative writing. In June 1919, he became a founding editor and business manager of Henley\\'s in-house publication, The Henley Telegraph (sixpence a copy), to which he submitted several short stories. Henley\\'s promoted him to the advertising department, where he wrote copy and drew graphics for electric cable advertisements. He enjoyed the job and would stay late at the office to examine the proofs; he told Truffaut that this was his \"first step toward cinema\". He enjoyed watching films, especially American cinema, and from the age of 16 read the trade papers; he watched Charlie Chaplin, D. W. Griffith and Buster Keaton, and particularly liked Fritz Lang\\'s Der müde Tod (1921).\\n\\nInter-war career: 1919–1939\\n\\nFamous Players–Lasky\\n\\nWhile still at Henley\\'s, he read in a trade paper that Famous Players–Lasky, the production arm of Paramount Pictures, was opening a studio in London. They were planning to film The Sorrows of Satan by Marie Corelli, so he produced some drawings for the title cards and sent his work to the studio. They hired him, and in 1919 he began working for Islington Studios in Poole Street, Hoxton, as a title-card designer.\\n\\nDonald Spoto wrote that most of the staff were Americans with strict job specifications, but the English workers were encouraged to try their hand at anything, which meant that Hitchcock gained experience as a co-writer, art director and production manager on at least 18 silent films. The Times wrote in February 1922 about the studio\\'s \"special art title department under the supervision of Mr. A. J. Hitchcock\". His work included Number 13 (1922), also known as Mrs. Peabody; it was cancelled because of financial problems - the few finished scenes are lost — and Always Tell Your Wife (1923), which he and Seymour Hicks finished together when Hicks was about to give up on it. Hicks wrote later about being helped by \"a fat youth who was in charge of the property room\\xa0... [n]one other than Alfred Hitchcock\".\\n\\nGainsborough Pictures and work in Germany\\n\\nWhen Paramount pulled out of London in 1922, Hitchcock was hired as an assistant director by a new firm run in the same location by Michael Balcon, later known as Gainsborough Pictures. Hitchcock worked on Woman to Woman (1923) with the director Graham Cutts, designing the set, writing the script and producing. He said: \"It was the first film that I had really got my hands onto.\" The editor and \"script girl\" on Woman to Woman was Alma Reville, his future wife. He also worked as an assistant to Cutts on The White Shadow (1924), The Passionate Adventure (1924), The Blackguard (1925) and The Prude\\'s Fall (1925). The Blackguard was produced at the Babelsberg Studios in Potsdam, where Hitchcock watched part of the making of F. W. Murnau\\'s The Last Laugh (1924). He was impressed with Murnau\\'s work, and later used many of his techniques for the set design in his own productions.\\n\\nIn the summer of 1925, Balcon asked Hitchcock to direct The Pleasure Garden (1925), starring Virginia Valli, a co-production of Gainsborough and the German firm Emelka at the Geiselgasteig studio near Munich. Reville, by then Hitchcock\\'s fiancée, was assistant director-editor. Although the film was a commercial flop, Balcon liked Hitchcock\\'s work; a Daily Express headline called him the \"Young man with a master mind\". Production of The Pleasure Garden encountered obstacles which Hitchcock would later learn from: on arrival to Brenner Pass, he failed to declare his film stock to customs and it was confiscated; one actress could not enter the water for a scene because she was on her period; budget overruns meant that he had to borrow money from the actors. Hitchcock also needed a translator to give instructions to the cast and crew.\\n\\nIn Germany, Hitchcock observed the nuances of German cinema and filmmaking which had a big influence on him. When he was not working, he would visit Berlin\\'s art galleries, concerts and museums. He would also meet with actors, writers and producers to build connections. Balcon asked him to direct a second film in Munich, The Mountain Eagle (1926), based on an original story titled Fear o\\' God. The film is lost, and Hitchcock called it \"a very bad movie\". A year later, Hitchcock wrote and directed The Ring; although the screenplay was credited solely to his name, Elliot Stannard assisted him with the writing. The Ring garnered positive reviews; the Bioscope critic called it \"the most magnificent British film ever made\".\\n\\nWhen he returned to England, Hitchcock was one of the early members of the London Film Society, newly formed in 1925. Through the Society, he became fascinated by the work by Soviet filmmakers: Dziga Vertov, Lev Kuleshov, Sergei Eisenstein and Vsevolod Pudovkin. He would also socialise with fellow English filmmakers Ivor Montagu, Adrian Brunel and Walter Mycroft.\\n\\nHitchcock established himself as a name director with his first thriller, The Lodger: A Story of the London Fog (1927). The film concerns the hunt for a Jack the Ripper-style serial killer who, wearing a black cloak and carrying a black bag, is murdering young blonde women in London, and only on Tuesdays. A landlady suspects that her lodger is the killer, but he turns out to be innocent. Hitchcock had wanted the leading man to be guilty, or for the film at least to end ambiguously, but the star was Ivor Novello, a matinée idol, and the \"star system\" meant that Novello could not be the villain. Hitchcock told Truffaut: \"You have to clearly spell it out in big letters: \\'He is innocent.\\'\" (He had the same problem years later with Cary Grant in Suspicion (1941).) Released in January 1927, The Lodger was a commercial and critical success in the UK. Upon its release, the trade journal Bioscope wrote: \"It is possible that this film is the finest British production ever made\". Hitchcock told Truffaut that the film was the first of his to be influenced by German Expressionism: \"In truth, you might almost say that The Lodger was my first picture.\" He made his first cameo appearance in the film, sitting in a newsroom.\\n\\nMarriage\\n\\nOn 2 December 1926, Hitchcock married the English screenwriter Alma Reville at the Brompton Oratory in South Kensington. The couple honeymooned in Paris, Lake Como and St. Moritz, before returning to London to live in a leased flat on the top two floors of 153 Cromwell Road, Kensington. Reville, who was born just hours after Hitchcock, converted from Protestantism to Catholicism, apparently at the insistence of Hitchcock\\'s mother; she was baptised on 31 May 1927 and confirmed at Westminster Cathedral by Cardinal Francis Bourne on 5 June.\\n\\nIn 1928, when they learned that Reville was pregnant, the Hitchcocks purchased \"Winter\\'s Grace\", a Tudor farmhouse set in eleven acres on Stroud Lane, Shamley Green, Surrey, for £2,500. Their daughter and only child, Patricia Alma Hitchcock, was born on 7 July that year. Patricia died on 9 August 2021 at 93.\\n\\nReville became her husband\\'s closest collaborator; Charles Champlin wrote in 1982: \"The Hitchcock touch had four hands, and two were Alma\\'s.\" When Hitchcock accepted the AFI Life Achievement Award in 1979, he said that he wanted to mention \"four people who have given me the most affection, appreciation and encouragement, and constant collaboration. The first of the four is a film editor, the second is a scriptwriter, the third is the mother of my daughter, Pat, and the fourth is as fine a cook as ever performed miracles in a domestic kitchen. And their names are Alma Reville.\" Reville wrote or co-wrote on many of Hitchcock\\'s films, including Shadow of a Doubt, Suspicion and The 39 Steps.\\n\\nEarly sound films\\n\\nHitchcock began work on his tenth film, Blackmail (1929), when its production company, British International Pictures (BIP), converted its Elstree studios to sound. The film was the first British \"talkie\"; this followed the rapid development of sound films in the United States, from the use of brief sound segments in The Jazz Singer (1927) to the first full sound feature Lights of New York (1928). Blackmail began the Hitchcock tradition of using famous landmarks as a backdrop for suspense sequences, with the climax taking place on the dome of the British Museum. It also features one of his longest cameo appearances, which shows him being bothered by a small boy as he reads a book on the London Underground. In the PBS series The Men Who Made The Movies, Hitchcock explained how he used early sound recording as a special element of the film, stressing the word \"knife\" in a conversation with the woman suspected of murder. During this period, Hitchcock directed segments for a BIP revue, Elstree Calling (1930), and directed a short film, An Elastic Affair (1930), featuring two Film Weekly scholarship winners. An Elastic Affair is one of the lost films.\\n\\nIn 1933, Hitchcock signed a multi-film contract with Gaumont-British, once again working for Michael Balcon. His first film for the company, The Man Who Knew Too Much (1934), was a success; his second, The 39 Steps (1935), was acclaimed in the UK, and gained him recognition in the United States. It also established the quintessential English \"Hitchcock blonde\" (Madeleine Carroll) as the template for his succession of ice-cold, elegant leading ladies. Screenwriter Robert Towne remarked: \"It\\'s not much of an exaggeration to say that all contemporary escapist entertainment begins with The 39 Steps\". John Buchan, author of The Thirty-Nine Steps on which the film is loosely based, met with Hitchcock on set, and attended the high-profile premiere at the New Gallery Cinema in London. Upon viewing the film, the author said it had improved on the book. This film was one of the first to introduce the \"MacGuffin\" plot device, a term coined by the English screenwriter Angus MacPhail. The MacGuffin is an item or goal the protagonist is pursuing, one that otherwise has no narrative value; in The 39 Steps, the MacGuffin is a stolen set of design plans.\\n\\nHitchcock released two spy thrillers in 1936. Sabotage was loosely based on Joseph Conrad\\'s novel, The Secret Agent (1907), about a woman who discovers that her husband is a terrorist, and Secret Agent, based on two stories in Ashenden: Or the British Agent (1928) by W. Somerset Maugham.\\n\\nAt this time, Hitchcock also became notorious for pranks against the cast and crew. These jokes ranged from simple and innocent to crazy and maniacal. For instance, he hosted a dinner party where he dyed all the food blue because he claimed there weren\\'t enough blue foods. He also had a horse delivered to the dressing room of his friend, actor Gerald du Maurier.\\n\\nHitchcock followed up with Young and Innocent in 1937, a crime thriller based on the 1936 novel A Shilling for Candles by Josephine Tey. Starring Nova Pilbeam and Derrick De Marney, the film was relatively enjoyable for the cast and crew to make. To meet distribution purposes in America, the film\\'s runtime was cut and this included removal of one of Hitchcock\\'s favourite scenes: a children\\'s tea party which becomes menacing to the protagonists.\\n\\nHitchcock\\'s next major success was The Lady Vanishes (1938), \"one of the greatest train movies from the genre\\'s golden era\", according to Philip French, in which Miss Froy (May Whitty), a British spy posing as a governess, disappears on a train journey through the fictional European country of Bandrika. The film saw Hitchcock receive the 1938 New York Film Critics Circle Award for Best Director. Benjamin Crisler of the New York Times wrote in June 1938: \"Three unique and valuable institutions the British have that we in America have not: Magna Carta, the Tower Bridge and Alfred Hitchcock, the greatest director of screen melodramas in the world.\" The film was based on the novel The Wheel Spins (1936) written by Ethel Lina White.\\n\\nBy 1938, Hitchcock was aware that he had reached his peak in Britain. He had received numerous offers from producers in the United States, but he turned them all down because he disliked the contractual obligations or thought the projects were repellent. However, producer David O. Selznick offered him a concrete proposal to make a film based on the sinking of , which was eventually shelved, but Selznick persuaded Hitchcock to come to Hollywood. In July 1938, Hitchcock flew to New York, and found that he was already a celebrity; he was featured in magazines and gave interviews to radio stations. In Hollywood, Hitchcock met Selznick for the first time. Selznick offered him a four-film contract, approximately $40,000 for each picture ().\\n\\nEarly Hollywood years: 1939–1945\\n\\nSelznick contract\\nSelznick signed Hitchcock to a seven-year contract beginning in April 1939, and the Hitchcocks moved to Hollywood. The Hitchcocks lived in a spacious flat on Wilshire Boulevard, and slowly acclimatised themselves to the Los Angeles area. He and his wife Alma kept a low profile, and were not interested in attending parties or being celebrities. Hitchcock discovered his taste for fine food in West Hollywood, but still carried on his way of life from England. He was impressed with Hollywood\\'s filmmaking culture, expansive budgets and efficiency, compared to the limits that he had often faced in Britain. In June that year, Life called him the \"greatest master of melodrama in screen history\".\\n\\nAlthough Hitchcock and Selznick respected each other, their working arrangements were sometimes difficult. Selznick suffered from constant financial problems, and Hitchcock was often unhappy about Selznick\\'s creative control and interference over his films. Selznick was also displeased with Hitchcock\\'s method of shooting just what was in the script, and nothing more, which meant that the film could not be cut and remade differently at a later time. As well as complaining about Hitchcock\\'s \"goddamn jigsaw cutting\", their personalities were mismatched: Hitchcock was reserved whereas Selznick was flamboyant. Eventually, Selznick generously lent Hitchcock to the larger film studios. Selznick made only a few films each year, as did fellow independent producer Samuel Goldwyn, so he did not always have projects for Hitchcock to direct. Goldwyn had also negotiated with Hitchcock on a possible contract, only to be outbid by Selznick. In a later interview, Hitchcock said: \"[Selznick] was the Big Producer.\\xa0... Producer was king. The most flattering thing Mr. Selznick ever said about me—and it shows you the amount of control—he said I was the \\'only director\\' he\\'d \\'trust with a film\\'.\"\\n\\nHitchcock approached American cinema cautiously; his first American film was set in England in which the \"Americanness\" of the characters was incidental: Rebecca (1940) was set in a Hollywood version of England\\'s Cornwall and based on a novel by English novelist Daphne du Maurier. Selznick insisted on a faithful adaptation of the book, and disagreed with Hitchcock with the use of humour. The film, starring Laurence Olivier and Joan Fontaine, concerns an unnamed naïve young woman who marries a widowed aristocrat. She lives in his large English country house, and struggles with the lingering reputation of his elegant and worldly first wife Rebecca, who died under mysterious circumstances. The film won Best Picture at the 13th Academy Awards; the statuette was given to producer Selznick. Hitchcock received his first nomination for Best Director, his first of five such nominations.\\n\\nHitchcock\\'s second American film was the thriller Foreign Correspondent (1940), set in Europe, based on Vincent Sheean\\'s book Personal History (1935) and produced by Walter Wanger. It was nominated for Best Picture that year. Hitchcock felt uneasy living and working in Hollywood while Britain was at war; his concern resulted in a film that overtly supported the British war effort. Filmed in 1939, it was inspired by the rapidly changing events in Europe, as covered by an American newspaper reporter played by Joel McCrea. By mixing footage of European scenes with scenes filmed on a Hollywood backlot, the film avoided direct references to Nazism, Nazi Germany and Germans, to comply with the Motion Picture Production Code at the time.\\n\\nEarly war years\\nIn September 1940, the Hitchcocks bought the  Cornwall Ranch near Scotts Valley, California, in the Santa Cruz Mountains. Their primary residence was an English-style home in Bel Air, purchased in 1942. Hitchcock\\'s films were diverse during this period, ranging from the romantic comedy Mr. & Mrs. Smith (1941) to the bleak film noir Shadow of a Doubt (1943).\\n\\nSuspicion (1941) marked Hitchcock\\'s first film as a producer and director. It is set in England; Hitchcock used the north coast of Santa Cruz for the English coastline sequence. The film is the first of four in which Cary Grant was cast by Hitchcock, and it is one of the rare occasions that Grant plays a sinister character. Grant plays Johnnie Aysgarth, an English conman whose actions raise suspicion and anxiety in his shy young English wife, Lina McLaidlaw (Joan Fontaine). In one scene, Hitchcock placed a light inside a glass of milk, perhaps poisoned, that Grant is bringing to his wife; the light ensures that the audience\\'s attention is on the glass. Grant\\'s character is actually a killer, as per written in the book, Before the Fact by Francis Iles, but the studio felt that Grant\\'s image would be tarnished by that. Hitchcock therefore settled for an ambiguous finale, although he would have preferred to end with the wife\\'s murder. Fontaine won Best Actress for her performance.\\n\\nSaboteur (1942) is the first of two films that Hitchcock made for Universal Studios during the decade. Hitchcock wanted Gary Cooper and Barbara Stanwyck or Henry Fonda and Gene Tierney to star, but was forced by Universal to use Universal contract player Robert Cummings and Priscilla Lane, a freelancer who signed a one-picture deal with the studio, both known for their work in comedies and light dramas. The story depicts a confrontation between a suspected saboteur (Cummings) and a real saboteur (Norman Lloyd) atop the Statue of Liberty. Hitchcock took a three-day tour of New York City to scout for Saboteurs filming locations. He also directed Have You Heard? (1942), a photographic dramatisation for Life magazine of the dangers of rumours during wartime. In 1943, he wrote a mystery story for Look, \"The Murder of Monty Woolley\", a sequence of captioned photographs inviting the reader to find clues to the murderer\\'s identity; Hitchcock cast the performers as themselves, such as Woolley, Doris Merrick and make-up man Guy Pearce.\\n\\nBack in England, Hitchcock\\'s mother Emma was severely ill; she died on 26 September 1942 at age 79. Hitchcock never spoke publicly about his mother, but his assistant said that he admired her. Four months later, on 4 January 1943, his brother William died of an overdose at age 52. Hitchcock was not very close to William, but his death made Hitchcock conscious about his own eating and drinking habits. He was overweight and suffering from back aches. His New Year\\'s resolution in 1943 was to take his diet seriously with the help of a physician. In January that year, Shadow of a Doubt was released, which Hitchcock had fond memories of making. In the film, Charlotte \"Charlie\" Newton (Teresa Wright) suspects her beloved uncle Charlie Oakley (Joseph Cotten) of being a serial killer. Hitchcock filmed extensively on location, this time in the Northern California city of Santa Rosa.\\n\\nAt 20th Century Fox, Hitchcock approached John Steinbeck with an idea for a film, which recorded the experiences of the survivors of a German U-boat attack. Steinbeck began work on the script for what would become Lifeboat (1944). However, Steinbeck was unhappy with the film and asked that his name be removed from the credits, to no avail. The idea was rewritten as a short story by Harry Sylvester and published in Collier\\'s in 1943. The action sequences were shot in a small boat in the studio water tank. The locale posed problems for Hitchcock\\'s traditional cameo appearance; it was solved by having Hitchcock\\'s image appear in a newspaper that William Bendix is reading in the boat, showing the director in a before-and-after advertisement for \"Reduco-Obesity Slayer\". He told Truffaut in 1962:\\n\\nHitchcock\\'s typical dinner before his weight loss had been a roast chicken, boiled ham, potatoes, bread, vegetables, relishes, salad, dessert, a bottle of wine and some brandy. To lose weight, his diet consisted of black coffee for breakfast and lunch, and steak and salad for dinner, but it was hard to maintain; Donald Spoto wrote that his weight fluctuated considerably over the next 40 years. At the end of 1943, despite the weight loss, the Occidental Insurance Company of Los Angeles refused his application for life insurance.\\n\\nWartime non-fiction films\\n\\nHitchcock returned to the UK for an extended visit in late 1943 and early 1944. While there he made two short propaganda films, Bon Voyage (1944) and Aventure Malgache (1944), for the Ministry of Information. In June and July 1945, Hitchcock served as \"treatment advisor\" on a Holocaust documentary that used Allied Forces footage of the liberation of Nazi concentration camps. The film was assembled in London and produced by Sidney Bernstein of the Ministry of Information, who brought Hitchcock (a friend of his) on board. It was originally intended to be broadcast to the Germans, but the British government deemed it too traumatic to be shown to a shocked post-war population. Instead, it was transferred in 1952 from the British War Office film vaults to London\\'s Imperial War Museum and remained unreleased until 1985, when an edited version was broadcast as an episode of PBS Frontline, under the title the Imperial War Museum had given it: Memory of the Camps. The full-length version of the film, German Concentration Camps Factual Survey, was restored in 2014 by scholars at the Imperial War Museum.\\n\\nPost-war Hollywood years: 1945–1953\\n\\nLater Selznick films\\n\\nHitchcock worked for David Selznick again when he directed Spellbound (1945), which explores psychoanalysis and features a dream sequence designed by Salvador Dalí. The dream sequence as it appears in the film is ten minutes shorter than was originally envisioned; Selznick edited it to make it \"play\" more effectively. Gregory Peck plays amnesiac Dr. Anthony Edwardes under the treatment of analyst Dr. Peterson (Ingrid Bergman), who falls in love with him while trying to unlock his repressed past. Two point-of-view shots were achieved by building a large wooden hand (which would appear to belong to the character whose point of view the camera took) and out-sized props for it to hold: a bucket-sized glass of milk and a large wooden gun. For added novelty and impact, the climactic gunshot was hand-coloured red on some copies of the black-and-white film. The original musical score by Miklós Rózsa makes use of the theremin, and some of it was later adapted by the composer into Rozsa\\'s Piano Concerto Op. 31 (1967) for piano and orchestra.\\n\\nThe spy film Notorious followed next in 1946. Hitchcock told François Truffaut that Selznick sold him, Ingrid Bergman, Cary Grant and Ben Hecht\\'s screenplay, to RKO Radio Pictures as a \"package\" for $500,000 (equivalent to $\\xa0million in ) because of cost overruns on Selznick\\'s Duel in the Sun (1946). Notorious stars Bergman and Grant, both Hitchcock collaborators, and features a plot about Nazis, uranium and South America. His prescient use of uranium as a plot device led to him being briefly placed under surveillance by the Federal Bureau of Investigation. According to Patrick McGilligan, in or around March 1945, Hitchcock and Hecht consulted Robert Millikan of the California Institute of Technology about the development of a uranium bomb. Selznick complained that the notion was \"science fiction\", only to be confronted by the news of the detonation of two atomic bombs on Hiroshima and Nagasaki in Japan in August 1945.\\n\\nTransatlantic Pictures\\n\\nHitchcock formed an independent production company, Transatlantic Pictures, with his friend Sidney Bernstein. He made two films with Transatlantic, one of which was his first colour film. With Rope (1948), Hitchcock experimented with marshalling suspense in a confined environment, as he had done earlier with Lifeboat. The film appears as a very limited number of continuous shots, but it was actually shot in 10 ranging from  to 10 minutes each; a 10-minute length of film was the most that a camera\\'s film magazine could hold at the time. Some transitions between reels were hidden by having a dark object fill the entire screen for a moment. Hitchcock used those points to hide the cut, and began the next take with the camera in the same place. The film features James Stewart in the leading role, and was the first of four films that Stewart made with Hitchcock. It was inspired by the Leopold and Loeb case of the 1920s. Critical response at the time was mixed.\\n\\nUnder Capricorn (1949), set in 19th-century Australia, also uses the short-lived technique of long takes, but to a more limited extent. He again used Technicolor in this production, then returned to black-and-white for several years. Transatlantic Pictures became inactive after the last two films. Hitchcock filmed Stage Fright (1950) at Elstree Studios in England, where he had worked during his British International Pictures contract many years before. He paired one of Warner Bros.\\' most popular stars, Jane Wyman, with the expatriate German actor Marlene Dietrich and used several prominent British actors, including Michael Wilding, Richard Todd and Alastair Sim. This was Hitchcock\\'s first proper production for Warner Bros., which had distributed Rope and Under Capricorn, because Transatlantic Pictures was experiencing financial difficulties.\\n\\nHis thriller Strangers on a Train (1951) was based on the novel of the same name by Patricia Highsmith. Hitchcock combined many elements from his preceding films. He approached Dashiell Hammett to write the dialogue, but Raymond Chandler took over, then left over disagreements with the director. In the film, two men casually meet, one of whom speculates on a foolproof method to murder; he suggests that two people, each wishing to do away with someone, should each perform the other\\'s murder. Farley Granger\\'s role was as the innocent victim of the scheme, while Robert Walker, previously known for \"boy-next-door\" roles, played the villain. I Confess (1953) was set in Quebec with Montgomery Clift as a Catholic priest.\\n\\nPeak years: 1954–1964\\n\\nDial M for Murder and Rear Window\\n\\nI Confess was followed by three colour films starring Grace Kelly: Dial M for Murder (1954), Rear Window (1954) and To Catch a Thief (1955). In Dial M for Murder, Ray Milland plays the villain who tries to murder his unfaithful wife (Kelly) for her money. She kills the hired assassin in self-defence, so Milland manipulates the evidence to make it look like murder. Her lover, Mark Halliday (Robert Cummings), and Police Inspector Hubbard (John Williams) save her from execution. Hitchcock experimented with 3D cinematography for Dial M for Murder.\\n\\nHitchcock moved to Paramount Pictures and filmed Rear Window (1954), starring James Stewart and Grace Kelly, as well as Thelma Ritter and Raymond Burr. Stewart\\'s character is a photographer named Jeff (based on Robert Capa) who must temporarily use a wheelchair. Out of boredom, he begins observing his neighbours across the courtyard, then becomes convinced that one of them (Raymond Burr) has murdered his wife. Jeff eventually manages to convince his policeman buddy (Wendell Corey) and his girlfriend (Kelly). As with Lifeboat and Rope, the principal characters are depicted in confined or cramped quarters, in this case Stewart\\'s studio apartment. Hitchcock uses close-ups of Stewart\\'s face to show his character\\'s reactions, \"from the comic voyeurism directed at his neighbours to his helpless terror watching Kelly and Burr in the villain\\'s apartment\".\\n\\nAlfred Hitchcock Presents\\n\\nFrom 1955 to 1965, Hitchcock was the host of the television series Alfred Hitchcock Presents. With his droll delivery, gallows humour and iconic image, the series made Hitchcock a celebrity. The title-sequence of the show pictured a minimalist caricature of his profile (he drew it himself; it is composed of only nine strokes), which his real silhouette then filled. The series theme tune was Funeral March of a Marionette by the French composer Charles Gounod (1818–1893).\\n\\nHis introductions always included some sort of wry humour, such as the description of a recent multi-person execution hampered by having only one electric chair, while two are shown with a sign \"Two chairs—no waiting!\" He directed 18 episodes of the series, which aired from 1955 to 1965. It became The Alfred Hitchcock Hour in 1962, and NBC broadcast the final episode on 10 May 1965. In the 1980s, a new version of Alfred Hitchcock Presents was produced for television, making use of Hitchcock\\'s original introductions in a colourised form.\\n\\nHitchcock\\'s success in television spawned a set of short-story collections in his name; these included Alfred Hitchcock\\'s Anthology, Stories They Wouldn\\'t Let Me Do on TV, and Tales My Mother Never Told Me. In 1956, HSD Publications also licensed the director\\'s name to create Alfred Hitchcock\\'s Mystery Magazine, a monthly digest specialising in crime and detective fiction. Hitchcock\\'s television series were very profitable, and his foreign-language versions of books were bringing revenues of up to $100,000 a year ().\\n\\nFrom To Catch a Thief to Vertigo\\nIn 1955, Hitchcock became a United States citizen. In the same year, his third Grace Kelly film, To Catch a Thief, was released; it is set in the French Riviera, and stars Kelly and Cary Grant. Grant plays retired thief John Robie, who becomes the prime suspect for a spate of robberies in the Riviera. A thrill-seeking American heiress played by Kelly surmises his true identity and tries to seduce him. \"Despite the obvious age disparity between Grant and Kelly and a lightweight plot, the witty script (loaded with double entendres) and the good-natured acting proved a commercial success.\" It was Hitchcock\\'s last film with Kelly; she married Prince Rainier of Monaco in 1956, and ended her film career afterward. Hitchcock then remade his own 1934 film The Man Who Knew Too Much in 1956. This time, the film starred James Stewart and Doris Day, who sang the theme song \"Que Sera, Sera\", which won the Academy Award for Best Original Song and became a big hit. They play a couple whose son is kidnapped to prevent them from interfering with an assassination. As in the 1934 film, the climax takes place at the Royal Albert Hall.\\n\\nThe Wrong Man (1956), Hitchcock\\'s final film for Warner Bros., is a low-key black-and-white production based on a real-life case of mistaken identity reported in Life magazine in 1953. This was the only film of Hitchcock to star Henry Fonda, playing a Stork Club musician mistaken for a liquor store thief, who is arrested and tried for robbery while his wife (Vera Miles) emotionally collapses under the strain. Hitchcock told Truffaut that his lifelong fear of the police attracted him to the subject and was embedded in many scenes.\\n\\nWhile directing episodes for Alfred Hitchcock Presents during the summer of 1957, Hitchcock was admitted to hospital for hernia and gallstones, and had to have his gallbladder removed. Following a successful surgery, he immediately returned to work to prepare for his next project. Vertigo (1958) again starred James Stewart, with Kim Novak and Barbara Bel Geddes. He had wanted Vera Miles to play the lead, but she was pregnant. He told Oriana Fallaci: \"I was offering her a big part, the chance to become a beautiful sophisticated blonde, a real actress. We\\'d have spent a heap of dollars on it, and she has the bad taste to get pregnant. I hate pregnant women, because then they have children.\"\\n\\nIn Vertigo, Stewart plays Scottie, a former police investigator suffering from acrophobia, who becomes obsessed with a woman he has been hired to shadow (Novak). Scottie\\'s obsession leads to tragedy, and this time Hitchcock did not opt for a happy ending. Some critics, including Donald Spoto and Roger Ebert, agree that Vertigo is the director\\'s most personal and revealing film, dealing with the Pygmalion-like obsessions of a man who moulds a woman into the person he desires. Vertigo explores more frankly and at greater length his interest in the relation between sex and death, than any other work in his filmography.\\n\\nVertigo contains a camera technique developed by Irmin Roberts, commonly referred to as a dolly zoom, which has been copied by many filmmakers. The film premiered at the San Sebastián International Film Festival, and Hitchcock won the Silver Seashell prize. Vertigo is considered a classic, but it attracted mixed reviews and poor box-office receipts at the time; the critic from Variety opined that the film was \"too slow and too long\". Bosley Crowther of the New York Times thought it was \"devilishly far-fetched\", but praised the cast performances and Hitchcock\\'s direction. The picture was also the last collaboration between Stewart and Hitchcock. In the 2002 Sight & Sound polls, it ranked just behind Citizen Kane (1941); ten years later, in the same magazine, critics chose it as the best film ever made.\\n\\nNorth by Northwest and Psycho\\n\\nAfter Vertigo, the rest of 1958 was a difficult year for Hitchcock. During pre-production of North by Northwest (1959), which was a \"slow\" and \"agonising\" process, his wife Alma was diagnosed with cancer. While she was in hospital, Hitchcock kept himself occupied with his television work and would visit her every day. Alma underwent surgery and made a full recovery, but it caused Hitchcock to imagine, for the first time, life without her.\\n\\nHitchcock followed up with three more successful films, which are also recognised as among his best: North by Northwest, Psycho (1960) and The Birds (1963). In North by Northwest, Cary Grant portrays Roger Thornhill, a Madison Avenue advertising executive who is mistaken for a government secret agent. He is pursued across the United States by enemy agents, including Eve Kendall (Eva Marie Saint). At first, Thornhill believes Kendall is helping him, but then realises that she is an enemy agent; he later learns that she is working undercover for the CIA. During its opening two-week run at Radio City Music Hall, the film grossed $404,056 (equivalent to $\\xa0million in ), setting a non-holiday gross record for that theatre. Time magazine called the film \"smoothly troweled and thoroughly entertaining\".\\n\\nPsycho (1960) is arguably Hitchcock\\'s best-known film. Based on Robert Bloch\\'s 1959 novel Psycho, which was inspired by the case of Ed Gein, the film was produced on a tight budget of $800,000 (equivalent to $\\xa0million in ) and shot in black-and-white on a spare set using crew members from Alfred Hitchcock Presents. The unprecedented violence of the shower scene, the early death of the heroine, and the innocent lives extinguished by a disturbed murderer became the hallmarks of a new horror-film genre. The film proved popular with audiences, with lines stretching outside theatres as viewers waited for the next showing. It broke box-office records in the United Kingdom, France, South America, the United States and Canada, and was a moderate success in Australia for a brief period.\\n\\nPsycho was the most profitable of Hitchcock\\'s career, and he personally earned in excess of $15\\xa0million (equivalent to $\\xa0million in ). He subsequently swapped his rights to Psycho and his TV anthology for 150,000 shares of MCA, making him the third largest shareholder and his own boss at Universal, in theory at least, although that did not stop studio interference. Following the first film, Psycho became an American horror franchise: Psycho II, Psycho III, Bates Motel, Psycho IV: The Beginning and a colour 1998 remake of the original.\\n\\nTruffaut interview\\n\\nOn 13 August 1962, Hitchcock\\'s 63rd birthday, the French director François Truffaut began a 50-hour interview of Hitchcock, filmed over eight days at Universal Studios, during which Hitchcock agreed to answer 500 questions. It took four years to transcribe the tapes and organise the images; it was published as a book in 1967, which Truffaut nicknamed the \"Hitchbook\". The audio tapes were used as the basis of a documentary in 2015. Truffaut sought the interview because it was clear to him that Hitchcock was not simply the mass-market entertainer the American media made him out to be. It was obvious from his films, Truffaut wrote, that Hitchcock had \"given more thought to the potential of his art than any of his colleagues\". He compared the interview to \"Oedipus\\' consultation of the oracle\".\\n\\nThe Birds\\n\\nThe film scholar Peter William Evans wrote that The Birds (1963) and Marnie (1964) are regarded as \"undisputed masterpieces\". Hitchcock had intended to film Marnie first, and in March 1962 it was announced that Grace Kelly, Princess Grace of Monaco since 1956, would come out of retirement to star in it. When Kelly asked Hitchcock to postpone Marnie until 1963 or 1964, he recruited Evan Hunter, author of The Blackboard Jungle (1954), to develop a screenplay based on a Daphne du Maurier short story, \"The Birds\" (1952), which Hitchcock had republished in his My Favorites in Suspense (1959). He hired Tippi Hedren to play the lead role. It was her first role; she had been a model in New York when Hitchcock saw her, in October 1961, in an NBC television advert for Sego, a diet drink: \"I signed her because she is a classic beauty. Movies don\\'t have them any more. Grace Kelly was the last.\" He insisted, without explanation, that her first name be written in single quotation marks: \\'Tippi\\'.\\n\\nIn The Birds, Melanie Daniels, a young socialite, meets lawyer Mitch Brenner (Rod Taylor) in a bird shop; Jessica Tandy plays his possessive mother. Hedren visits him in Bodega Bay (where The Birds was filmed) carrying a pair of lovebirds as a gift. Suddenly waves of birds start gathering, watching, and attacking. The question: \"What do the birds want?\" is left unanswered. Hitchcock made the film with equipment from the Revue Studio, which made Alfred Hitchcock Presents. He said it was his most technically challenging film, using a combination of trained and mechanical birds against a backdrop of wild ones. Every shot was sketched in advance.\\n\\nAn HBO/BBC television film, The Girl (2012), depicted Hedren\\'s experiences on set; she said that Hitchcock became obsessed with her and sexually harassed her. He reportedly isolated her from the rest of the crew, had her followed, whispered obscenities to her, had her handwriting analysed and had a ramp built from his private office directly into her trailer. Diane Baker, her co-star in Marnie, said: \"[N]othing could have been more horrible for me than to arrive on that movie set and to see her being treated the way she was.\" While filming the attack scene in the attic — which took a week to film — she was placed in a caged room while two men wearing elbow-length protective gloves threw live birds at her. Toward the end of the week, to stop the birds\\' flying away from her too soon, one leg of each bird was attached by nylon thread to elastic bands sewn inside her clothes. She broke down after a bird cut her lower eyelid, and filming was halted on doctor\\'s orders.\\n\\nMarnie\\n\\nIn June 1962, Grace Kelly announced that she had decided against appearing in Marnie (1964). Hedren had signed an exclusive seven-year, $500-a-week contract with Hitchcock in October 1961, and he decided to cast her in the lead role opposite Sean Connery. In 2016, describing Hedren\\'s performance as \"one of the greatest in the history of cinema\", Richard Brody called the film a \"story of sexual violence\" inflicted on the character played by Hedren: \"The film is, to put it simply, sick, and it\\'s so because Hitchcock was sick. He suffered all his life from furious sexual desire, suffered from the lack of its gratification, suffered from the inability to transform fantasy into reality, and then went ahead and did so virtually, by way of his art.\" A 1964 New York Times review called it Hitchcock\\'s \"most disappointing film in years\", citing Hedren\\'s and Connery\\'s lack of experience, an amateurish script and \"glaringly fake cardboard backdrops\".\\n\\nIn the film, Marnie Edgar (Hedren) steals $10,000 from her employer and goes on the run. She applies for a job at Mark Rutland\\'s (Connery) company in Philadelphia and steals from there too. Earlier, she is shown having a panic attack during a thunderstorm and fearing the colour red. Mark tracks her down and blackmails her into marrying him. She explains that she does not want to be touched, but during the \"honeymoon\", Mark rapes her. Marnie and Mark discover that Marnie\\'s mother had been a prostitute when Marnie was a child, and that, while the mother was fighting with a client during a thunderstorm — the mother believed the client had tried to molest Marnie — Marnie had killed the client to save her mother. Cured of her fears when she remembers what happened, she decides to stay with Mark.\\n\\nHitchcock told cinematographer Robert Burks that the camera had to be placed as close as possible to Hedren when he filmed her face. Evan Hunter, the screenwriter of The Birds who was writing Marnie too, explained to Hitchcock that, if Mark loved Marnie, he would comfort her, not rape her. Hitchcock reportedly replied: \"Evan, when he sticks it in her, I want that camera right on her face!\" When Hunter submitted two versions of the script, one without the rape scene, Hitchcock replaced him with Jay Presson Allen.\\n\\nLater years: 1966–1980\\n\\nFinal films\\nFailing health reduced Hitchcock\\'s output during the last two decades of his life. Biographer Stephen Rebello claimed Universal imposed two films on him, Torn Curtain (1966) and Topaz (1969), the latter of which is based on a Leon Uris novel, partly set in Cuba. Both were spy thrillers with Cold War-related themes. Torn Curtain, with Paul Newman and Julie Andrews, precipitated the bitter end of the twelve-year collaboration between Hitchcock and composer Bernard Herrmann. Hitchcock was unhappy with Herrmann\\'s score and replaced him with John Addison, Jay Livingston and Ray Evans. Upon release, Torn Curtain was a box office disappointment, and Topaz was disliked by both critics and the studio.\\n\\nHitchcock returned to Britain to make his penultimate film, Frenzy (1972), based on the novel Goodbye Piccadilly, Farewell Leicester Square (1966). After two espionage films, the plot marked a return to the murder-thriller genre. Richard Blaney (Jon Finch), a volatile barman with a history of explosive anger, becomes the prime suspect in the investigation into the \"Necktie Murders\", which are actually committed by his friend Bob Rusk (Barry Foster). This time, Hitchcock makes the victim and villain kindreds, rather than opposites, as in Strangers on a Train.\\n\\nIn Frenzy, Hitchcock allowed nudity for the first time. Two scenes show naked women, one of whom is being raped and strangled; Donald Spoto called the latter \"one of the most repellent examples of a detailed murder in the history of film\". Both actors, Barbara Leigh-Hunt and Anna Massey, refused to do the scenes, so models were used instead. Biographers have noted that Hitchcock had always pushed the limits of film censorship, often managing to fool Joseph Breen, the head of the Motion Picture Production Code. Hitchcock would add subtle hints of improprieties forbidden by censorship until the mid-1960s. Yet, Patrick McGilligan wrote that Breen and others often realised that Hitchcock was inserting such material and were actually amused, as well as alarmed by Hitchcock\\'s \"inescapable inferences\".\\n\\nFamily Plot (1976) was Hitchcock\\'s last film. It relates the escapades of \"Madam\" Blanche Tyler, played by Barbara Harris, a fraudulent spiritualist, and her taxi-driver lover Bruce Dern, making a living from her phony powers. While Family Plot was based on the Victor Canning novel The Rainbird Pattern (1972), the novel\\'s tone is more sinister. Screenwriter Ernest Lehman originally wrote the film, under the working title Deception, with a dark tone but was pushed to a lighter, more comical tone by Hitchcock where it took the name Deceit, then finally, Family Plot.\\n\\nKnighthood and death\\n Toward the end of his life, Hitchcock was working on the script for a spy thriller, The Short Night, collaborating with James Costigan, Ernest Lehman and David Freeman. Despite preliminary work, it was never filmed. Hitchcock\\'s health was declining and he was worried about his wife, who had suffered a stroke. The screenplay was eventually published in Freeman\\'s book The Last Days of Alfred Hitchcock (1999).\\n\\nHaving refused a CBE in 1962, Hitchcock was appointed a Knight Commander of the Most Excellent Order of the British Empire (KBE) in the 1980 New Year Honours. He was too ill to travel to London—he had a pacemaker and was being given cortisone injections for his arthritis—so on 3 January 1980 the British consul general presented him with the papers at Universal Studios. Asked by a reporter after the ceremony why it had taken the Queen so long, Hitchcock quipped, \"I suppose it was a matter of carelessness.\" Cary Grant, Janet Leigh and others attended a luncheon afterwards.\\n\\nHis last public appearance was on 16 March 1980, when he introduced the next year\\'s winner of the American Film Institute award. He died of kidney failure the following month, on 29 April, in his Bel Air home. Donald Spoto, one of Hitchcock\\'s biographers, wrote that Hitchcock had declined to see a priest, but according to Jesuit priest Mark Henninger, he and another priest, Tom Sullivan, celebrated Mass at the filmmaker\\'s home, and Sullivan heard his confession. Hitchcock was survived by his wife and daughter. His funeral was held at Good Shepherd Catholic Church in Beverly Hills on 30 April, after which his body was cremated. His remains were scattered over the Pacific Ocean on 10 May 1980.\\n\\nFilmmaking\\n\\nStyle and themes\\n\\nThe \"Hitchcockian\" style includes the use of editing and camera movement to mimic a person\\'s gaze, thereby turning viewers into voyeurs, and framing shots to maximise anxiety and fear. The film critic Robin Wood wrote that the meaning of a Hitchcock film \"is there in the method, in the progression from shot to shot. A Hitchcock film is an organism, with the whole implied in every detail and every detail related to the whole.\"  \\n\\nHitchcock\\'s film production career evolved from small-scale silent films to financially significant sound films. Hitchcock remarked that he was influenced by early filmmakers George Méliès, D.W. Griffith and Alice Guy-Blaché. His silent films between 1925 and 1929 were in the crime and suspense genres, but also included melodramas and comedies. Whilst visual storytelling was pertinent during the silent era, even after the arrival of sound, Hitchcock still relied on visuals in cinema; he referred to this emphasis on visual storytelling as \"pure cinema\". In Britain, he honed his craft so that by the time he moved to Hollywood, the director had perfected his style and camera techniques. Hitchcock later said that his British work was the \"sensation of cinema\", whereas the American phase was when his \"ideas were fertilised\". Scholar Robin Wood writes that the director\\'s first two films, The Pleasure Garden and The Mountain Eagle, were influenced by German Expressionism. Afterward, he discovered Soviet cinema, and Sergei Eisenstein\\'s and Vsevolod Pudovkin\\'s theories of montage. 1926\\'s The Lodger was inspired by both German and Soviet aesthetics, styles which solidified the rest of his career. Although Hitchcock\\'s work in the 1920s found some success, several British reviewers criticised Hitchcock\\'s films for being unoriginal and conceited. Raymond Durgnat opined that Hitchcock\\'s films were carefully and intelligently constructed, but thought they can be shallow and rarely present a \"coherent worldview\".\\n\\nEarning the title \"Master of Suspense\", the director experimented with ways to generate tension in his work. He said, \"My suspense work comes out of creating nightmares for the audience. And I play with an audience. I make them gasp and surprise them and shock them. When you have a nightmare, it\\'s awfully vivid if you\\'re dreaming that you\\'re being led to the electric chair. Then you\\'re as happy as can be when you wake up because you\\'re relieved.\" During filming of North by Northwest, Hitchcock explained his reasons for recreating the set of Mount Rushmore: \"The audience responds in proportion to how realistic you make it. One of the dramatic reasons for this type of photography is to get it looking so natural that the audience gets involved and believes, for the time being, what\\'s going on up there on the screen.\" In a 1963 interview with Italian journalist Oriana Fallaci, Hitchcock was asked how in spite of appearing to be a pleasant, innocuous man, he seemed to enjoy making films involving suspense and terrifying crime. He responded:\\n\\nHitchcock\\'s films, from the silent to the sound era, contained a number of recurring themes that he is famous for. His films explored audience as a voyeur, notably in Rear Window, Marnie and Psycho. He understood that human beings enjoy voyeuristic activities and made the audience participate in it through the character\\'s actions. Of his fifty-three films, eleven revolved around stories of mistaken identity, where an innocent protagonist is accused of a crime and is pursued by police. In most cases, it is an ordinary, everyday person who finds themselves in a dangerous situation. Hitchcock told Truffaut: \"That\\'s because the theme of the innocent man being accused, I feel, provides the audience with a greater sense of danger. It\\'s easier for them to identify with him than with a guilty man on the run.\" One of his constant themes were the struggle of a personality torn between \"order and chaos\"; known as the notion of \"double\", which is a comparison or contrast between two characters or objects: the double representing a dark or evil side.\\n\\nAccording to Robin Wood, Hitchcock retained a feeling of ambivalence towards homosexuality, despite working with gay actors throughout his career. Donald Spoto suggests that Hitchcock\\'s sexually repressive childhood may have contributed to his exploration of deviancy. During the 1950s, the Motion Picture Production Code prohibited direct references to homosexuality but the director was known for his subtle references, and pushing the boundaries of the censors. Moreover, Shadow of a Doubt has a double incest theme through the storyline, expressed implicitly through images. Author Jane Sloan argues that Hitchcock was drawn to both conventional and unconventional sexual expression in his work, and the theme of marriage was usually presented in a \"bleak and skeptical\" manner. It was also not until after his mother\\'s death in 1942, that Hitchcock portrayed motherly figures as \"notorious monster-mothers\". The espionage backdrop, and murders committed by characters with psychopathic tendencies were common themes too. In Hitchcock\\'s depiction of villains and murderers, they were usually charming and friendly, forcing viewers to identify with them. The director\\'s strict childhood and Jesuit education may have led to his distrust of authoritarian figures such as policemen and politicians; a theme which he has explored. Also, he used the \"MacGuffin\"—the use of an object, person or event to keep the plot moving along even if it was non-essential to the story. Some examples include the microfilm in North by Northwest and the stolen $40,000 in Psycho.\\n\\nHitchcock appears briefly in most of his own films. For example, he is seen struggling to get a double bass onto a train (Strangers on a Train), walking dogs out of a pet shop (The Birds), fixing a neighbour\\'s clock (Rear Window), as a shadow (Family Plot), sitting at a table in a photograph (Dial M for Murder), and riding a bus (North by Northwest, To Catch a Thief).\\n\\nRepresentation of women\\nHitchcock\\'s portrayal of women has been the subject of much scholarly debate. Bidisha wrote in The Guardian in 2010: \"There\\'s the vamp, the tramp, the snitch, the witch, the slink, the double-crosser and, best of all, the demon mommy. Don\\'t worry, they all get punished in the end.\" In a widely cited essay in 1975, Laura Mulvey introduced the idea of the male gaze; the view of the spectator in Hitchcock\\'s films, she argued, is that of the heterosexual male protagonist. \"The female characters in his films reflected the same qualities over and over again\", Roger Ebert wrote in 1996: \"They were blonde. They were icy and remote. They were imprisoned in costumes that subtly combined fashion with fetishism. They mesmerised the men, who often had physical or psychological handicaps. Sooner or later, every Hitchcock woman was humiliated.\"\\n\\nThe victims in The Lodger are all blondes. In The 39 Steps, Madeleine Carroll is put in handcuffs. Ingrid Bergman, whom Hitchcock directed three times (Spellbound, Notorious, and Under Capricorn), is dark blonde. In Rear Window, Lisa (Grace Kelly) risks her life by breaking into Lars Thorwald\\'s apartment. In To Catch a Thief, Francie (also Kelly) offers to help a man she believes is a burglar. In Vertigo and North by Northwest respectively, Kim Novak and Eva Marie Saint play the blonde heroines. In Psycho, Janet Leigh\\'s character steals $40,000 and is murdered by Norman Bates, a reclusive psychopath. Tippi Hedren, a blonde, appears to be the focus of the attacks in The Birds. In Marnie, the title character, again played by Hedren, is a thief. In Topaz, French actresses Dany Robin as Stafford\\'s wife and Claude Jade as Stafford\\'s daughter are blonde heroines, the mistress was played by brunette Karin Dor. Hitchcock\\'s last blonde heroine was Barbara Harris as a phony psychic turned amateur sleuth in Family Plot (1976), his final film. In the same film, the diamond smuggler played by Karen Black wears a long blonde wig in several scenes.\\n\\nHitchcock\\'s films often feature characters struggling in their relationships with their mothers, such as Norman Bates in Psycho. In North by Northwest, Roger Thornhill (Cary Grant) is an innocent man ridiculed by his mother for insisting that shadowy, murderous men are after him. In The Birds, the Rod Taylor character, an innocent man, finds his world under attack by vicious birds, and struggles to free himself from a clinging mother (Jessica Tandy). The killer in Frenzy has a loathing of women but idolises his mother. The villain Bruno in Strangers on a Train hates his father, but has an incredibly close relationship with his mother (played by Marion Lorne). Sebastian (Claude Rains) in Notorious has a clearly conflicting relationship with his mother, who is (rightly) suspicious of his new bride, Alicia Huberman (Ingrid Bergman).\\n\\nRelationship with actors\\n\\nHitchcock became known for having remarked that \"actors should be treated like cattle\". During the filming of Mr. & Mrs. Smith (1941), Carole Lombard brought three cows onto the set wearing the name tags of Lombard, Robert Montgomery, and Gene Raymond, the stars of the film, to surprise him. In an episode of The Dick Cavett Show, originally broadcast on 8 June 1972,  Dick Cavett stated as fact that Hitchcock had once called actors cattle. Hitchcock responded by saying that, at one time, he had been accused of calling actors cattle. \"I said that I would never say such an unfeeling, rude thing about actors at all. What I probably said, was that all actors should be treated like cattle...In a nice way of course.\" He then described Carole Lombard\\'s joke, with a smile.\\n\\nHitchcock believed that actors should concentrate on their performances and leave work on script and character to the directors and screenwriters. He told Bryan Forbes in 1967: \"I remember discussing with a method actor how he was taught and so forth. He said, \\'We\\'re taught using improvisation. We are given an idea and then we are turned loose to develop in any way we want to.\\' I said, \\'That\\'s not acting. That\\'s writing.\\'\"\\n\\nRecalling their experiences on Lifeboat for Charles Chandler, author of It\\'s Only a Movie: Alfred Hitchcock A Personal Biography, Walter Slezak said that Hitchcock \"knew more about how to help an actor than any director I ever worked with\", and Hume Cronyn dismissed the idea that Hitchcock was not concerned with his actors as \"utterly fallacious\", describing at length the process of rehearsing and filming Lifeboat.\\n\\nCritics observed that, despite his reputation as a man who disliked actors, actors who worked with him often gave brilliant performances. He used the same actors in many of his films; Cary Grant and James Stewart both worked with Hitchcock four times, and Ingrid Bergman and Grace Kelly three. James Mason said that Hitchcock regarded actors as \"animated props\". For Hitchcock, the actors were part of the film\\'s setting. He told François Truffaut: \"The chief requisite for an actor is the ability to do nothing well, which is by no means as easy as it sounds. He should be willing to be used and wholly integrated into the picture by the director and the camera. He must allow the camera to determine the proper emphasis and the most effective dramatic highlights.\"\\n\\nWriting, storyboards and production\\nHitchcock planned his scripts in detail with his writers. In Writing with Hitchcock (2001), Steven DeRosa noted that Hitchcock supervised them through every draft, asking that they tell the story visually. Hitchcock told Roger Ebert in 1969:\\n\\nHitchcock\\'s films were extensively storyboarded to the finest detail. He was reported to have never even bothered looking through the viewfinder, since he did not need to, although in publicity photos he was shown doing so. He also used this as an excuse to never have to change his films from his initial vision. If a studio asked him to change a film, he would claim that it was already shot in a single way, and that there were no alternative takes to consider.\\n\\nThis view of Hitchcock as a director who relied more on pre-production than on the actual production itself has been challenged by Bill Krohn, the American correspondent of French film magazine Cahiers du Cinéma, in his book Hitchcock at Work. After investigating script revisions, notes to other production personnel written by or to Hitchcock, and other production material, Krohn observed that Hitchcock\\'s work often deviated from how the screenplay was written or how the film was originally envisioned. He noted that the myth of storyboards in relation to Hitchcock, often regurgitated by generations of commentators on his films, was to a great degree perpetuated by Hitchcock himself or the publicity arm of the studios. For example, the celebrated crop-spraying sequence of North by Northwest was not storyboarded at all. After the scene was filmed, the publicity department asked Hitchcock to make storyboards to promote the film, and Hitchcock in turn hired an artist to match the scenes in detail.\\n\\nEven when storyboards were made, scenes that were shot differed from them significantly. Krohn\\'s analysis of the production of Hitchcock classics like Notorious reveals that Hitchcock was flexible enough to change a film\\'s conception during its production. Another example Krohn notes is the American remake of The Man Who Knew Too Much, whose shooting schedule commenced without a finished script and moreover went over schedule, something that, as Krohn notes, was not an uncommon occurrence on many of Hitchcock\\'s films, including Strangers on a Train and Topaz. While Hitchcock did do a great deal of preparation for all his films, he was fully cognisant that the actual film-making process often deviated from the best-laid plans and was flexible to adapt to the changes and needs of production as his films were not free from the normal hassles faced and common routines used during many other film productions.\\n\\nKrohn\\'s work also sheds light on Hitchcock\\'s practice of generally shooting in chronological order, which he notes sent many films over budget and over schedule and, more importantly, differed from the standard operating procedure of Hollywood in the Studio System Era. Equally important is Hitchcock\\'s tendency to shoot alternative takes of scenes. This differed from coverage in that the films were not necessarily shot from varying angles so as to give the editor options to shape the film how they chose (often under the producer\\'s aegis). Rather they represented Hitchcock\\'s tendency to give himself options in the editing room, where he would provide advice to his editors after viewing a rough cut of the work.\\n\\nAccording to Krohn, this and a great deal of other information revealed through his research of Hitchcock\\'s personal papers, script revisions and the like refute the notion of Hitchcock as a director who was always in control of his films, whose vision of his films did not change during production, which Krohn notes has remained the central long-standing myth of Alfred Hitchcock. Both his fastidiousness and attention to detail also found their way into each film poster for his films. Hitchcock preferred to work with the best talent of his day—film poster designers such as Bill Gold and Saul Bass—who would produce posters that accurately represented his films.\\n\\nLegacy\\n\\nAwards and honours\\n\\nHitchcock was inducted into the Hollywood Walk of Fame on 8 February 1960 with two stars: one for television and a second for motion pictures. In 1978, John Russell Taylor described him as \"the most universally recognizable person in the world\" and \"a straightforward middle-class Englishman who just happened to be an artistic genius\". In 2002, MovieMaker named him the most influential director of all time, and a 2007 The Daily Telegraph critics\\' poll ranked him Britain\\'s greatest director. David Gritten, the newspaper\\'s film critic, wrote: \"Unquestionably the greatest filmmaker to emerge from these islands, Hitchcock did more than any director to shape modern cinema, which would be utterly different without him. His flair was for narrative, cruelly withholding crucial information (from his characters and from us) and engaging the emotions of the audience like no one else.\" In 1992, the Sight & Sound Critics\\' Poll ranked Hitchcock at No. 4 in its list of \"Top 10 Directors\" of all time. In 2002, Hitchcock was ranked second in the critics\\' top ten poll and fifth in the directors\\' top ten poll in the list of \"The Greatest Directors of All Time\" compiled by Sight & Sound. Hitchcock was voted the \"Greatest Director of 20th Century\" in a poll conducted by Japanese film magazine kinema Junpo. In 1996, Entertainment Weekly ranked Hitchcock at No. 1 in its \"50 Greatest Directors\" list. Hitchcock was ranked at No. 2 on Empires \"Top 40 Greatest Directors of All-Time\" list in 2005. In 2007, Total Film ranked Hitchcock at No. 1 on its \"100 Greatest Film Directors Ever\" list.\\n\\nHe won two Golden Globes, eight Laurel Awards, and five lifetime achievement awards, including the first BAFTA Academy Fellowship Award and, in 1979, an AFI Life Achievement Award. He was nominated five times for an Academy Award for Best Director. Rebecca, nominated for eleven Oscars, won the Academy Award for Best Picture of 1940; another Hitchcock film, Foreign Correspondent, was also nominated that year. By 2021, nine of his films had been selected for preservation by the US National Film Registry: Rebecca (1940; inducted 2018), Shadow of a Doubt (1943; inducted 1991), Notorious (1946; inducted 2006), Strangers on a Train (1951; inducted 2021), Rear Window (1954; inducted 1997), Vertigo (1958; inducted 1989), North by Northwest (1959; inducted 1995), Psycho (1960; inducted 1992) and The Birds (1963; inducted 2016).\\n\\nIn 2012, Hitchcock was selected by artist Sir Peter Blake, author of the Beatles\\' Sgt. Pepper\\'s Lonely Hearts Club Band album cover, to appear in a new version of the cover, along with other British cultural figures, and he was featured that year in a BBC Radio 4 series, The New Elizabethans, as someone \"whose actions during the reign of Elizabeth II have had a significant impact on lives in these islands and given the age its character\". In June 2013 nine restored versions of Hitchcock\\'s early silent films, including The Pleasure Garden (1925), were shown at the Brooklyn Academy of Music\\'s Harvey Theatre; known as \"The Hitchcock 9\", the travelling tribute was organised by the British Film Institute.\\n\\nArchives\\nThe Alfred Hitchcock Collection is housed at the Academy Film Archive in Hollywood, California. It includes home movies, 16mm film shot on the set of Blackmail (1929) and Frenzy (1972), and the earliest known colour footage of Hitchcock. The Academy Film Archive has preserved many of his home movies. The Alfred Hitchcock Papers are housed at the Academy\\'s Margaret Herrick Library. The David O. Selznick and the Ernest Lehman collections housed at the Harry Ransom Humanities Research Center in Austin, Texas, contain material related to Hitchcock\\'s work on the production of The Paradine Case, Rebecca, Spellbound, North by Northwest and Family Plot.\\n\\nHitchcock portrayals\\n Anthony Hopkins in Hitchcock (2012)\\n Toby Jones in The Girl (2012)\\n Roger Ashton-Griffiths in Grace of Monaco (2014)\\n EpicLLOYD in the YouTube comedy series Epic Rap Battles of History. (2014)\\n\\nFilmography\\nFilmsSilent filmsSound filmsSee also\\n Alfred Hitchcock\\'s unrealized projects\\n List of Alfred Hitchcock cameo appearances\\n List of film director and actor collaborations\\n\\nNotes and sources\\nNotes\\n\\nReferences\\n\\nWorks citedBiographies (chronological)\\n\\n \\n \\n \\n \\n \\n \\n \\n \\n Miscellaneous\\'\\'\\'\\n\\n \\n \\n \\n \\n \\n \\n \\n \\n \\n \\n \\n \\n \\n \\n \\n \\n \\n \\n \\n  \\n \\n \\n \\n \\n \\n \\n \\n \\n \\n \\n \\n \\n \\n \\n \\n \\n \\n \\n \\n\\nFurther reading\\nArticles\\n Hitchcock\\'s Style – BFI Screenonline\\n Alfred Hitchcock: England\\'s Biggest and Best Director Goes to Hollywood – Life, 20 November 1939, p. 33-43\\n Alfred Hitchcock Now Says Actors Are Children, Not Cattle – Boston Globe, 1 June 1958, p. A-11\\n \\'Twas Alfred Hitchcock Week in London – Variety, 17 August 1966, p. 16\\n\\nBooks\\n\\n \\n \\n Deflem, Mathieu. 2016. \"Alfred Hitchcock: Visions of Guilt and Innocence.\"  pp.\\xa0203–227 in Framing Law and Crime: An Interdisciplinary Anthology, edited by Caroline Joan S. Picart, Michael Hviid Jacobsen, and Cecil Greek. Latham, MD; Madison, NJ: Rowman & Littlefield; Fairleigh Dickinson University Press.\\n \\n \\n \\n \\n  \\n  \\n \\n \\n \\n \\n \\n \\n \\n \\n Slavoj Žižek et al.:Everything You Always Wanted to Know About Lacan But Were Afraid to Ask Hitchcock\\'\\', London and New York, Verso, 2nd ed.. 2010.\\n\\nExternal links\\n\\n \\n \\n \\n Alfred Hitchcock at the British Film Institute\\n \\n \\n \\n\\n \\n1899 births\\n1980 deaths\\n20th-century English screenwriters\\nAFI Life Achievement Award recipients\\nArticles containing video clips\\nBAFTA fellows\\nBritish Army personnel of World War I\\nCecil B. DeMille Award Golden Globe winners\\nDeaths from kidney failure\\nDirectors Guild of America Award winners\\nEdgar Award winners\\nEnglish emigrants to the United States\\nEnglish expatriates in the United States\\nEnglish film directors\\nEnglish film producers\\nEnglish male screenwriters\\nEnglish people of Irish descent\\nEnglish Roman Catholics\\nEnglish television directors\\nEnglish television producers\\nFilm directors from London\\nFilm directors from Los Angeles\\nFilm producers from California\\nFilm producers from London\\nGerman-language film directors\\nHorror film directors\\nHorror film producers\\nKnights Commander of the Order of the British Empire\\nMilitary personnel from Essex\\nPeople educated at St Ignatius\\' College, Enfield\\nPeople from Bel Air, Los Angeles\\nPeople from Leytonstone\\nPeople with acquired American citizenship\\nPeople with multiple nationality\\nRecipients of the Irving G. Thalberg Memorial Award\\nRoyal Engineers soldiers\\nSilent film directors\\nSilent film screenwriters'}"
      ]
     },
     "execution_count": 12,
     "metadata": {},
     "output_type": "execute_result"
    }
   ],
   "source": [
    "wikids['train'][1]"
   ]
  },
  {
   "cell_type": "code",
   "execution_count": 13,
   "id": "9b835439",
   "metadata": {},
   "outputs": [
    {
     "data": {
      "application/vnd.jupyter.widget-view+json": {
       "model_id": "95c09db3909a4ce88f45ff225c4237ec",
       "version_major": 2,
       "version_minor": 0
      },
      "text/plain": [
       "Map:   0%|          | 0/900 [00:00<?, ? examples/s]"
      ]
     },
     "metadata": {},
     "output_type": "display_data"
    },
    {
     "data": {
      "application/vnd.jupyter.widget-view+json": {
       "model_id": "a9d63b006a2242159813c2304d11a015",
       "version_major": 2,
       "version_minor": 0
      },
      "text/plain": [
       "Map:   0%|          | 0/100 [00:00<?, ? examples/s]"
      ]
     },
     "metadata": {},
     "output_type": "display_data"
    }
   ],
   "source": [
    "from typing import Dict, List, Any\n",
    "\n",
    "# define max token lengths for inputs\n",
    "max_length = 512\n",
    "\n",
    "def tokenize_function(sample: Dict[str, List[str]]) -> Dict[str, Any]:\n",
    "    \"\"\"\n",
    "    tokenize a batch of text samples for casual language modeling\n",
    "\n",
    "    Args:\n",
    "        sample (Dict[str, List[str]]): a dictionary of dataset fields, where each field maps to a list of values.\n",
    "        - Expected key: \"text\" (List[str]), a batch of raw text strings\n",
    "        - Example: {\n",
    "            ..., \n",
    "            'text': [\n",
    "                'Abimelech (also spelled Abimelek ...',\n",
    "                'Athene or Athena is the shrewd ...',\n",
    "                ...\n",
    "            ]\n",
    "        }\n",
    "\n",
    "    Returns:\n",
    "        Dict[str, Any]: a dictionary with tokenized outputs, where each key corresponds to a model input filed:\n",
    "        - 'input_ids' (List[List[int]): encoded token ids\n",
    "        - 'attention_mask' (List[list[int]]): 1 for tokends to attend, and 0 for padding\n",
    "        - 'token_type_ids' (Optional[List[list[int]]]): only for tokenizers that use them\n",
    "    \"\"\"    \n",
    "    \n",
    "    return tokenizer(\n",
    "        sample['text'],             # batch of raw text strings\n",
    "        padding='max_length',       # pad to a fixed length for batching\n",
    "        truncation=True,            # truncate large texts if len(text) > max_length\n",
    "        return_tensors='pt',        # return as pytorch tensors\n",
    "        add_special_tokens=True,    # ensure begginging and end of sentence (<\\bos>, and <\\eos>) are added.\n",
    "        max_length=max_length,      # hard cap on senquence length\n",
    "    )\n",
    "\n",
    "\n",
    "# apply tokenizer across dataset\n",
    "tokenized = wikids.map(\n",
    "    tokenize_function, \n",
    "    batched=True, \n",
    "    remove_columns=wikids['train'].column_names     # in case of wikids, columns are ['id', 'url', 'title', 'text']\n",
    ")"
   ]
  },
  {
   "cell_type": "code",
   "execution_count": 14,
   "id": "2dc8bf62",
   "metadata": {},
   "outputs": [
    {
     "data": {
      "text/plain": [
       "DatasetDict({\n",
       "    train: Dataset({\n",
       "        features: ['input_ids', 'attention_mask'],\n",
       "        num_rows: 900\n",
       "    })\n",
       "    test: Dataset({\n",
       "        features: ['input_ids', 'attention_mask'],\n",
       "        num_rows: 100\n",
       "    })\n",
       "})"
      ]
     },
     "execution_count": 14,
     "metadata": {},
     "output_type": "execute_result"
    }
   ],
   "source": [
    "# in comparision to wikids, features ['id', 'url', 'title', 'text'] were removed \n",
    "# and ['input_ids', 'attention_mask'] were added.\n",
    "tokenized"
   ]
  },
  {
   "cell_type": "markdown",
   "id": "7d56c45b",
   "metadata": {},
   "source": [
    "**Checkout the text generation of the PRETRAINED Mistral-7B model**"
   ]
  },
  {
   "cell_type": "code",
   "execution_count": 15,
   "id": "0025047a",
   "metadata": {},
   "outputs": [
    {
     "data": {
      "application/vnd.jupyter.widget-view+json": {
       "model_id": "9458fb0fb9754964a8b48923ed7bbf3f",
       "version_major": 2,
       "version_minor": 0
      },
      "text/plain": [
       "Loading checkpoint shards:   0%|          | 0/3 [00:00<?, ?it/s]"
      ]
     },
     "metadata": {},
     "output_type": "display_data"
    },
    {
     "name": "stderr",
     "output_type": "stream",
     "text": [
      "Setting `pad_token_id` to `eos_token_id`:2 for open-end generation.\n"
     ]
    },
    {
     "data": {
      "text/plain": [
       "'<s> Once upon a time, there was a little girl who loved to read. She loved to read so much that she would read books over and over again. She would read books about princesses and fairies and dragons and wizards. She would read books about pirates and mermaids and unicorns and witches. She would read books about knights and castles and kings and queens. She would read books about magic and adventure and mystery and romance. She'"
      ]
     },
     "execution_count": 15,
     "metadata": {},
     "output_type": "execute_result"
    }
   ],
   "source": [
    "from transformers import MistralForCausalLM, MistralConfig\n",
    "\n",
    "# get the original pretrained Mistral 7B model and check the model output\n",
    "# we want to compare the results with a smaller trained model!\n",
    "model_org = MistralForCausalLM.from_pretrained(model_id, device_map='mps')\n",
    "\n",
    "# generate output using the PRETRAINED MISTRAL MODEL \n",
    "inputs = tokenizer(\"Once upon a time\", return_tensors=\"pt\").to(model_org.device)\n",
    "outputs = model_org.generate(**inputs, max_length=100)\n",
    "tokenizer.decode(outputs[0], skip_special_tokens=False)"
   ]
  },
  {
   "cell_type": "markdown",
   "id": "2487b29c",
   "metadata": {},
   "source": [
    "**Define a smaller Mistral-like config for experimentation**"
   ]
  },
  {
   "cell_type": "code",
   "execution_count": 16,
   "id": "2f5947c3",
   "metadata": {},
   "outputs": [
    {
     "data": {
      "text/plain": [
       "MistralConfig {\n",
       "  \"attention_dropout\": 0.0,\n",
       "  \"bos_token_id\": 1,\n",
       "  \"eos_token_id\": 2,\n",
       "  \"head_dim\": 128,\n",
       "  \"hidden_act\": \"silu\",\n",
       "  \"hidden_size\": 4096,\n",
       "  \"initializer_range\": 0.02,\n",
       "  \"intermediate_size\": 14336,\n",
       "  \"max_position_embeddings\": 131072,\n",
       "  \"model_type\": \"mistral\",\n",
       "  \"num_attention_heads\": 32,\n",
       "  \"num_hidden_layers\": 32,\n",
       "  \"num_key_value_heads\": 8,\n",
       "  \"rms_norm_eps\": 1e-06,\n",
       "  \"rope_theta\": 10000.0,\n",
       "  \"sliding_window\": 4096,\n",
       "  \"tie_word_embeddings\": false,\n",
       "  \"transformers_version\": \"4.48.1\",\n",
       "  \"use_cache\": true,\n",
       "  \"vocab_size\": 32000\n",
       "}"
      ]
     },
     "execution_count": 16,
     "metadata": {},
     "output_type": "execute_result"
    }
   ],
   "source": [
    "MistralConfig()"
   ]
  },
  {
   "cell_type": "code",
   "execution_count": 17,
   "id": "48601a33",
   "metadata": {},
   "outputs": [],
   "source": [
    "# consider smaller model that fits on my laptop\n",
    "config = MistralConfig(\n",
    "    hidden_size=1024,                       # reduced hidden size (default 4096 in Mistral-7B model)\n",
    "    sliding_window=1024,                    # reduced sliding window (default 4096 in Mistral-7B model)\n",
    "    intermediate_size=3077*2,               # FeedForward Network size (default 14336 in Mistral-7B model)\n",
    "    max_position_embeddings=max_length,     # reduced max_position_embeddings (default 131072 in Mistral 7B-Model)\n",
    "    num_attention_heads=16,                 # reduced num_attention_heads (default 32 in Mistral-7B model)\n",
    "    num_hidden_layers=8                     # Number of decoder blocks (default 32 in Mistral-7B model)\n",
    ")\n",
    "\n",
    "\n",
    "# instantiate small Mistral model from customized config file\n",
    "model = MistralForCausalLM(config)\n",
    "model = model.to(device)"
   ]
  },
  {
   "cell_type": "code",
   "execution_count": 18,
   "id": "5b837848",
   "metadata": {},
   "outputs": [
    {
     "name": "stdout",
     "output_type": "stream",
     "text": [
      "mps:0\n"
     ]
    }
   ],
   "source": [
    "# check if model parameters are on 'mps'\n",
    "print(next(model.parameters()).device)"
   ]
  },
  {
   "cell_type": "code",
   "execution_count": 19,
   "id": "61c4019e",
   "metadata": {},
   "outputs": [
    {
     "name": "stdout",
     "output_type": "stream",
     "text": [
      "Model parameter count: 241,959,936\n"
     ]
    }
   ],
   "source": [
    "# inspect model size\n",
    "model_param_size = sum([param.numel() for param in model.parameters()])\n",
    "print(f'Model parameter count: {model_param_size:,}')"
   ]
  },
  {
   "cell_type": "code",
   "execution_count": 20,
   "id": "4e28b75d",
   "metadata": {},
   "outputs": [],
   "source": [
    "# in causual language model, the labels are the same as input\n",
    "from transformers import DataCollatorForLanguageModeling\n",
    "\n",
    "# data collator prepares batches of tokenized text for training\n",
    "# in causal ML training, labels are identical to inputs \n",
    "# (however, HuggingFace automatically shifts the labels during trainig)\n",
    "data_colator = DataCollatorForLanguageModeling(\n",
    "    tokenizer=tokenizer,\n",
    "    mlm=False, # no masked language modelling -> causual LM\n",
    "    return_tensors='pt'\n",
    ")"
   ]
  },
  {
   "cell_type": "code",
   "execution_count": 21,
   "id": "cf63dac3",
   "metadata": {},
   "outputs": [
    {
     "data": {
      "text/plain": [
       "{'input_ids': tensor([[    1,  3252, 26150,  ...,  1040,  1766,  1194],\n",
       "        [    1,  9119, 17072,  ...,  1623,  1032,  1310]]), 'attention_mask': tensor([[1, 1, 1,  ..., 1, 1, 1],\n",
       "        [1, 1, 1,  ..., 1, 1, 1]]), 'labels': tensor([[    1,  3252, 26150,  ...,  1040,  1766,  1194],\n",
       "        [    1,  9119, 17072,  ...,  1623,  1032,  1310]])}"
      ]
     },
     "execution_count": 21,
     "metadata": {},
     "output_type": "execute_result"
    }
   ],
   "source": [
    "# test batch collation\n",
    "\n",
    "# note that tokenized['train'][i] is a dictionary with keys: input_ids, attention_mask, etc.\n",
    "# and tokenized['train'][0:1] returns a Dataset object (a slice of length 1), not a list of dicts.\n",
    "data_colator(\n",
    "    [tokenized['train'][i] for i in range(2)]   # a list of dictionaries\n",
    ")   # creates a batch of 2 samples"
   ]
  },
  {
   "cell_type": "code",
   "execution_count": 22,
   "id": "b04105cb",
   "metadata": {},
   "outputs": [
    {
     "data": {
      "text/html": [
       "\n",
       "    <div>\n",
       "      \n",
       "      <progress value='1125' max='1125' style='width:300px; height:20px; vertical-align: middle;'></progress>\n",
       "      [1125/1125 09:12, Epoch 5/5]\n",
       "    </div>\n",
       "    <table border=\"1\" class=\"dataframe\">\n",
       "  <thead>\n",
       " <tr style=\"text-align: left;\">\n",
       "      <th>Epoch</th>\n",
       "      <th>Training Loss</th>\n",
       "      <th>Validation Loss</th>\n",
       "    </tr>\n",
       "  </thead>\n",
       "  <tbody>\n",
       "    <tr>\n",
       "      <td>1</td>\n",
       "      <td>No log</td>\n",
       "      <td>6.506760</td>\n",
       "    </tr>\n",
       "    <tr>\n",
       "      <td>2</td>\n",
       "      <td>No log</td>\n",
       "      <td>6.143845</td>\n",
       "    </tr>\n",
       "    <tr>\n",
       "      <td>3</td>\n",
       "      <td>6.532600</td>\n",
       "      <td>6.027870</td>\n",
       "    </tr>\n",
       "    <tr>\n",
       "      <td>4</td>\n",
       "      <td>6.532600</td>\n",
       "      <td>6.014984</td>\n",
       "    </tr>\n",
       "    <tr>\n",
       "      <td>5</td>\n",
       "      <td>5.175400</td>\n",
       "      <td>6.045206</td>\n",
       "    </tr>\n",
       "  </tbody>\n",
       "</table><p>"
      ],
      "text/plain": [
       "<IPython.core.display.HTML object>"
      ]
     },
     "metadata": {},
     "output_type": "display_data"
    },
    {
     "data": {
      "text/plain": [
       "TrainOutput(global_step=1125, training_loss=5.730242078993055, metrics={'train_runtime': 553.3155, 'train_samples_per_second': 8.133, 'train_steps_per_second': 2.033, 'total_flos': 2891869323264000.0, 'train_loss': 5.730242078993055, 'epoch': 5.0})"
      ]
     },
     "execution_count": 22,
     "metadata": {},
     "output_type": "execute_result"
    }
   ],
   "source": [
    "from transformers import Trainer, TrainingArguments\n",
    "\n",
    "# define training argument (adjust based on available resources)\n",
    "trainings_args = TrainingArguments(\n",
    "    output_dir=\"mistral7B/pretrained\",  # where to save the model\n",
    "    overwrite_output_dir=True,          # overwrite the content of the output directory\n",
    "    num_train_epochs=5,                 # number of training epochs\n",
    "    per_device_train_batch_size=4,      # batch size for training\n",
    "    per_device_eval_batch_size=4,       # batch size for evaluation\n",
    "    eval_strategy=\"epoch\",              # evaluate each `epoch`\n",
    "    report_to='none',                   # disable wandb as we are not using it here\n",
    "    bf16=False,                         # use bf16 if your GPU supports it\n",
    "    push_to_hub=True,                  # whether to push the model to the Hub or not (default False)\n",
    "    hub_model_id='bachephysicdun/dummy-pretrained-mistral7b',  # set the repo name\n",
    "    hub_private_repo=False              # set True for private repo\n",
    ")\n",
    "\n",
    "# Trainer handles training loop, evaluation, and logging\n",
    "trainer = Trainer(\n",
    "    model=model,\n",
    "    args=trainings_args,\n",
    "    train_dataset=tokenized['train'],\n",
    "    eval_dataset=tokenized['test'],\n",
    "    data_collator=data_colator,\n",
    "    processing_class=tokenizer\n",
    ")\n",
    "\n",
    "# train (small) model on a small dataset (for experimentation purpose)\n",
    "trainer.train()"
   ]
  },
  {
   "cell_type": "markdown",
   "id": "8c5edd4b",
   "metadata": {},
   "source": [
    "To measure the quality of lm training, a common metric is perplexity which is defined as follows:\n",
    "> $\\text{Perplexity} = 2^{\\left\\{ -\\frac{1}{T} \\sum_{i=1}^{T} \\log_2 p(t_i) \\right\\}} = e^{\\left\\{ -\\frac{1}{T} \\sum_{i=1}^{T} \\ln p(t_i) \\right\\}}$\n",
    "\n",
    "where $T$ is total number of tokens in test set and $p(t_i)$ is probability of ith token in test set (Note that $\\log_2(x) = \\frac{\\ln x}{\\ln 2}$ is used to rewrite perplexity from base-2 log to base-$e$ one). If the model is very confident in predicting the next token $\\text{Perplexity}=1$.\n",
    "\n",
    "> A perplexity of 400 (as we get from simple model training here) means that, on average, predicting the next word is as uncertain as choosing uniformly from 400 equally probable options."
   ]
  },
  {
   "cell_type": "code",
   "execution_count": 23,
   "id": "866117c3",
   "metadata": {},
   "outputs": [
    {
     "data": {
      "text/html": [
       "\n",
       "    <div>\n",
       "      \n",
       "      <progress value='25' max='25' style='width:300px; height:20px; vertical-align: middle;'></progress>\n",
       "      [25/25 00:02]\n",
       "    </div>\n",
       "    "
      ],
      "text/plain": [
       "<IPython.core.display.HTML object>"
      ]
     },
     "metadata": {},
     "output_type": "display_data"
    },
    {
     "name": "stdout",
     "output_type": "stream",
     "text": [
      "Perplexity: 422.0847274986255\n"
     ]
    }
   ],
   "source": [
    "# evaluate perplexity metric\n",
    "import math\n",
    "\n",
    "eval_results = trainer.evaluate()\n",
    "if eval_results.get('eval_loss'):\n",
    "    print(\"Perplexity:\", math.exp(eval_results[\"eval_loss\"]))"
   ]
  },
  {
   "cell_type": "code",
   "execution_count": 24,
   "id": "7f348a07",
   "metadata": {},
   "outputs": [
    {
     "name": "stderr",
     "output_type": "stream",
     "text": [
      "Setting `pad_token_id` to `eos_token_id`:2 for open-end generation.\n"
     ]
    },
    {
     "data": {
      "text/plain": [
       "'Once upon a time (; 1985 – 1901) was a French known as the first-in-in-S. He was the first-S. He was the first of the 190s. He was the 190s in 1900, and the 1900s.\\n\\nEarly life\\n\\nEarly life\\n\\nEarly life\\n\\nB was born in 19'"
      ]
     },
     "execution_count": 24,
     "metadata": {},
     "output_type": "execute_result"
    }
   ],
   "source": [
    "# quick text generation (and compared with the output of the pretrained Mistral-7B model)\n",
    "inputs = tokenizer(\"Once upon a time\", return_tensors=\"pt\").to(model.device)\n",
    "outputs = model.generate(**inputs, max_length=100)\n",
    "tokenizer.decode(outputs[0], skip_special_tokens=True)"
   ]
  },
  {
   "cell_type": "code",
   "execution_count": 25,
   "id": "6ec543b1",
   "metadata": {},
   "outputs": [
    {
     "data": {
      "application/vnd.jupyter.widget-view+json": {
       "model_id": "34a1fece362647cfb34c3f62752eb9fb",
       "version_major": 2,
       "version_minor": 0
      },
      "text/plain": [
       "model.safetensors:   0%|          | 0.00/968M [00:00<?, ?B/s]"
      ]
     },
     "metadata": {},
     "output_type": "display_data"
    },
    {
     "data": {
      "text/plain": [
       "CommitInfo(commit_url='https://huggingface.co/bachephysicdun/dummy-pretrained-mistral7b/commit/62c2fd361aac7f8382866a61e1ae3b9ee612c9b3', commit_message='End of training', commit_description='', oid='62c2fd361aac7f8382866a61e1ae3b9ee612c9b3', pr_url=None, repo_url=RepoUrl('https://huggingface.co/bachephysicdun/dummy-pretrained-mistral7b', endpoint='https://huggingface.co', repo_type='model', repo_id='bachephysicdun/dummy-pretrained-mistral7b'), pr_revision=None, pr_num=None)"
      ]
     },
     "execution_count": 25,
     "metadata": {},
     "output_type": "execute_result"
    }
   ],
   "source": [
    "# push the model to huggingface hub (we want to use it later for fine tuning)\n",
    "trainer.push_to_hub()"
   ]
  },
  {
   "cell_type": "code",
   "execution_count": null,
   "id": "ee05964e",
   "metadata": {},
   "outputs": [],
   "source": [
    "# if removing the model from hugging face is desired\n",
    "from huggingface_hub import delete_repo\n",
    "\n",
    "# delete a model repo\n",
    "delete_repo(\n",
    "    repo_id=\"username/my_repo_id\",\n",
    "    repo_type=\"model\"                # defaults to dataset\n",
    ")"
   ]
  }
 ],
 "metadata": {
  "kernelspec": {
   "display_name": "llmenv",
   "language": "python",
   "name": "venv"
  },
  "language_info": {
   "codemirror_mode": {
    "name": "ipython",
    "version": 3
   },
   "file_extension": ".py",
   "mimetype": "text/x-python",
   "name": "python",
   "nbconvert_exporter": "python",
   "pygments_lexer": "ipython3",
   "version": "3.11.11"
  }
 },
 "nbformat": 4,
 "nbformat_minor": 5
}
